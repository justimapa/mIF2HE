{
 "metadata": {
  "language_info": {
   "codemirror_mode": {
    "name": "ipython",
    "version": 3
   },
   "file_extension": ".py",
   "mimetype": "text/x-python",
   "name": "python",
   "nbconvert_exporter": "python",
   "pygments_lexer": "ipython3",
   "version": "3.6.9"
  },
  "orig_nbformat": 4,
  "kernelspec": {
   "name": "python3",
   "display_name": "Python 3.6.9 64-bit ('mIF2HE_env': virtualenv)"
  },
  "interpreter": {
   "hash": "5a79a35640cf8063e370941b80f23c35acbd868398139e4a414defc144cc6ddd"
  }
 },
 "nbformat": 4,
 "nbformat_minor": 2,
 "cells": [
  {
   "cell_type": "code",
   "execution_count": 1,
   "source": [
    "import pandas as pd\n",
    "import numpy as np \n",
    "import matplotlib.pyplot as plt\n",
    "\n",
    "import cv2\n",
    "import random\n",
    "import tables\n",
    "import openslide\n",
    "from misc.utils import extract_patch, draw_circle,is_nucleus\n",
    "\n",
    "import torch\n",
    "import logging\n",
    "import os\n",
    "import copy\n",
    "\n",
    "import torch\n",
    "import logging\n",
    "import os\n",
    "import copy\n",
    "from misc.utils import log_info\n"
   ],
   "outputs": [],
   "metadata": {}
  },
  {
   "cell_type": "code",
   "execution_count": 2,
   "source": [
    "\n",
    "#Logging\n",
    "logging.basicConfig(\n",
    "    level=logging.INFO,\n",
    "    format='|%(asctime)s.%(msecs)03d| [%(levelname)s] %(message)s',datefmt='%Y-%m-%d|%H:%M:%S',\n",
    "    handlers=[\n",
    "        logging.FileHandler(\"debug.log\"),\n",
    "        logging.StreamHandler()\n",
    "    ]\n",
    ")"
   ],
   "outputs": [],
   "metadata": {}
  },
  {
   "cell_type": "code",
   "execution_count": 3,
   "source": [
    "HE_path = 'wsi/MELANOMA_AA3_40X_Scan1.qptiff'\n",
    "HE_open = openslide.OpenSlide(HE_path)\n",
    "HE_open.properties['tiff.XResolution']"
   ],
   "outputs": [
    {
     "output_type": "execute_result",
     "data": {
      "text/plain": [
       "'40011.246972350571'"
      ]
     },
     "metadata": {},
     "execution_count": 3
    }
   ],
   "metadata": {}
  },
  {
   "cell_type": "code",
   "execution_count": 4,
   "source": [
    "# Checking for GPU\n",
    "gpu_list = '0'\n",
    "os.environ['CUDA_VISIBLE_DEVICES'] = gpu_list\n",
    "nr_gpus = torch.cuda.device_count()\n",
    "log_info('Detect #GPUS: %d' % nr_gpus)"
   ],
   "outputs": [
    {
     "output_type": "stream",
     "name": "stderr",
     "text": [
      "|2021-09-14|16:59:14.303| [INFO]  Detect #GPUS: 1\n"
     ]
    }
   ],
   "metadata": {}
  },
  {
   "cell_type": "code",
   "execution_count": 5,
   "source": [
    "method_args = {\n",
    "    'method' : {\n",
    "        'model_args' : {\n",
    "            'nr_types'   : None,\n",
    "            'mode'       : 'original',\n",
    "        },\n",
    "        'model_path' : 'pretrained/hovernet_original_consep_notype_tf2pytorch.tar',\n",
    "    },\n",
    "    'type_info_path'  : None,\n",
    "}"
   ],
   "outputs": [],
   "metadata": {}
  },
  {
   "cell_type": "code",
   "execution_count": 6,
   "source": [
    "run_args = {\n",
    "    'batch_size' : 8 * nr_gpus,\n",
    "    'nr_inference_workers' : 8,\n",
    "    'nr_post_proc_workers' : 16,\n",
    "    'patch_input_shape': 270,\n",
    "    'patch_output_shape' : 80,\n",
    "    'input_dir'      : './wsi/',\n",
    "    'output_dir'     : './hovernet_output/',\n",
    "    'cache_path'     : 'cache',\n",
    "    'input_mask_dir' : '',\n",
    "    'proc_mag'       : 40,\n",
    "    'ambiguous_size' : 128,\n",
    "    'chunk_shape'    : 10000,\n",
    "    'tile_shape'     : 2048,\n",
    "    'save_thumb'     : False,\n",
    "    'save_mask'      : True,\n",
    "}"
   ],
   "outputs": [],
   "metadata": {}
  },
  {
   "cell_type": "code",
   "execution_count": 7,
   "source": [
    "from infer.wsi import InferManager\n",
    "infer = InferManager(**method_args)\n",
    "infer.process_wsi_list(run_args)\n"
   ],
   "outputs": [
    {
     "output_type": "stream",
     "name": "stderr",
     "text": [
      "|2021-09-14|16:59:17.871| [INFO] ................ Process: MELANOMA_AA3_40X_Scan1\n",
      "|2021-09-14|16:59:17.874| [ERROR] Crash\n",
      "Traceback (most recent call last):\n",
      "  File \"/data/home/jmapanao/mIF2HE/infer/wsi.py\", line 739, in process_wsi_list\n",
      "    self.process_single_file(wsi_path, msk_path, self.output_dir)\n",
      "  File \"/data/home/jmapanao/mIF2HE/infer/wsi.py\", line 466, in process_single_file\n",
      "    read_mag=self.proc_mag, cache_path=\"%s/src_wsi.npy\" % self.cache_path\n",
      "  File \"/data/home/jmapanao/mIF2HE/misc/wsi_handler.py\", line 72, in prepare_reading\n",
      "    np.save(cache_path, self.get_full_img(read_mag=read_mag))\n",
      "  File \"/data/home/jmapanao/mIF2HE/misc/wsi_handler.py\", line 182, in get_full_img\n",
      "    wsi_img = self.file_ptr.read_region((0, 0), read_lv, read_size)\n",
      "  File \"/data/home/jmapanao/mIF2HE/mIF2HE_env/lib/python3.6/site-packages/openslide/__init__.py\", line 229, in read_region\n",
      "    level, size[0], size[1])\n",
      "  File \"/data/home/jmapanao/mIF2HE/mIF2HE_env/lib/python3.6/site-packages/openslide/lowlevel.py\", line 213, in read_region\n",
      "    buf = (w * h * c_uint32)()\n",
      "MemoryError\n"
     ]
    }
   ],
   "metadata": {}
  }
 ]
}