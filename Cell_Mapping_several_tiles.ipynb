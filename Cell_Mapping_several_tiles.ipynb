{
 "cells": [
  {
   "cell_type": "code",
   "execution_count": 1,
   "metadata": {},
   "outputs": [],
   "source": [
    "import openslide\n",
    "import math\n",
    "import sys, os\n",
    "import cv2\n",
    "import tables\n",
    "import random\n",
    "import gc\n",
    "\n",
    "\n",
    "import numpy as np\n",
    "import matplotlib.pyplot as plt\n",
    "import SimpleITK as sitk # (modified with elastix)\n",
    "import pandas as pd\n",
    "import seaborn as sns\n",
    "\n",
    "\n",
    "from collections import Counter \n",
    "from skimage.transform import resize\n",
    "from tifffile import imread, imwrite\n",
    "from ipywidgets import interact, fixed\n",
    "from skimage import morphology, filters\n",
    "import sklearn.feature_extraction.image\n",
    "from PIL import Image\n",
    "\n",
    "from sklearn.model_selection import train_test_split\n",
    "\n",
    "from misc.utils import *\n",
    "\n",
    "import torch\n",
    "import logging\n",
    "\n",
    "import glob\n",
    "import traceback\n",
    "import json\n",
    "\n",
    "from pathlib import Path\n",
    "from tqdm.autonotebook import tqdm\n",
    "from scipy.spatial.distance import cdist\n",
    "\n",
    "from infer.tile import InferManager\n",
    "\n"
   ]
  },
  {
   "cell_type": "markdown",
   "metadata": {},
   "source": [
    "# Global Variables"
   ]
  },
  {
   "cell_type": "code",
   "execution_count": 2,
   "metadata": {},
   "outputs": [],
   "source": [
    "# Path of IF and HE image files \n",
    "\n",
    "IF_path = 'Experiment/IF40X/HE2mIF_MELANOME_3/Scan1/HE2mIF_MELANOME_3_Scan1.qptiff'\n",
    "HE_path = 'Experiment/HE40X/MELANOMA_AA3_40X/Scan1/MELANOMA_AA3_40X_Scan1.qptiff'\n"
   ]
  },
  {
   "cell_type": "markdown",
   "metadata": {},
   "source": [
    "# Retrieve Cells"
   ]
  },
  {
   "cell_type": "markdown",
   "metadata": {},
   "source": [
    "## Cells Locations"
   ]
  },
  {
   "cell_type": "code",
   "execution_count": 3,
   "metadata": {},
   "outputs": [],
   "source": [
    "# Load images using OpenSlide\n",
    "IF_open = openslide.OpenSlide(IF_path)\n",
    "HE_open = openslide.OpenSlide(HE_path)\n",
    "\n",
    "# Gets the origin of the IF image\n",
    "# cm to micrometer to find this it will find \n",
    "OR_x = float(IF_open.properties['tiff.XPosition'])*10000\n",
    "OR_y = float(IF_open.properties['tiff.YPosition'])*10000\n",
    "\n",
    "# Gets the resolution of the IF image\n",
    "x_resolution = float(IF_open.properties['tiff.XResolution'])*1e-4\n",
    "y_resolution = float(IF_open.properties['tiff.YResolution'])*1e-4\n",
    "\n",
    "\n",
    "dimensions = IF_open.dimensions"
   ]
  },
  {
   "cell_type": "code",
   "execution_count": 4,
   "metadata": {},
   "outputs": [],
   "source": [
    "# Reads the cell locations from inForm analysis software\n",
    "cells_locations = pd.read_csv('Experiment/Cells_locations/Melanome_3/Merged__cell_seg_data.txt', sep='\\t', usecols=['Cell X Position', 'Cell Y Position', 'Phenotype'])\n",
    "\n",
    "# Removes the offset (origin)\n",
    "cells_locations['cell_x_position'] = cells_locations['Cell X Position'] - OR_x\n",
    "cells_locations['cell_y_position'] = cells_locations['Cell Y Position'] - OR_y\n",
    "\n",
    "# Converts the position from cm to pixel position\n",
    "cells_locations['cell_xpixel_position'] = cells_locations.cell_x_position.apply(lambda x: x*x_resolution).values\n",
    "cells_locations['cell_ypixel_position'] = cells_locations.cell_y_position.apply(lambda x: x*y_resolution).values"
   ]
  },
  {
   "cell_type": "markdown",
   "metadata": {},
   "source": [
    "## Mask Generation"
   ]
  },
  {
   "cell_type": "markdown",
   "metadata": {},
   "source": [
    "['CD3p', 'SOX10p', 'CD56p', 'CD11Cp', 'CD68p', 'CD20p']"
   ]
  },
  {
   "cell_type": "markdown",
   "metadata": {},
   "source": [
    "# mIF to H&E Image Registration "
   ]
  },
  {
   "cell_type": "markdown",
   "metadata": {},
   "source": [
    "## Load Image & ROI Selection"
   ]
  },
  {
   "cell_type": "code",
   "execution_count": 5,
   "metadata": {},
   "outputs": [],
   "source": [
    "def distance (x1,y1,x2,y2) :\n",
    "    Distance = math.sqrt((x1-x2)**2 + (y1-y2)**2)\n",
    "    return Distance\n",
    "\n",
    "def closest_point(point, points):\n",
    "    \"\"\" Find closest point from a list of points. \"\"\"\n",
    "    return points[torch.cdist(torch.tensor([point]), torch.tensor(points)).argmin()]\n",
    "\n",
    "def match_value(df, col1, x, col2):\n",
    "    \"\"\" Match value x from col1 row to value in col2. \"\"\"\n",
    "    return df[df[col1] == x][col2].values[0]"
   ]
  },
  {
   "cell_type": "code",
   "execution_count": 6,
   "metadata": {},
   "outputs": [
    {
     "name": "stdout",
     "output_type": "stream",
     "text": [
      "Detect #GPUS: 1\n"
     ]
    }
   ],
   "source": [
    "# Checking for GPU\n",
    "gpu_list = '0'\n",
    "os.environ['CUDA_VISIBLE_DEVICES'] = gpu_list\n",
    "nr_gpus = torch.cuda.device_count()\n",
    "print('Detect #GPUS: %d' % nr_gpus)\n"
   ]
  },
  {
   "cell_type": "code",
   "execution_count": 7,
   "metadata": {},
   "outputs": [],
   "source": [
    "method_args = {\n",
    "    'method' : {\n",
    "        'model_args' : {\n",
    "            'nr_types'   : None,\n",
    "            'mode'       : 'original',\n",
    "        },\n",
    "        'model_path' : 'pretrained/hovernet_original_consep_notype_tf2pytorch.tar',\n",
    "    },\n",
    "    'type_info_path'  : None,\n",
    "}\n",
    "run_args = {\n",
    "    'batch_size' : 8 * nr_gpus,\n",
    "    'nr_inference_workers' : 8,\n",
    "    'nr_post_proc_workers' : 16,\n",
    "    'patch_input_shape': 270,\n",
    "    'patch_output_shape' : 80,\n",
    "    'input_dir'      : './tiles/',\n",
    "    'output_dir'     : './hovernet_output/',\n",
    "    'mem_usage': 0.8,\n",
    "    'draw_dot' : False,\n",
    "    'save_qupath' : False,\n",
    "    'save_raw_map' : False,\n",
    "}"
   ]
  },
  {
   "cell_type": "code",
   "execution_count": null,
   "metadata": {},
   "outputs": [
    {
     "data": {
      "application/vnd.jupyter.widget-view+json": {
       "model_id": "79129ffd2c0e4cb5ac143be753cfea4e",
       "version_major": 2,
       "version_minor": 0
      },
      "text/plain": [
       "outer:   0%|          | 0/9 [00:00<?, ?it/s]"
      ]
     },
     "metadata": {},
     "output_type": "display_data"
    },
    {
     "data": {
      "application/vnd.jupyter.widget-view+json": {
       "model_id": "cb334e0f0c4647aa993f1a61c5a41fab",
       "version_major": 2,
       "version_minor": 0
      },
      "text/plain": [
       "inner:   0%|          | 0/19 [00:00<?, ?it/s]"
      ]
     },
     "metadata": {},
     "output_type": "display_data"
    },
    {
     "name": "stdout",
     "output_type": "stream",
     "text": [
      "IF : 8270 8150\n",
      "HE : 11000 9000\n"
     ]
    },
    {
     "data": {
      "application/vnd.jupyter.widget-view+json": {
       "model_id": "",
       "version_major": 2,
       "version_minor": 0
      },
      "text/plain": [
       "outer:   0%|          | 0/2 [00:00<?, ?it/s]"
      ]
     },
     "metadata": {},
     "output_type": "display_data"
    },
    {
     "data": {
      "application/vnd.jupyter.widget-view+json": {
       "model_id": "",
       "version_major": 2,
       "version_minor": 0
      },
      "text/plain": [
       "inner 0:   0%|          | 0/2 [00:00<?, ?it/s]"
      ]
     },
     "metadata": {},
     "output_type": "display_data"
    },
    {
     "data": {
      "application/vnd.jupyter.widget-view+json": {
       "model_id": "",
       "version_major": 2,
       "version_minor": 0
      },
      "text/plain": [
       "inner 1:   0%|          | 0/2 [00:00<?, ?it/s]"
      ]
     },
     "metadata": {},
     "output_type": "display_data"
    },
    {
     "name": "stdout",
     "output_type": "stream",
     "text": [
      "Done making patches!\n"
     ]
    },
    {
     "name": "stderr",
     "output_type": "stream",
     "text": [
      "Process Patches: 319it [01:34,  3.37it/s]                                       \n"
     ]
    },
    {
     "data": {
      "application/vnd.jupyter.widget-view+json": {
       "model_id": "",
       "version_major": 2,
       "version_minor": 0
      },
      "text/plain": [
       "outer:   0%|          | 0/2 [00:00<?, ?it/s]"
      ]
     },
     "metadata": {},
     "output_type": "display_data"
    },
    {
     "data": {
      "application/vnd.jupyter.widget-view+json": {
       "model_id": "",
       "version_major": 2,
       "version_minor": 0
      },
      "text/plain": [
       "innter 0:   0%|          | 0/2 [00:00<?, ?it/s]"
      ]
     },
     "metadata": {},
     "output_type": "display_data"
    },
    {
     "data": {
      "application/vnd.jupyter.widget-view+json": {
       "model_id": "",
       "version_major": 2,
       "version_minor": 0
      },
      "text/plain": [
       "innter 1:   0%|          | 0/2 [00:00<?, ?it/s]"
      ]
     },
     "metadata": {},
     "output_type": "display_data"
    },
    {
     "name": "stdout",
     "output_type": "stream",
     "text": [
      "\u001b[94mRegistering resized image\u001b[0m\n",
      "\u001b[92mdone\u001b[0m\n",
      "Rescaling original IF Image\n",
      "Rescaling original dots Image\n",
      "\u001b[94mPerforming multichannel tiling...\u001b[0m\n",
      "x window size: 2000\n",
      "ywindow size: 2000\n",
      "number of tiles along x axis: 2\n",
      "number of tiles along y axis: 2\n",
      "\u001b[92mdone\u001b[0m\n",
      "\u001b[94mPerforming multichannel tiling...\u001b[0m\n",
      "x window size: 2000\n",
      "ywindow size: 2000\n",
      "number of tiles along x axis: 2\n",
      "number of tiles along y axis: 2\n",
      "\u001b[92mdone\u001b[0m\n",
      "\u001b[94mPerforming multichannel tiling...\u001b[0m\n",
      "x window size: 2000\n",
      "ywindow size: 2000\n",
      "number of tiles along x axis: 2\n",
      "number of tiles along y axis: 2\n",
      "\u001b[92mdone\u001b[0m\n",
      "\u001b[94mperforming whole slide image registration...\u001b[0m\n",
      "registering frame 1/4\n",
      "registering frame 2/4\n",
      "registering frame 3/4\n",
      "registering frame 4/4\n",
      "\u001b[92mdone\u001b[0m\n",
      "Number of x intervals: 2\n",
      "Number of y intervals: 2\n",
      "Rescaling original dots Image\n",
      "\u001b[94mPerforming multichannel tiling...\u001b[0m\n",
      "x window size: 2000\n",
      "ywindow size: 2000\n",
      "number of tiles along x axis: 2\n",
      "number of tiles along y axis: 2\n",
      "\u001b[92mdone\u001b[0m\n",
      "Number of x intervals: 2\n",
      "Number of y intervals: 2\n",
      "Rescaling original dots Image\n",
      "\u001b[94mPerforming multichannel tiling...\u001b[0m\n",
      "x window size: 2000\n",
      "ywindow size: 2000\n",
      "number of tiles along x axis: 2\n",
      "number of tiles along y axis: 2\n",
      "\u001b[92mdone\u001b[0m\n",
      "Number of x intervals: 2\n",
      "Number of y intervals: 2\n",
      "Rescaling original dots Image\n",
      "\u001b[94mPerforming multichannel tiling...\u001b[0m\n",
      "x window size: 2000\n",
      "ywindow size: 2000\n",
      "number of tiles along x axis: 2\n",
      "number of tiles along y axis: 2\n",
      "\u001b[92mdone\u001b[0m\n",
      "Number of x intervals: 2\n",
      "Number of y intervals: 2\n",
      "Rescaling original dots Image\n",
      "\u001b[94mPerforming multichannel tiling...\u001b[0m\n",
      "x window size: 2000\n",
      "ywindow size: 2000\n",
      "number of tiles along x axis: 2\n",
      "number of tiles along y axis: 2\n",
      "\u001b[92mdone\u001b[0m\n",
      "Number of x intervals: 2\n",
      "Number of y intervals: 2\n",
      "Rescaling original dots Image\n",
      "\u001b[94mPerforming multichannel tiling...\u001b[0m\n",
      "x window size: 2000\n",
      "ywindow size: 2000\n",
      "number of tiles along x axis: 2\n",
      "number of tiles along y axis: 2\n",
      "\u001b[92mdone\u001b[0m\n",
      "Number of x intervals: 2\n",
      "Number of y intervals: 2\n"
     ]
    },
    {
     "data": {
      "application/vnd.jupyter.widget-view+json": {
       "model_id": "",
       "version_major": 2,
       "version_minor": 0
      },
      "text/plain": [
       "Mapping to the closest registered dot:   0%|          | 0/7617 [00:00<?, ?it/s]"
      ]
     },
     "metadata": {},
     "output_type": "display_data"
    },
    {
     "name": "stdout",
     "output_type": "stream",
     "text": [
      "IF : 8270 12150\n",
      "HE : 11000 13000\n"
     ]
    },
    {
     "data": {
      "application/vnd.jupyter.widget-view+json": {
       "model_id": "",
       "version_major": 2,
       "version_minor": 0
      },
      "text/plain": [
       "outer:   0%|          | 0/2 [00:00<?, ?it/s]"
      ]
     },
     "metadata": {},
     "output_type": "display_data"
    },
    {
     "data": {
      "application/vnd.jupyter.widget-view+json": {
       "model_id": "",
       "version_major": 2,
       "version_minor": 0
      },
      "text/plain": [
       "inner 0:   0%|          | 0/2 [00:00<?, ?it/s]"
      ]
     },
     "metadata": {},
     "output_type": "display_data"
    },
    {
     "data": {
      "application/vnd.jupyter.widget-view+json": {
       "model_id": "",
       "version_major": 2,
       "version_minor": 0
      },
      "text/plain": [
       "inner 1:   0%|          | 0/2 [00:00<?, ?it/s]"
      ]
     },
     "metadata": {},
     "output_type": "display_data"
    },
    {
     "name": "stdout",
     "output_type": "stream",
     "text": [
      "Done making patches!\n"
     ]
    },
    {
     "name": "stderr",
     "output_type": "stream",
     "text": [
      "Process Patches: 319it [01:34,  3.38it/s]                                       \n"
     ]
    },
    {
     "data": {
      "application/vnd.jupyter.widget-view+json": {
       "model_id": "",
       "version_major": 2,
       "version_minor": 0
      },
      "text/plain": [
       "outer:   0%|          | 0/2 [00:00<?, ?it/s]"
      ]
     },
     "metadata": {},
     "output_type": "display_data"
    },
    {
     "data": {
      "application/vnd.jupyter.widget-view+json": {
       "model_id": "",
       "version_major": 2,
       "version_minor": 0
      },
      "text/plain": [
       "innter 0:   0%|          | 0/2 [00:00<?, ?it/s]"
      ]
     },
     "metadata": {},
     "output_type": "display_data"
    },
    {
     "data": {
      "application/vnd.jupyter.widget-view+json": {
       "model_id": "",
       "version_major": 2,
       "version_minor": 0
      },
      "text/plain": [
       "innter 1:   0%|          | 0/2 [00:00<?, ?it/s]"
      ]
     },
     "metadata": {},
     "output_type": "display_data"
    },
    {
     "name": "stdout",
     "output_type": "stream",
     "text": [
      "\u001b[94mRegistering resized image\u001b[0m\n",
      "\u001b[92mdone\u001b[0m\n",
      "Rescaling original IF Image\n",
      "Rescaling original dots Image\n",
      "\u001b[94mPerforming multichannel tiling...\u001b[0m\n",
      "x window size: 2000\n",
      "ywindow size: 2000\n",
      "number of tiles along x axis: 2\n",
      "number of tiles along y axis: 2\n",
      "\u001b[92mdone\u001b[0m\n",
      "\u001b[94mPerforming multichannel tiling...\u001b[0m\n",
      "x window size: 2000\n",
      "ywindow size: 2000\n",
      "number of tiles along x axis: 2\n",
      "number of tiles along y axis: 2\n",
      "\u001b[92mdone\u001b[0m\n",
      "\u001b[94mPerforming multichannel tiling...\u001b[0m\n",
      "x window size: 2000\n",
      "ywindow size: 2000\n",
      "number of tiles along x axis: 2\n",
      "number of tiles along y axis: 2\n",
      "\u001b[92mdone\u001b[0m\n",
      "\u001b[94mperforming whole slide image registration...\u001b[0m\n",
      "registering frame 1/4\n",
      "registering frame 2/4\n",
      "registering frame 3/4\n",
      "registering frame 4/4\n",
      "\u001b[92mdone\u001b[0m\n",
      "Number of x intervals: 2\n",
      "Number of y intervals: 2\n",
      "Rescaling original dots Image\n",
      "\u001b[94mPerforming multichannel tiling...\u001b[0m\n",
      "x window size: 2000\n",
      "ywindow size: 2000\n",
      "number of tiles along x axis: 2\n",
      "number of tiles along y axis: 2\n",
      "\u001b[92mdone\u001b[0m\n",
      "Number of x intervals: 2\n",
      "Number of y intervals: 2\n",
      "Rescaling original dots Image\n",
      "\u001b[94mPerforming multichannel tiling...\u001b[0m\n",
      "x window size: 2000\n",
      "ywindow size: 2000\n",
      "number of tiles along x axis: 2\n",
      "number of tiles along y axis: 2\n",
      "\u001b[92mdone\u001b[0m\n",
      "Number of x intervals: 2\n",
      "Number of y intervals: 2\n",
      "Rescaling original dots Image\n",
      "\u001b[94mPerforming multichannel tiling...\u001b[0m\n",
      "x window size: 2000\n",
      "ywindow size: 2000\n",
      "number of tiles along x axis: 2\n",
      "number of tiles along y axis: 2\n",
      "\u001b[92mdone\u001b[0m\n",
      "Number of x intervals: 2\n",
      "Number of y intervals: 2\n",
      "Rescaling original dots Image\n",
      "\u001b[94mPerforming multichannel tiling...\u001b[0m\n",
      "x window size: 2000\n",
      "ywindow size: 2000\n",
      "number of tiles along x axis: 2\n",
      "number of tiles along y axis: 2\n",
      "\u001b[92mdone\u001b[0m\n",
      "Number of x intervals: 2\n",
      "Number of y intervals: 2\n",
      "Rescaling original dots Image\n",
      "\u001b[94mPerforming multichannel tiling...\u001b[0m\n",
      "x window size: 2000\n",
      "ywindow size: 2000\n",
      "number of tiles along x axis: 2\n",
      "number of tiles along y axis: 2\n",
      "\u001b[92mdone\u001b[0m\n",
      "Number of x intervals: 2\n",
      "Number of y intervals: 2\n"
     ]
    },
    {
     "data": {
      "application/vnd.jupyter.widget-view+json": {
       "model_id": "",
       "version_major": 2,
       "version_minor": 0
      },
      "text/plain": [
       "Mapping to the closest registered dot:   0%|          | 0/8621 [00:00<?, ?it/s]"
      ]
     },
     "metadata": {},
     "output_type": "display_data"
    },
    {
     "name": "stdout",
     "output_type": "stream",
     "text": [
      "IF : 8270 16150\n",
      "HE : 11000 17000\n"
     ]
    },
    {
     "data": {
      "application/vnd.jupyter.widget-view+json": {
       "model_id": "",
       "version_major": 2,
       "version_minor": 0
      },
      "text/plain": [
       "outer:   0%|          | 0/2 [00:00<?, ?it/s]"
      ]
     },
     "metadata": {},
     "output_type": "display_data"
    },
    {
     "data": {
      "application/vnd.jupyter.widget-view+json": {
       "model_id": "",
       "version_major": 2,
       "version_minor": 0
      },
      "text/plain": [
       "inner 0:   0%|          | 0/2 [00:00<?, ?it/s]"
      ]
     },
     "metadata": {},
     "output_type": "display_data"
    },
    {
     "data": {
      "application/vnd.jupyter.widget-view+json": {
       "model_id": "",
       "version_major": 2,
       "version_minor": 0
      },
      "text/plain": [
       "inner 1:   0%|          | 0/2 [00:00<?, ?it/s]"
      ]
     },
     "metadata": {},
     "output_type": "display_data"
    },
    {
     "name": "stdout",
     "output_type": "stream",
     "text": [
      "Done making patches!\n"
     ]
    },
    {
     "name": "stderr",
     "output_type": "stream",
     "text": [
      "Process Patches: 319it [01:34,  3.39it/s]                                       \n"
     ]
    },
    {
     "data": {
      "application/vnd.jupyter.widget-view+json": {
       "model_id": "",
       "version_major": 2,
       "version_minor": 0
      },
      "text/plain": [
       "outer:   0%|          | 0/2 [00:00<?, ?it/s]"
      ]
     },
     "metadata": {},
     "output_type": "display_data"
    },
    {
     "data": {
      "application/vnd.jupyter.widget-view+json": {
       "model_id": "",
       "version_major": 2,
       "version_minor": 0
      },
      "text/plain": [
       "innter 0:   0%|          | 0/2 [00:00<?, ?it/s]"
      ]
     },
     "metadata": {},
     "output_type": "display_data"
    },
    {
     "data": {
      "application/vnd.jupyter.widget-view+json": {
       "model_id": "",
       "version_major": 2,
       "version_minor": 0
      },
      "text/plain": [
       "innter 1:   0%|          | 0/2 [00:00<?, ?it/s]"
      ]
     },
     "metadata": {},
     "output_type": "display_data"
    },
    {
     "name": "stdout",
     "output_type": "stream",
     "text": [
      "\u001b[94mRegistering resized image\u001b[0m\n",
      "\u001b[92mdone\u001b[0m\n",
      "Rescaling original IF Image\n",
      "Rescaling original dots Image\n",
      "\u001b[94mPerforming multichannel tiling...\u001b[0m\n",
      "x window size: 2000\n",
      "ywindow size: 2000\n",
      "number of tiles along x axis: 2\n",
      "number of tiles along y axis: 2\n",
      "\u001b[92mdone\u001b[0m\n",
      "\u001b[94mPerforming multichannel tiling...\u001b[0m\n",
      "x window size: 2000\n",
      "ywindow size: 2000\n",
      "number of tiles along x axis: 2\n",
      "number of tiles along y axis: 2\n",
      "\u001b[92mdone\u001b[0m\n",
      "\u001b[94mPerforming multichannel tiling...\u001b[0m\n",
      "x window size: 2000\n",
      "ywindow size: 2000\n",
      "number of tiles along x axis: 2\n",
      "number of tiles along y axis: 2\n",
      "\u001b[92mdone\u001b[0m\n",
      "\u001b[94mperforming whole slide image registration...\u001b[0m\n",
      "registering frame 1/4\n",
      "registering frame 2/4\n",
      "registering frame 3/4\n",
      "registering frame 4/4\n",
      "\u001b[92mdone\u001b[0m\n",
      "Number of x intervals: 2\n",
      "Number of y intervals: 2\n",
      "Rescaling original dots Image\n",
      "\u001b[94mPerforming multichannel tiling...\u001b[0m\n",
      "x window size: 2000\n",
      "ywindow size: 2000\n",
      "number of tiles along x axis: 2\n",
      "number of tiles along y axis: 2\n",
      "\u001b[92mdone\u001b[0m\n",
      "Number of x intervals: 2\n",
      "Number of y intervals: 2\n",
      "Rescaling original dots Image\n",
      "\u001b[94mPerforming multichannel tiling...\u001b[0m\n",
      "x window size: 2000\n",
      "ywindow size: 2000\n",
      "number of tiles along x axis: 2\n",
      "number of tiles along y axis: 2\n",
      "\u001b[92mdone\u001b[0m\n",
      "Number of x intervals: 2\n",
      "Number of y intervals: 2\n",
      "Rescaling original dots Image\n",
      "\u001b[94mPerforming multichannel tiling...\u001b[0m\n",
      "x window size: 2000\n",
      "ywindow size: 2000\n",
      "number of tiles along x axis: 2\n",
      "number of tiles along y axis: 2\n",
      "\u001b[92mdone\u001b[0m\n",
      "Number of x intervals: 2\n",
      "Number of y intervals: 2\n",
      "Rescaling original dots Image\n",
      "\u001b[94mPerforming multichannel tiling...\u001b[0m\n",
      "x window size: 2000\n",
      "ywindow size: 2000\n",
      "number of tiles along x axis: 2\n",
      "number of tiles along y axis: 2\n",
      "\u001b[92mdone\u001b[0m\n",
      "Number of x intervals: 2\n",
      "Number of y intervals: 2\n",
      "Rescaling original dots Image\n",
      "\u001b[94mPerforming multichannel tiling...\u001b[0m\n",
      "x window size: 2000\n",
      "ywindow size: 2000\n",
      "number of tiles along x axis: 2\n",
      "number of tiles along y axis: 2\n",
      "\u001b[92mdone\u001b[0m\n",
      "Number of x intervals: 2\n",
      "Number of y intervals: 2\n"
     ]
    },
    {
     "data": {
      "application/vnd.jupyter.widget-view+json": {
       "model_id": "",
       "version_major": 2,
       "version_minor": 0
      },
      "text/plain": [
       "Mapping to the closest registered dot:   0%|          | 0/9675 [00:00<?, ?it/s]"
      ]
     },
     "metadata": {},
     "output_type": "display_data"
    },
    {
     "name": "stdout",
     "output_type": "stream",
     "text": [
      "IF : 8270 20150\n",
      "HE : 11000 21000\n"
     ]
    },
    {
     "data": {
      "application/vnd.jupyter.widget-view+json": {
       "model_id": "",
       "version_major": 2,
       "version_minor": 0
      },
      "text/plain": [
       "outer:   0%|          | 0/2 [00:00<?, ?it/s]"
      ]
     },
     "metadata": {},
     "output_type": "display_data"
    },
    {
     "data": {
      "application/vnd.jupyter.widget-view+json": {
       "model_id": "",
       "version_major": 2,
       "version_minor": 0
      },
      "text/plain": [
       "inner 0:   0%|          | 0/2 [00:00<?, ?it/s]"
      ]
     },
     "metadata": {},
     "output_type": "display_data"
    },
    {
     "data": {
      "application/vnd.jupyter.widget-view+json": {
       "model_id": "",
       "version_major": 2,
       "version_minor": 0
      },
      "text/plain": [
       "inner 1:   0%|          | 0/2 [00:00<?, ?it/s]"
      ]
     },
     "metadata": {},
     "output_type": "display_data"
    },
    {
     "name": "stdout",
     "output_type": "stream",
     "text": [
      "Done making patches!\n"
     ]
    },
    {
     "name": "stderr",
     "output_type": "stream",
     "text": [
      "Process Patches: 319it [01:34,  3.38it/s]                                       \n"
     ]
    },
    {
     "data": {
      "application/vnd.jupyter.widget-view+json": {
       "model_id": "",
       "version_major": 2,
       "version_minor": 0
      },
      "text/plain": [
       "outer:   0%|          | 0/2 [00:00<?, ?it/s]"
      ]
     },
     "metadata": {},
     "output_type": "display_data"
    },
    {
     "data": {
      "application/vnd.jupyter.widget-view+json": {
       "model_id": "",
       "version_major": 2,
       "version_minor": 0
      },
      "text/plain": [
       "innter 0:   0%|          | 0/2 [00:00<?, ?it/s]"
      ]
     },
     "metadata": {},
     "output_type": "display_data"
    },
    {
     "data": {
      "application/vnd.jupyter.widget-view+json": {
       "model_id": "",
       "version_major": 2,
       "version_minor": 0
      },
      "text/plain": [
       "innter 1:   0%|          | 0/2 [00:00<?, ?it/s]"
      ]
     },
     "metadata": {},
     "output_type": "display_data"
    },
    {
     "name": "stdout",
     "output_type": "stream",
     "text": [
      "\u001b[94mRegistering resized image\u001b[0m\n",
      "\u001b[92mdone\u001b[0m\n",
      "Rescaling original IF Image\n",
      "Rescaling original dots Image\n",
      "\u001b[94mPerforming multichannel tiling...\u001b[0m\n",
      "x window size: 2000\n",
      "ywindow size: 2000\n",
      "number of tiles along x axis: 2\n",
      "number of tiles along y axis: 2\n",
      "\u001b[92mdone\u001b[0m\n",
      "\u001b[94mPerforming multichannel tiling...\u001b[0m\n",
      "x window size: 2000\n",
      "ywindow size: 2000\n",
      "number of tiles along x axis: 2\n",
      "number of tiles along y axis: 2\n",
      "\u001b[92mdone\u001b[0m\n",
      "\u001b[94mPerforming multichannel tiling...\u001b[0m\n",
      "x window size: 2000\n",
      "ywindow size: 2000\n",
      "number of tiles along x axis: 2\n",
      "number of tiles along y axis: 2\n",
      "\u001b[92mdone\u001b[0m\n",
      "\u001b[94mperforming whole slide image registration...\u001b[0m\n",
      "registering frame 1/4\n",
      "registering frame 2/4\n",
      "registering frame 3/4\n",
      "registering frame 4/4\n",
      "\u001b[92mdone\u001b[0m\n",
      "Number of x intervals: 2\n",
      "Number of y intervals: 2\n",
      "Rescaling original dots Image\n",
      "\u001b[94mPerforming multichannel tiling...\u001b[0m\n",
      "x window size: 2000\n",
      "ywindow size: 2000\n",
      "number of tiles along x axis: 2\n",
      "number of tiles along y axis: 2\n",
      "\u001b[92mdone\u001b[0m\n",
      "Number of x intervals: 2\n",
      "Number of y intervals: 2\n",
      "Rescaling original dots Image\n",
      "\u001b[94mPerforming multichannel tiling...\u001b[0m\n",
      "x window size: 2000\n",
      "ywindow size: 2000\n",
      "number of tiles along x axis: 2\n",
      "number of tiles along y axis: 2\n",
      "\u001b[92mdone\u001b[0m\n",
      "Number of x intervals: 2\n",
      "Number of y intervals: 2\n",
      "Rescaling original dots Image\n",
      "\u001b[94mPerforming multichannel tiling...\u001b[0m\n",
      "x window size: 2000\n",
      "ywindow size: 2000\n",
      "number of tiles along x axis: 2\n",
      "number of tiles along y axis: 2\n",
      "\u001b[92mdone\u001b[0m\n",
      "Number of x intervals: 2\n",
      "Number of y intervals: 2\n",
      "Rescaling original dots Image\n",
      "\u001b[94mPerforming multichannel tiling...\u001b[0m\n",
      "x window size: 2000\n",
      "ywindow size: 2000\n",
      "number of tiles along x axis: 2\n",
      "number of tiles along y axis: 2\n",
      "\u001b[92mdone\u001b[0m\n",
      "Number of x intervals: 2\n",
      "Number of y intervals: 2\n",
      "Rescaling original dots Image\n",
      "\u001b[94mPerforming multichannel tiling...\u001b[0m\n",
      "x window size: 2000\n",
      "ywindow size: 2000\n",
      "number of tiles along x axis: 2\n",
      "number of tiles along y axis: 2\n",
      "\u001b[92mdone\u001b[0m\n",
      "Number of x intervals: 2\n",
      "Number of y intervals: 2\n"
     ]
    },
    {
     "data": {
      "application/vnd.jupyter.widget-view+json": {
       "model_id": "",
       "version_major": 2,
       "version_minor": 0
      },
      "text/plain": [
       "Mapping to the closest registered dot:   0%|          | 0/19083 [00:00<?, ?it/s]"
      ]
     },
     "metadata": {},
     "output_type": "display_data"
    },
    {
     "name": "stdout",
     "output_type": "stream",
     "text": [
      "IF : 8270 24150\n",
      "HE : 11000 25000\n"
     ]
    },
    {
     "data": {
      "application/vnd.jupyter.widget-view+json": {
       "model_id": "",
       "version_major": 2,
       "version_minor": 0
      },
      "text/plain": [
       "outer:   0%|          | 0/2 [00:00<?, ?it/s]"
      ]
     },
     "metadata": {},
     "output_type": "display_data"
    },
    {
     "data": {
      "application/vnd.jupyter.widget-view+json": {
       "model_id": "",
       "version_major": 2,
       "version_minor": 0
      },
      "text/plain": [
       "inner 0:   0%|          | 0/2 [00:00<?, ?it/s]"
      ]
     },
     "metadata": {},
     "output_type": "display_data"
    },
    {
     "data": {
      "application/vnd.jupyter.widget-view+json": {
       "model_id": "",
       "version_major": 2,
       "version_minor": 0
      },
      "text/plain": [
       "inner 1:   0%|          | 0/2 [00:00<?, ?it/s]"
      ]
     },
     "metadata": {},
     "output_type": "display_data"
    },
    {
     "name": "stdout",
     "output_type": "stream",
     "text": [
      "Done making patches!\n"
     ]
    },
    {
     "name": "stderr",
     "output_type": "stream",
     "text": [
      "Process Patches: 319it [01:34,  3.38it/s]                                       \n"
     ]
    },
    {
     "data": {
      "application/vnd.jupyter.widget-view+json": {
       "model_id": "",
       "version_major": 2,
       "version_minor": 0
      },
      "text/plain": [
       "outer:   0%|          | 0/2 [00:00<?, ?it/s]"
      ]
     },
     "metadata": {},
     "output_type": "display_data"
    },
    {
     "data": {
      "application/vnd.jupyter.widget-view+json": {
       "model_id": "",
       "version_major": 2,
       "version_minor": 0
      },
      "text/plain": [
       "innter 0:   0%|          | 0/2 [00:00<?, ?it/s]"
      ]
     },
     "metadata": {},
     "output_type": "display_data"
    },
    {
     "data": {
      "application/vnd.jupyter.widget-view+json": {
       "model_id": "",
       "version_major": 2,
       "version_minor": 0
      },
      "text/plain": [
       "innter 1:   0%|          | 0/2 [00:00<?, ?it/s]"
      ]
     },
     "metadata": {},
     "output_type": "display_data"
    },
    {
     "name": "stdout",
     "output_type": "stream",
     "text": [
      "\u001b[94mRegistering resized image\u001b[0m\n",
      "\u001b[92mdone\u001b[0m\n",
      "Rescaling original IF Image\n",
      "Rescaling original dots Image\n",
      "\u001b[94mPerforming multichannel tiling...\u001b[0m\n",
      "x window size: 2000\n",
      "ywindow size: 2000\n",
      "number of tiles along x axis: 2\n",
      "number of tiles along y axis: 2\n",
      "\u001b[92mdone\u001b[0m\n",
      "\u001b[94mPerforming multichannel tiling...\u001b[0m\n",
      "x window size: 2000\n",
      "ywindow size: 2000\n",
      "number of tiles along x axis: 2\n",
      "number of tiles along y axis: 2\n",
      "\u001b[92mdone\u001b[0m\n",
      "\u001b[94mPerforming multichannel tiling...\u001b[0m\n",
      "x window size: 2000\n",
      "ywindow size: 2000\n",
      "number of tiles along x axis: 2\n",
      "number of tiles along y axis: 2\n",
      "\u001b[92mdone\u001b[0m\n",
      "\u001b[94mperforming whole slide image registration...\u001b[0m\n",
      "registering frame 1/4\n",
      "registering frame 2/4\n",
      "registering frame 3/4\n",
      "registering frame 4/4\n",
      "\u001b[92mdone\u001b[0m\n",
      "Number of x intervals: 2\n",
      "Number of y intervals: 2\n",
      "Rescaling original dots Image\n",
      "\u001b[94mPerforming multichannel tiling...\u001b[0m\n",
      "x window size: 2000\n",
      "ywindow size: 2000\n",
      "number of tiles along x axis: 2\n",
      "number of tiles along y axis: 2\n",
      "\u001b[92mdone\u001b[0m\n",
      "Number of x intervals: 2\n",
      "Number of y intervals: 2\n",
      "Rescaling original dots Image\n",
      "\u001b[94mPerforming multichannel tiling...\u001b[0m\n",
      "x window size: 2000\n",
      "ywindow size: 2000\n",
      "number of tiles along x axis: 2\n",
      "number of tiles along y axis: 2\n",
      "\u001b[92mdone\u001b[0m\n",
      "Number of x intervals: 2\n",
      "Number of y intervals: 2\n",
      "Rescaling original dots Image\n",
      "\u001b[94mPerforming multichannel tiling...\u001b[0m\n",
      "x window size: 2000\n",
      "ywindow size: 2000\n",
      "number of tiles along x axis: 2\n",
      "number of tiles along y axis: 2\n",
      "\u001b[92mdone\u001b[0m\n",
      "Number of x intervals: 2\n",
      "Number of y intervals: 2\n",
      "Rescaling original dots Image\n",
      "\u001b[94mPerforming multichannel tiling...\u001b[0m\n",
      "x window size: 2000\n",
      "ywindow size: 2000\n",
      "number of tiles along x axis: 2\n",
      "number of tiles along y axis: 2\n",
      "\u001b[92mdone\u001b[0m\n",
      "Number of x intervals: 2\n",
      "Number of y intervals: 2\n",
      "Rescaling original dots Image\n",
      "\u001b[94mPerforming multichannel tiling...\u001b[0m\n",
      "x window size: 2000\n",
      "ywindow size: 2000\n",
      "number of tiles along x axis: 2\n",
      "number of tiles along y axis: 2\n",
      "\u001b[92mdone\u001b[0m\n",
      "Number of x intervals: 2\n",
      "Number of y intervals: 2\n"
     ]
    },
    {
     "data": {
      "application/vnd.jupyter.widget-view+json": {
       "model_id": "",
       "version_major": 2,
       "version_minor": 0
      },
      "text/plain": [
       "Mapping to the closest registered dot:   0%|          | 0/12560 [00:00<?, ?it/s]"
      ]
     },
     "metadata": {},
     "output_type": "display_data"
    },
    {
     "name": "stdout",
     "output_type": "stream",
     "text": [
      "IF : 8270 28150\n",
      "HE : 11000 29000\n"
     ]
    },
    {
     "data": {
      "application/vnd.jupyter.widget-view+json": {
       "model_id": "",
       "version_major": 2,
       "version_minor": 0
      },
      "text/plain": [
       "outer:   0%|          | 0/2 [00:00<?, ?it/s]"
      ]
     },
     "metadata": {},
     "output_type": "display_data"
    },
    {
     "data": {
      "application/vnd.jupyter.widget-view+json": {
       "model_id": "",
       "version_major": 2,
       "version_minor": 0
      },
      "text/plain": [
       "inner 0:   0%|          | 0/2 [00:00<?, ?it/s]"
      ]
     },
     "metadata": {},
     "output_type": "display_data"
    },
    {
     "data": {
      "application/vnd.jupyter.widget-view+json": {
       "model_id": "",
       "version_major": 2,
       "version_minor": 0
      },
      "text/plain": [
       "inner 1:   0%|          | 0/2 [00:00<?, ?it/s]"
      ]
     },
     "metadata": {},
     "output_type": "display_data"
    },
    {
     "name": "stdout",
     "output_type": "stream",
     "text": [
      "Done making patches!\n"
     ]
    },
    {
     "name": "stderr",
     "output_type": "stream",
     "text": [
      "Process Patches: 319it [01:34,  3.38it/s]                                       \n"
     ]
    },
    {
     "data": {
      "application/vnd.jupyter.widget-view+json": {
       "model_id": "",
       "version_major": 2,
       "version_minor": 0
      },
      "text/plain": [
       "outer:   0%|          | 0/2 [00:00<?, ?it/s]"
      ]
     },
     "metadata": {},
     "output_type": "display_data"
    },
    {
     "data": {
      "application/vnd.jupyter.widget-view+json": {
       "model_id": "",
       "version_major": 2,
       "version_minor": 0
      },
      "text/plain": [
       "innter 0:   0%|          | 0/2 [00:00<?, ?it/s]"
      ]
     },
     "metadata": {},
     "output_type": "display_data"
    },
    {
     "data": {
      "application/vnd.jupyter.widget-view+json": {
       "model_id": "",
       "version_major": 2,
       "version_minor": 0
      },
      "text/plain": [
       "innter 1:   0%|          | 0/2 [00:00<?, ?it/s]"
      ]
     },
     "metadata": {},
     "output_type": "display_data"
    },
    {
     "name": "stdout",
     "output_type": "stream",
     "text": [
      "\u001b[94mRegistering resized image\u001b[0m\n",
      "\u001b[92mdone\u001b[0m\n",
      "Rescaling original IF Image\n",
      "Rescaling original dots Image\n",
      "\u001b[94mPerforming multichannel tiling...\u001b[0m\n",
      "x window size: 2000\n",
      "ywindow size: 2000\n",
      "number of tiles along x axis: 2\n",
      "number of tiles along y axis: 2\n",
      "\u001b[92mdone\u001b[0m\n",
      "\u001b[94mPerforming multichannel tiling...\u001b[0m\n",
      "x window size: 2000\n",
      "ywindow size: 2000\n",
      "number of tiles along x axis: 2\n",
      "number of tiles along y axis: 2\n",
      "\u001b[92mdone\u001b[0m\n",
      "\u001b[94mPerforming multichannel tiling...\u001b[0m\n",
      "x window size: 2000\n",
      "ywindow size: 2000\n",
      "number of tiles along x axis: 2\n",
      "number of tiles along y axis: 2\n",
      "\u001b[92mdone\u001b[0m\n",
      "\u001b[94mperforming whole slide image registration...\u001b[0m\n",
      "registering frame 1/4\n",
      "registering frame 2/4\n",
      "registering frame 3/4\n",
      "registering frame 4/4\n",
      "\u001b[92mdone\u001b[0m\n",
      "Number of x intervals: 2\n",
      "Number of y intervals: 2\n",
      "Rescaling original dots Image\n",
      "\u001b[94mPerforming multichannel tiling...\u001b[0m\n",
      "x window size: 2000\n",
      "ywindow size: 2000\n",
      "number of tiles along x axis: 2\n",
      "number of tiles along y axis: 2\n",
      "\u001b[92mdone\u001b[0m\n",
      "Number of x intervals: 2\n",
      "Number of y intervals: 2\n",
      "Rescaling original dots Image\n",
      "\u001b[94mPerforming multichannel tiling...\u001b[0m\n",
      "x window size: 2000\n",
      "ywindow size: 2000\n",
      "number of tiles along x axis: 2\n",
      "number of tiles along y axis: 2\n",
      "\u001b[92mdone\u001b[0m\n",
      "Number of x intervals: 2\n",
      "Number of y intervals: 2\n",
      "Rescaling original dots Image\n",
      "\u001b[94mPerforming multichannel tiling...\u001b[0m\n",
      "x window size: 2000\n",
      "ywindow size: 2000\n",
      "number of tiles along x axis: 2\n",
      "number of tiles along y axis: 2\n",
      "\u001b[92mdone\u001b[0m\n",
      "Number of x intervals: 2\n",
      "Number of y intervals: 2\n",
      "Rescaling original dots Image\n",
      "\u001b[94mPerforming multichannel tiling...\u001b[0m\n",
      "x window size: 2000\n",
      "ywindow size: 2000\n",
      "number of tiles along x axis: 2\n",
      "number of tiles along y axis: 2\n",
      "\u001b[92mdone\u001b[0m\n",
      "Number of x intervals: 2\n",
      "Number of y intervals: 2\n",
      "Rescaling original dots Image\n",
      "\u001b[94mPerforming multichannel tiling...\u001b[0m\n",
      "x window size: 2000\n",
      "ywindow size: 2000\n",
      "number of tiles along x axis: 2\n",
      "number of tiles along y axis: 2\n",
      "\u001b[92mdone\u001b[0m\n",
      "Number of x intervals: 2\n",
      "Number of y intervals: 2\n"
     ]
    },
    {
     "data": {
      "application/vnd.jupyter.widget-view+json": {
       "model_id": "",
       "version_major": 2,
       "version_minor": 0
      },
      "text/plain": [
       "Mapping to the closest registered dot:   0%|          | 0/9682 [00:00<?, ?it/s]"
      ]
     },
     "metadata": {},
     "output_type": "display_data"
    },
    {
     "name": "stdout",
     "output_type": "stream",
     "text": [
      "IF : 8270 32150\n",
      "HE : 11000 33000\n"
     ]
    },
    {
     "data": {
      "application/vnd.jupyter.widget-view+json": {
       "model_id": "",
       "version_major": 2,
       "version_minor": 0
      },
      "text/plain": [
       "outer:   0%|          | 0/2 [00:00<?, ?it/s]"
      ]
     },
     "metadata": {},
     "output_type": "display_data"
    },
    {
     "data": {
      "application/vnd.jupyter.widget-view+json": {
       "model_id": "",
       "version_major": 2,
       "version_minor": 0
      },
      "text/plain": [
       "inner 0:   0%|          | 0/2 [00:00<?, ?it/s]"
      ]
     },
     "metadata": {},
     "output_type": "display_data"
    },
    {
     "data": {
      "application/vnd.jupyter.widget-view+json": {
       "model_id": "",
       "version_major": 2,
       "version_minor": 0
      },
      "text/plain": [
       "inner 1:   0%|          | 0/2 [00:00<?, ?it/s]"
      ]
     },
     "metadata": {},
     "output_type": "display_data"
    },
    {
     "name": "stdout",
     "output_type": "stream",
     "text": [
      "Done making patches!\n"
     ]
    },
    {
     "name": "stderr",
     "output_type": "stream",
     "text": [
      "Process Patches: 319it [01:34,  3.38it/s]                                       \n"
     ]
    },
    {
     "data": {
      "application/vnd.jupyter.widget-view+json": {
       "model_id": "",
       "version_major": 2,
       "version_minor": 0
      },
      "text/plain": [
       "outer:   0%|          | 0/2 [00:00<?, ?it/s]"
      ]
     },
     "metadata": {},
     "output_type": "display_data"
    },
    {
     "data": {
      "application/vnd.jupyter.widget-view+json": {
       "model_id": "",
       "version_major": 2,
       "version_minor": 0
      },
      "text/plain": [
       "innter 0:   0%|          | 0/2 [00:00<?, ?it/s]"
      ]
     },
     "metadata": {},
     "output_type": "display_data"
    },
    {
     "data": {
      "application/vnd.jupyter.widget-view+json": {
       "model_id": "",
       "version_major": 2,
       "version_minor": 0
      },
      "text/plain": [
       "innter 1:   0%|          | 0/2 [00:00<?, ?it/s]"
      ]
     },
     "metadata": {},
     "output_type": "display_data"
    },
    {
     "name": "stdout",
     "output_type": "stream",
     "text": [
      "\u001b[94mRegistering resized image\u001b[0m\n",
      "\u001b[92mdone\u001b[0m\n",
      "Rescaling original IF Image\n",
      "Rescaling original dots Image\n",
      "\u001b[94mPerforming multichannel tiling...\u001b[0m\n",
      "x window size: 2000\n",
      "ywindow size: 2000\n",
      "number of tiles along x axis: 2\n",
      "number of tiles along y axis: 2\n",
      "\u001b[92mdone\u001b[0m\n",
      "\u001b[94mPerforming multichannel tiling...\u001b[0m\n",
      "x window size: 2000\n",
      "ywindow size: 2000\n",
      "number of tiles along x axis: 2\n",
      "number of tiles along y axis: 2\n",
      "\u001b[92mdone\u001b[0m\n",
      "\u001b[94mPerforming multichannel tiling...\u001b[0m\n",
      "x window size: 2000\n",
      "ywindow size: 2000\n",
      "number of tiles along x axis: 2\n",
      "number of tiles along y axis: 2\n",
      "\u001b[92mdone\u001b[0m\n",
      "\u001b[94mperforming whole slide image registration...\u001b[0m\n",
      "registering frame 1/4\n",
      "registering frame 2/4\n",
      "registering frame 3/4\n",
      "registering frame 4/4\n",
      "\u001b[92mdone\u001b[0m\n",
      "Number of x intervals: 2\n",
      "Number of y intervals: 2\n",
      "Rescaling original dots Image\n",
      "\u001b[94mPerforming multichannel tiling...\u001b[0m\n",
      "x window size: 2000\n",
      "ywindow size: 2000\n",
      "number of tiles along x axis: 2\n",
      "number of tiles along y axis: 2\n",
      "\u001b[92mdone\u001b[0m\n",
      "Number of x intervals: 2\n",
      "Number of y intervals: 2\n",
      "Rescaling original dots Image\n",
      "\u001b[94mPerforming multichannel tiling...\u001b[0m\n",
      "x window size: 2000\n",
      "ywindow size: 2000\n",
      "number of tiles along x axis: 2\n",
      "number of tiles along y axis: 2\n",
      "\u001b[92mdone\u001b[0m\n",
      "Number of x intervals: 2\n",
      "Number of y intervals: 2\n",
      "Rescaling original dots Image\n",
      "\u001b[94mPerforming multichannel tiling...\u001b[0m\n",
      "x window size: 2000\n",
      "ywindow size: 2000\n",
      "number of tiles along x axis: 2\n",
      "number of tiles along y axis: 2\n",
      "\u001b[92mdone\u001b[0m\n",
      "Number of x intervals: 2\n",
      "Number of y intervals: 2\n",
      "Rescaling original dots Image\n",
      "\u001b[94mPerforming multichannel tiling...\u001b[0m\n",
      "x window size: 2000\n",
      "ywindow size: 2000\n",
      "number of tiles along x axis: 2\n",
      "number of tiles along y axis: 2\n",
      "\u001b[92mdone\u001b[0m\n",
      "Number of x intervals: 2\n",
      "Number of y intervals: 2\n",
      "Rescaling original dots Image\n",
      "\u001b[94mPerforming multichannel tiling...\u001b[0m\n",
      "x window size: 2000\n",
      "ywindow size: 2000\n",
      "number of tiles along x axis: 2\n",
      "number of tiles along y axis: 2\n",
      "\u001b[92mdone\u001b[0m\n",
      "Number of x intervals: 2\n",
      "Number of y intervals: 2\n"
     ]
    },
    {
     "data": {
      "application/vnd.jupyter.widget-view+json": {
       "model_id": "",
       "version_major": 2,
       "version_minor": 0
      },
      "text/plain": [
       "Mapping to the closest registered dot:   0%|          | 0/12533 [00:00<?, ?it/s]"
      ]
     },
     "metadata": {},
     "output_type": "display_data"
    },
    {
     "name": "stdout",
     "output_type": "stream",
     "text": [
      "IF : 8270 36150\n",
      "HE : 11000 37000\n"
     ]
    },
    {
     "data": {
      "application/vnd.jupyter.widget-view+json": {
       "model_id": "",
       "version_major": 2,
       "version_minor": 0
      },
      "text/plain": [
       "outer:   0%|          | 0/2 [00:00<?, ?it/s]"
      ]
     },
     "metadata": {},
     "output_type": "display_data"
    },
    {
     "data": {
      "application/vnd.jupyter.widget-view+json": {
       "model_id": "",
       "version_major": 2,
       "version_minor": 0
      },
      "text/plain": [
       "inner 0:   0%|          | 0/2 [00:00<?, ?it/s]"
      ]
     },
     "metadata": {},
     "output_type": "display_data"
    },
    {
     "data": {
      "application/vnd.jupyter.widget-view+json": {
       "model_id": "",
       "version_major": 2,
       "version_minor": 0
      },
      "text/plain": [
       "inner 1:   0%|          | 0/2 [00:00<?, ?it/s]"
      ]
     },
     "metadata": {},
     "output_type": "display_data"
    },
    {
     "name": "stdout",
     "output_type": "stream",
     "text": [
      "Done making patches!\n"
     ]
    },
    {
     "name": "stderr",
     "output_type": "stream",
     "text": [
      "Process Patches: 319it [01:34,  3.39it/s]                                       \n"
     ]
    },
    {
     "data": {
      "application/vnd.jupyter.widget-view+json": {
       "model_id": "",
       "version_major": 2,
       "version_minor": 0
      },
      "text/plain": [
       "outer:   0%|          | 0/2 [00:00<?, ?it/s]"
      ]
     },
     "metadata": {},
     "output_type": "display_data"
    },
    {
     "data": {
      "application/vnd.jupyter.widget-view+json": {
       "model_id": "",
       "version_major": 2,
       "version_minor": 0
      },
      "text/plain": [
       "innter 0:   0%|          | 0/2 [00:00<?, ?it/s]"
      ]
     },
     "metadata": {},
     "output_type": "display_data"
    },
    {
     "data": {
      "application/vnd.jupyter.widget-view+json": {
       "model_id": "",
       "version_major": 2,
       "version_minor": 0
      },
      "text/plain": [
       "innter 1:   0%|          | 0/2 [00:00<?, ?it/s]"
      ]
     },
     "metadata": {},
     "output_type": "display_data"
    },
    {
     "name": "stdout",
     "output_type": "stream",
     "text": [
      "\u001b[94mRegistering resized image\u001b[0m\n",
      "\u001b[92mdone\u001b[0m\n",
      "Rescaling original IF Image\n",
      "Rescaling original dots Image\n",
      "\u001b[94mPerforming multichannel tiling...\u001b[0m\n",
      "x window size: 2000\n",
      "ywindow size: 2000\n",
      "number of tiles along x axis: 2\n",
      "number of tiles along y axis: 2\n",
      "\u001b[92mdone\u001b[0m\n",
      "\u001b[94mPerforming multichannel tiling...\u001b[0m\n",
      "x window size: 2000\n",
      "ywindow size: 2000\n",
      "number of tiles along x axis: 2\n",
      "number of tiles along y axis: 2\n",
      "\u001b[92mdone\u001b[0m\n",
      "\u001b[94mPerforming multichannel tiling...\u001b[0m\n",
      "x window size: 2000\n",
      "ywindow size: 2000\n",
      "number of tiles along x axis: 2\n",
      "number of tiles along y axis: 2\n",
      "\u001b[92mdone\u001b[0m\n",
      "\u001b[94mperforming whole slide image registration...\u001b[0m\n",
      "registering frame 1/4\n",
      "registering frame 2/4\n",
      "registering frame 3/4\n",
      "registering frame 4/4\n",
      "\u001b[92mdone\u001b[0m\n",
      "Number of x intervals: 2\n",
      "Number of y intervals: 2\n",
      "Rescaling original dots Image\n",
      "\u001b[94mPerforming multichannel tiling...\u001b[0m\n",
      "x window size: 2000\n",
      "ywindow size: 2000\n",
      "number of tiles along x axis: 2\n",
      "number of tiles along y axis: 2\n",
      "\u001b[92mdone\u001b[0m\n",
      "Number of x intervals: 2\n",
      "Number of y intervals: 2\n",
      "Rescaling original dots Image\n",
      "\u001b[94mPerforming multichannel tiling...\u001b[0m\n",
      "x window size: 2000\n",
      "ywindow size: 2000\n",
      "number of tiles along x axis: 2\n",
      "number of tiles along y axis: 2\n",
      "\u001b[92mdone\u001b[0m\n",
      "Number of x intervals: 2\n",
      "Number of y intervals: 2\n",
      "Rescaling original dots Image\n",
      "\u001b[94mPerforming multichannel tiling...\u001b[0m\n",
      "x window size: 2000\n",
      "ywindow size: 2000\n",
      "number of tiles along x axis: 2\n",
      "number of tiles along y axis: 2\n",
      "\u001b[92mdone\u001b[0m\n",
      "Number of x intervals: 2\n",
      "Number of y intervals: 2\n",
      "Rescaling original dots Image\n",
      "\u001b[94mPerforming multichannel tiling...\u001b[0m\n",
      "x window size: 2000\n",
      "ywindow size: 2000\n",
      "number of tiles along x axis: 2\n",
      "number of tiles along y axis: 2\n",
      "\u001b[92mdone\u001b[0m\n",
      "Number of x intervals: 2\n",
      "Number of y intervals: 2\n",
      "Rescaling original dots Image\n",
      "\u001b[94mPerforming multichannel tiling...\u001b[0m\n",
      "x window size: 2000\n",
      "ywindow size: 2000\n",
      "number of tiles along x axis: 2\n",
      "number of tiles along y axis: 2\n",
      "\u001b[92mdone\u001b[0m\n",
      "Number of x intervals: 2\n",
      "Number of y intervals: 2\n"
     ]
    },
    {
     "data": {
      "application/vnd.jupyter.widget-view+json": {
       "model_id": "",
       "version_major": 2,
       "version_minor": 0
      },
      "text/plain": [
       "Mapping to the closest registered dot:   0%|          | 0/14397 [00:00<?, ?it/s]"
      ]
     },
     "metadata": {},
     "output_type": "display_data"
    },
    {
     "name": "stdout",
     "output_type": "stream",
     "text": [
      "IF : 8270 40150\n",
      "HE : 11000 41000\n"
     ]
    },
    {
     "data": {
      "application/vnd.jupyter.widget-view+json": {
       "model_id": "",
       "version_major": 2,
       "version_minor": 0
      },
      "text/plain": [
       "outer:   0%|          | 0/2 [00:00<?, ?it/s]"
      ]
     },
     "metadata": {},
     "output_type": "display_data"
    },
    {
     "data": {
      "application/vnd.jupyter.widget-view+json": {
       "model_id": "",
       "version_major": 2,
       "version_minor": 0
      },
      "text/plain": [
       "inner 0:   0%|          | 0/2 [00:00<?, ?it/s]"
      ]
     },
     "metadata": {},
     "output_type": "display_data"
    },
    {
     "data": {
      "application/vnd.jupyter.widget-view+json": {
       "model_id": "",
       "version_major": 2,
       "version_minor": 0
      },
      "text/plain": [
       "inner 1:   0%|          | 0/2 [00:00<?, ?it/s]"
      ]
     },
     "metadata": {},
     "output_type": "display_data"
    },
    {
     "name": "stdout",
     "output_type": "stream",
     "text": [
      "Done making patches!\n"
     ]
    },
    {
     "name": "stderr",
     "output_type": "stream",
     "text": [
      "Process Patches: 319it [01:34,  3.39it/s]                                       \n"
     ]
    },
    {
     "data": {
      "application/vnd.jupyter.widget-view+json": {
       "model_id": "",
       "version_major": 2,
       "version_minor": 0
      },
      "text/plain": [
       "outer:   0%|          | 0/2 [00:00<?, ?it/s]"
      ]
     },
     "metadata": {},
     "output_type": "display_data"
    },
    {
     "data": {
      "application/vnd.jupyter.widget-view+json": {
       "model_id": "",
       "version_major": 2,
       "version_minor": 0
      },
      "text/plain": [
       "innter 0:   0%|          | 0/2 [00:00<?, ?it/s]"
      ]
     },
     "metadata": {},
     "output_type": "display_data"
    },
    {
     "data": {
      "application/vnd.jupyter.widget-view+json": {
       "model_id": "",
       "version_major": 2,
       "version_minor": 0
      },
      "text/plain": [
       "innter 1:   0%|          | 0/2 [00:00<?, ?it/s]"
      ]
     },
     "metadata": {},
     "output_type": "display_data"
    },
    {
     "name": "stdout",
     "output_type": "stream",
     "text": [
      "\u001b[94mRegistering resized image\u001b[0m\n",
      "\u001b[92mdone\u001b[0m\n",
      "Rescaling original IF Image\n",
      "Rescaling original dots Image\n",
      "\u001b[94mPerforming multichannel tiling...\u001b[0m\n",
      "x window size: 2000\n",
      "ywindow size: 2000\n",
      "number of tiles along x axis: 2\n",
      "number of tiles along y axis: 2\n",
      "\u001b[92mdone\u001b[0m\n",
      "\u001b[94mPerforming multichannel tiling...\u001b[0m\n",
      "x window size: 2000\n",
      "ywindow size: 2000\n",
      "number of tiles along x axis: 2\n",
      "number of tiles along y axis: 2\n",
      "\u001b[92mdone\u001b[0m\n",
      "\u001b[94mPerforming multichannel tiling...\u001b[0m\n",
      "x window size: 2000\n",
      "ywindow size: 2000\n",
      "number of tiles along x axis: 2\n",
      "number of tiles along y axis: 2\n",
      "\u001b[92mdone\u001b[0m\n",
      "\u001b[94mperforming whole slide image registration...\u001b[0m\n",
      "registering frame 1/4\n",
      "registering frame 2/4\n",
      "registering frame 3/4\n",
      "registering frame 4/4\n",
      "\u001b[92mdone\u001b[0m\n",
      "Number of x intervals: 2\n",
      "Number of y intervals: 2\n",
      "Rescaling original dots Image\n",
      "\u001b[94mPerforming multichannel tiling...\u001b[0m\n",
      "x window size: 2000\n",
      "ywindow size: 2000\n",
      "number of tiles along x axis: 2\n",
      "number of tiles along y axis: 2\n",
      "\u001b[92mdone\u001b[0m\n",
      "Number of x intervals: 2\n",
      "Number of y intervals: 2\n",
      "Rescaling original dots Image\n",
      "\u001b[94mPerforming multichannel tiling...\u001b[0m\n",
      "x window size: 2000\n",
      "ywindow size: 2000\n",
      "number of tiles along x axis: 2\n",
      "number of tiles along y axis: 2\n",
      "\u001b[92mdone\u001b[0m\n",
      "Number of x intervals: 2\n",
      "Number of y intervals: 2\n",
      "Rescaling original dots Image\n",
      "\u001b[94mPerforming multichannel tiling...\u001b[0m\n",
      "x window size: 2000\n",
      "ywindow size: 2000\n",
      "number of tiles along x axis: 2\n",
      "number of tiles along y axis: 2\n",
      "\u001b[92mdone\u001b[0m\n",
      "Number of x intervals: 2\n",
      "Number of y intervals: 2\n",
      "Rescaling original dots Image\n",
      "\u001b[94mPerforming multichannel tiling...\u001b[0m\n",
      "x window size: 2000\n",
      "ywindow size: 2000\n",
      "number of tiles along x axis: 2\n",
      "number of tiles along y axis: 2\n",
      "\u001b[92mdone\u001b[0m\n",
      "Number of x intervals: 2\n",
      "Number of y intervals: 2\n",
      "Rescaling original dots Image\n",
      "\u001b[94mPerforming multichannel tiling...\u001b[0m\n",
      "x window size: 2000\n",
      "ywindow size: 2000\n",
      "number of tiles along x axis: 2\n",
      "number of tiles along y axis: 2\n",
      "\u001b[92mdone\u001b[0m\n",
      "Number of x intervals: 2\n",
      "Number of y intervals: 2\n"
     ]
    },
    {
     "data": {
      "application/vnd.jupyter.widget-view+json": {
       "model_id": "",
       "version_major": 2,
       "version_minor": 0
      },
      "text/plain": [
       "Mapping to the closest registered dot:   0%|          | 0/16418 [00:00<?, ?it/s]"
      ]
     },
     "metadata": {},
     "output_type": "display_data"
    },
    {
     "name": "stdout",
     "output_type": "stream",
     "text": [
      "IF : 8270 44150\n",
      "HE : 11000 45000\n"
     ]
    },
    {
     "data": {
      "application/vnd.jupyter.widget-view+json": {
       "model_id": "",
       "version_major": 2,
       "version_minor": 0
      },
      "text/plain": [
       "outer:   0%|          | 0/2 [00:00<?, ?it/s]"
      ]
     },
     "metadata": {},
     "output_type": "display_data"
    },
    {
     "data": {
      "application/vnd.jupyter.widget-view+json": {
       "model_id": "",
       "version_major": 2,
       "version_minor": 0
      },
      "text/plain": [
       "inner 0:   0%|          | 0/2 [00:00<?, ?it/s]"
      ]
     },
     "metadata": {},
     "output_type": "display_data"
    },
    {
     "data": {
      "application/vnd.jupyter.widget-view+json": {
       "model_id": "",
       "version_major": 2,
       "version_minor": 0
      },
      "text/plain": [
       "inner 1:   0%|          | 0/2 [00:00<?, ?it/s]"
      ]
     },
     "metadata": {},
     "output_type": "display_data"
    },
    {
     "name": "stdout",
     "output_type": "stream",
     "text": [
      "Done making patches!\n"
     ]
    },
    {
     "name": "stderr",
     "output_type": "stream",
     "text": [
      "Process Patches: 319it [01:34,  3.39it/s]                                       \n"
     ]
    },
    {
     "data": {
      "application/vnd.jupyter.widget-view+json": {
       "model_id": "",
       "version_major": 2,
       "version_minor": 0
      },
      "text/plain": [
       "outer:   0%|          | 0/2 [00:00<?, ?it/s]"
      ]
     },
     "metadata": {},
     "output_type": "display_data"
    },
    {
     "data": {
      "application/vnd.jupyter.widget-view+json": {
       "model_id": "",
       "version_major": 2,
       "version_minor": 0
      },
      "text/plain": [
       "innter 0:   0%|          | 0/2 [00:00<?, ?it/s]"
      ]
     },
     "metadata": {},
     "output_type": "display_data"
    },
    {
     "data": {
      "application/vnd.jupyter.widget-view+json": {
       "model_id": "",
       "version_major": 2,
       "version_minor": 0
      },
      "text/plain": [
       "innter 1:   0%|          | 0/2 [00:00<?, ?it/s]"
      ]
     },
     "metadata": {},
     "output_type": "display_data"
    },
    {
     "name": "stdout",
     "output_type": "stream",
     "text": [
      "\u001b[94mRegistering resized image\u001b[0m\n",
      "\u001b[92mdone\u001b[0m\n",
      "Rescaling original IF Image\n",
      "Rescaling original dots Image\n",
      "\u001b[94mPerforming multichannel tiling...\u001b[0m\n",
      "x window size: 2000\n",
      "ywindow size: 2000\n",
      "number of tiles along x axis: 2\n",
      "number of tiles along y axis: 2\n",
      "\u001b[92mdone\u001b[0m\n",
      "\u001b[94mPerforming multichannel tiling...\u001b[0m\n",
      "x window size: 2000\n",
      "ywindow size: 2000\n",
      "number of tiles along x axis: 2\n",
      "number of tiles along y axis: 2\n",
      "\u001b[92mdone\u001b[0m\n",
      "\u001b[94mPerforming multichannel tiling...\u001b[0m\n",
      "x window size: 2000\n",
      "ywindow size: 2000\n",
      "number of tiles along x axis: 2\n",
      "number of tiles along y axis: 2\n",
      "\u001b[92mdone\u001b[0m\n",
      "\u001b[94mperforming whole slide image registration...\u001b[0m\n",
      "registering frame 1/4\n",
      "registering frame 2/4\n",
      "registering frame 3/4\n",
      "registering frame 4/4\n",
      "\u001b[92mdone\u001b[0m\n",
      "Number of x intervals: 2\n",
      "Number of y intervals: 2\n",
      "Rescaling original dots Image\n",
      "\u001b[94mPerforming multichannel tiling...\u001b[0m\n",
      "x window size: 2000\n",
      "ywindow size: 2000\n",
      "number of tiles along x axis: 2\n",
      "number of tiles along y axis: 2\n",
      "\u001b[92mdone\u001b[0m\n",
      "Number of x intervals: 2\n",
      "Number of y intervals: 2\n",
      "Rescaling original dots Image\n",
      "\u001b[94mPerforming multichannel tiling...\u001b[0m\n",
      "x window size: 2000\n",
      "ywindow size: 2000\n",
      "number of tiles along x axis: 2\n",
      "number of tiles along y axis: 2\n",
      "\u001b[92mdone\u001b[0m\n",
      "Number of x intervals: 2\n",
      "Number of y intervals: 2\n",
      "Rescaling original dots Image\n",
      "\u001b[94mPerforming multichannel tiling...\u001b[0m\n",
      "x window size: 2000\n",
      "ywindow size: 2000\n",
      "number of tiles along x axis: 2\n",
      "number of tiles along y axis: 2\n",
      "\u001b[92mdone\u001b[0m\n",
      "Number of x intervals: 2\n",
      "Number of y intervals: 2\n",
      "Rescaling original dots Image\n",
      "\u001b[94mPerforming multichannel tiling...\u001b[0m\n",
      "x window size: 2000\n",
      "ywindow size: 2000\n",
      "number of tiles along x axis: 2\n",
      "number of tiles along y axis: 2\n",
      "\u001b[92mdone\u001b[0m\n",
      "Number of x intervals: 2\n",
      "Number of y intervals: 2\n",
      "Rescaling original dots Image\n",
      "\u001b[94mPerforming multichannel tiling...\u001b[0m\n",
      "x window size: 2000\n",
      "ywindow size: 2000\n",
      "number of tiles along x axis: 2\n",
      "number of tiles along y axis: 2\n",
      "\u001b[92mdone\u001b[0m\n",
      "Number of x intervals: 2\n",
      "Number of y intervals: 2\n"
     ]
    },
    {
     "data": {
      "application/vnd.jupyter.widget-view+json": {
       "model_id": "",
       "version_major": 2,
       "version_minor": 0
      },
      "text/plain": [
       "Mapping to the closest registered dot:   0%|          | 0/10392 [00:00<?, ?it/s]"
      ]
     },
     "metadata": {},
     "output_type": "display_data"
    },
    {
     "name": "stdout",
     "output_type": "stream",
     "text": [
      "IF : 8270 48150\n",
      "HE : 11000 49000\n"
     ]
    },
    {
     "data": {
      "application/vnd.jupyter.widget-view+json": {
       "model_id": "",
       "version_major": 2,
       "version_minor": 0
      },
      "text/plain": [
       "outer:   0%|          | 0/2 [00:00<?, ?it/s]"
      ]
     },
     "metadata": {},
     "output_type": "display_data"
    },
    {
     "data": {
      "application/vnd.jupyter.widget-view+json": {
       "model_id": "",
       "version_major": 2,
       "version_minor": 0
      },
      "text/plain": [
       "inner 0:   0%|          | 0/2 [00:00<?, ?it/s]"
      ]
     },
     "metadata": {},
     "output_type": "display_data"
    },
    {
     "data": {
      "application/vnd.jupyter.widget-view+json": {
       "model_id": "",
       "version_major": 2,
       "version_minor": 0
      },
      "text/plain": [
       "inner 1:   0%|          | 0/2 [00:00<?, ?it/s]"
      ]
     },
     "metadata": {},
     "output_type": "display_data"
    },
    {
     "name": "stdout",
     "output_type": "stream",
     "text": [
      "Done making patches!\n"
     ]
    },
    {
     "name": "stderr",
     "output_type": "stream",
     "text": [
      "Process Patches: 319it [01:34,  3.38it/s]                                       \n"
     ]
    },
    {
     "data": {
      "application/vnd.jupyter.widget-view+json": {
       "model_id": "",
       "version_major": 2,
       "version_minor": 0
      },
      "text/plain": [
       "outer:   0%|          | 0/2 [00:00<?, ?it/s]"
      ]
     },
     "metadata": {},
     "output_type": "display_data"
    },
    {
     "data": {
      "application/vnd.jupyter.widget-view+json": {
       "model_id": "",
       "version_major": 2,
       "version_minor": 0
      },
      "text/plain": [
       "innter 0:   0%|          | 0/2 [00:00<?, ?it/s]"
      ]
     },
     "metadata": {},
     "output_type": "display_data"
    },
    {
     "data": {
      "application/vnd.jupyter.widget-view+json": {
       "model_id": "",
       "version_major": 2,
       "version_minor": 0
      },
      "text/plain": [
       "innter 1:   0%|          | 0/2 [00:00<?, ?it/s]"
      ]
     },
     "metadata": {},
     "output_type": "display_data"
    },
    {
     "name": "stdout",
     "output_type": "stream",
     "text": [
      "\u001b[94mRegistering resized image\u001b[0m\n",
      "\u001b[92mdone\u001b[0m\n",
      "Rescaling original IF Image\n",
      "Rescaling original dots Image\n",
      "\u001b[94mPerforming multichannel tiling...\u001b[0m\n",
      "x window size: 2000\n",
      "ywindow size: 2000\n",
      "number of tiles along x axis: 2\n",
      "number of tiles along y axis: 2\n",
      "\u001b[92mdone\u001b[0m\n",
      "\u001b[94mPerforming multichannel tiling...\u001b[0m\n",
      "x window size: 2000\n",
      "ywindow size: 2000\n",
      "number of tiles along x axis: 2\n",
      "number of tiles along y axis: 2\n",
      "\u001b[92mdone\u001b[0m\n",
      "\u001b[94mPerforming multichannel tiling...\u001b[0m\n",
      "x window size: 2000\n",
      "ywindow size: 2000\n",
      "number of tiles along x axis: 2\n",
      "number of tiles along y axis: 2\n",
      "\u001b[92mdone\u001b[0m\n",
      "\u001b[94mperforming whole slide image registration...\u001b[0m\n",
      "registering frame 1/4\n",
      "registering frame 2/4\n",
      "registering frame 3/4\n",
      "registering frame 4/4\n",
      "\u001b[92mdone\u001b[0m\n",
      "Number of x intervals: 2\n",
      "Number of y intervals: 2\n",
      "Rescaling original dots Image\n",
      "\u001b[94mPerforming multichannel tiling...\u001b[0m\n",
      "x window size: 2000\n",
      "ywindow size: 2000\n",
      "number of tiles along x axis: 2\n",
      "number of tiles along y axis: 2\n",
      "\u001b[92mdone\u001b[0m\n",
      "Number of x intervals: 2\n",
      "Number of y intervals: 2\n",
      "Rescaling original dots Image\n",
      "\u001b[94mPerforming multichannel tiling...\u001b[0m\n",
      "x window size: 2000\n",
      "ywindow size: 2000\n",
      "number of tiles along x axis: 2\n",
      "number of tiles along y axis: 2\n",
      "\u001b[92mdone\u001b[0m\n",
      "Number of x intervals: 2\n",
      "Number of y intervals: 2\n",
      "Rescaling original dots Image\n",
      "\u001b[94mPerforming multichannel tiling...\u001b[0m\n",
      "x window size: 2000\n",
      "ywindow size: 2000\n",
      "number of tiles along x axis: 2\n",
      "number of tiles along y axis: 2\n",
      "\u001b[92mdone\u001b[0m\n",
      "Number of x intervals: 2\n",
      "Number of y intervals: 2\n",
      "Rescaling original dots Image\n",
      "\u001b[94mPerforming multichannel tiling...\u001b[0m\n",
      "x window size: 2000\n",
      "ywindow size: 2000\n",
      "number of tiles along x axis: 2\n",
      "number of tiles along y axis: 2\n",
      "\u001b[92mdone\u001b[0m\n",
      "Number of x intervals: 2\n",
      "Number of y intervals: 2\n",
      "Rescaling original dots Image\n",
      "\u001b[94mPerforming multichannel tiling...\u001b[0m\n",
      "x window size: 2000\n",
      "ywindow size: 2000\n",
      "number of tiles along x axis: 2\n",
      "number of tiles along y axis: 2\n",
      "\u001b[92mdone\u001b[0m\n",
      "Number of x intervals: 2\n",
      "Number of y intervals: 2\n"
     ]
    },
    {
     "data": {
      "application/vnd.jupyter.widget-view+json": {
       "model_id": "",
       "version_major": 2,
       "version_minor": 0
      },
      "text/plain": [
       "Mapping to the closest registered dot:   0%|          | 0/11427 [00:00<?, ?it/s]"
      ]
     },
     "metadata": {},
     "output_type": "display_data"
    },
    {
     "name": "stdout",
     "output_type": "stream",
     "text": [
      "IF : 8270 52150\n",
      "HE : 11000 53000\n"
     ]
    },
    {
     "data": {
      "application/vnd.jupyter.widget-view+json": {
       "model_id": "",
       "version_major": 2,
       "version_minor": 0
      },
      "text/plain": [
       "outer:   0%|          | 0/2 [00:00<?, ?it/s]"
      ]
     },
     "metadata": {},
     "output_type": "display_data"
    },
    {
     "data": {
      "application/vnd.jupyter.widget-view+json": {
       "model_id": "",
       "version_major": 2,
       "version_minor": 0
      },
      "text/plain": [
       "inner 0:   0%|          | 0/2 [00:00<?, ?it/s]"
      ]
     },
     "metadata": {},
     "output_type": "display_data"
    },
    {
     "data": {
      "application/vnd.jupyter.widget-view+json": {
       "model_id": "",
       "version_major": 2,
       "version_minor": 0
      },
      "text/plain": [
       "inner 1:   0%|          | 0/2 [00:00<?, ?it/s]"
      ]
     },
     "metadata": {},
     "output_type": "display_data"
    },
    {
     "name": "stdout",
     "output_type": "stream",
     "text": [
      "Done making patches!\n"
     ]
    },
    {
     "name": "stderr",
     "output_type": "stream",
     "text": [
      "Process Patches: 319it [01:34,  3.39it/s]                                       \n"
     ]
    },
    {
     "data": {
      "application/vnd.jupyter.widget-view+json": {
       "model_id": "",
       "version_major": 2,
       "version_minor": 0
      },
      "text/plain": [
       "outer:   0%|          | 0/2 [00:00<?, ?it/s]"
      ]
     },
     "metadata": {},
     "output_type": "display_data"
    },
    {
     "data": {
      "application/vnd.jupyter.widget-view+json": {
       "model_id": "",
       "version_major": 2,
       "version_minor": 0
      },
      "text/plain": [
       "innter 0:   0%|          | 0/2 [00:00<?, ?it/s]"
      ]
     },
     "metadata": {},
     "output_type": "display_data"
    },
    {
     "data": {
      "application/vnd.jupyter.widget-view+json": {
       "model_id": "",
       "version_major": 2,
       "version_minor": 0
      },
      "text/plain": [
       "innter 1:   0%|          | 0/2 [00:00<?, ?it/s]"
      ]
     },
     "metadata": {},
     "output_type": "display_data"
    },
    {
     "name": "stdout",
     "output_type": "stream",
     "text": [
      "\u001b[94mRegistering resized image\u001b[0m\n",
      "\u001b[92mdone\u001b[0m\n",
      "Rescaling original IF Image\n",
      "Rescaling original dots Image\n",
      "\u001b[94mPerforming multichannel tiling...\u001b[0m\n",
      "x window size: 2000\n",
      "ywindow size: 2000\n",
      "number of tiles along x axis: 2\n",
      "number of tiles along y axis: 2\n",
      "\u001b[92mdone\u001b[0m\n",
      "\u001b[94mPerforming multichannel tiling...\u001b[0m\n",
      "x window size: 2000\n",
      "ywindow size: 2000\n",
      "number of tiles along x axis: 2\n",
      "number of tiles along y axis: 2\n",
      "\u001b[92mdone\u001b[0m\n",
      "\u001b[94mPerforming multichannel tiling...\u001b[0m\n",
      "x window size: 2000\n",
      "ywindow size: 2000\n",
      "number of tiles along x axis: 2\n",
      "number of tiles along y axis: 2\n",
      "\u001b[92mdone\u001b[0m\n",
      "\u001b[94mperforming whole slide image registration...\u001b[0m\n",
      "registering frame 1/4\n",
      "registering frame 2/4\n",
      "registering frame 3/4\n",
      "registering frame 4/4\n",
      "\u001b[92mdone\u001b[0m\n",
      "Number of x intervals: 2\n",
      "Number of y intervals: 2\n",
      "Rescaling original dots Image\n",
      "\u001b[94mPerforming multichannel tiling...\u001b[0m\n",
      "x window size: 2000\n",
      "ywindow size: 2000\n",
      "number of tiles along x axis: 2\n",
      "number of tiles along y axis: 2\n",
      "\u001b[92mdone\u001b[0m\n",
      "Number of x intervals: 2\n",
      "Number of y intervals: 2\n",
      "Rescaling original dots Image\n",
      "\u001b[94mPerforming multichannel tiling...\u001b[0m\n",
      "x window size: 2000\n",
      "ywindow size: 2000\n",
      "number of tiles along x axis: 2\n",
      "number of tiles along y axis: 2\n",
      "\u001b[92mdone\u001b[0m\n",
      "Number of x intervals: 2\n",
      "Number of y intervals: 2\n",
      "Rescaling original dots Image\n",
      "\u001b[94mPerforming multichannel tiling...\u001b[0m\n",
      "x window size: 2000\n",
      "ywindow size: 2000\n",
      "number of tiles along x axis: 2\n",
      "number of tiles along y axis: 2\n",
      "\u001b[92mdone\u001b[0m\n",
      "Number of x intervals: 2\n",
      "Number of y intervals: 2\n",
      "Rescaling original dots Image\n",
      "\u001b[94mPerforming multichannel tiling...\u001b[0m\n",
      "x window size: 2000\n",
      "ywindow size: 2000\n",
      "number of tiles along x axis: 2\n",
      "number of tiles along y axis: 2\n",
      "\u001b[92mdone\u001b[0m\n",
      "Number of x intervals: 2\n",
      "Number of y intervals: 2\n",
      "Rescaling original dots Image\n",
      "\u001b[94mPerforming multichannel tiling...\u001b[0m\n",
      "x window size: 2000\n",
      "ywindow size: 2000\n",
      "number of tiles along x axis: 2\n",
      "number of tiles along y axis: 2\n",
      "\u001b[92mdone\u001b[0m\n",
      "Number of x intervals: 2\n",
      "Number of y intervals: 2\n"
     ]
    },
    {
     "data": {
      "application/vnd.jupyter.widget-view+json": {
       "model_id": "",
       "version_major": 2,
       "version_minor": 0
      },
      "text/plain": [
       "Mapping to the closest registered dot:   0%|          | 0/5316 [00:00<?, ?it/s]"
      ]
     },
     "metadata": {},
     "output_type": "display_data"
    },
    {
     "name": "stdout",
     "output_type": "stream",
     "text": [
      "IF : 8270 56150\n",
      "HE : 11000 57000\n"
     ]
    },
    {
     "data": {
      "application/vnd.jupyter.widget-view+json": {
       "model_id": "",
       "version_major": 2,
       "version_minor": 0
      },
      "text/plain": [
       "outer:   0%|          | 0/2 [00:00<?, ?it/s]"
      ]
     },
     "metadata": {},
     "output_type": "display_data"
    },
    {
     "data": {
      "application/vnd.jupyter.widget-view+json": {
       "model_id": "",
       "version_major": 2,
       "version_minor": 0
      },
      "text/plain": [
       "inner 0:   0%|          | 0/2 [00:00<?, ?it/s]"
      ]
     },
     "metadata": {},
     "output_type": "display_data"
    },
    {
     "data": {
      "application/vnd.jupyter.widget-view+json": {
       "model_id": "",
       "version_major": 2,
       "version_minor": 0
      },
      "text/plain": [
       "inner 1:   0%|          | 0/2 [00:00<?, ?it/s]"
      ]
     },
     "metadata": {},
     "output_type": "display_data"
    },
    {
     "name": "stdout",
     "output_type": "stream",
     "text": [
      "Done making patches!\n"
     ]
    },
    {
     "name": "stderr",
     "output_type": "stream",
     "text": [
      "Process Patches: 319it [01:34,  3.39it/s]                                       \n"
     ]
    },
    {
     "data": {
      "application/vnd.jupyter.widget-view+json": {
       "model_id": "",
       "version_major": 2,
       "version_minor": 0
      },
      "text/plain": [
       "outer:   0%|          | 0/2 [00:00<?, ?it/s]"
      ]
     },
     "metadata": {},
     "output_type": "display_data"
    },
    {
     "data": {
      "application/vnd.jupyter.widget-view+json": {
       "model_id": "",
       "version_major": 2,
       "version_minor": 0
      },
      "text/plain": [
       "innter 0:   0%|          | 0/2 [00:00<?, ?it/s]"
      ]
     },
     "metadata": {},
     "output_type": "display_data"
    },
    {
     "data": {
      "application/vnd.jupyter.widget-view+json": {
       "model_id": "",
       "version_major": 2,
       "version_minor": 0
      },
      "text/plain": [
       "innter 1:   0%|          | 0/2 [00:00<?, ?it/s]"
      ]
     },
     "metadata": {},
     "output_type": "display_data"
    },
    {
     "name": "stdout",
     "output_type": "stream",
     "text": [
      "\u001b[94mRegistering resized image\u001b[0m\n",
      "Failed Registration on HE:11000,57000\n",
      "IF : 8270 60150\n",
      "HE : 11000 61000\n"
     ]
    },
    {
     "data": {
      "application/vnd.jupyter.widget-view+json": {
       "model_id": "",
       "version_major": 2,
       "version_minor": 0
      },
      "text/plain": [
       "outer:   0%|          | 0/2 [00:00<?, ?it/s]"
      ]
     },
     "metadata": {},
     "output_type": "display_data"
    },
    {
     "data": {
      "application/vnd.jupyter.widget-view+json": {
       "model_id": "",
       "version_major": 2,
       "version_minor": 0
      },
      "text/plain": [
       "inner 0:   0%|          | 0/2 [00:00<?, ?it/s]"
      ]
     },
     "metadata": {},
     "output_type": "display_data"
    },
    {
     "data": {
      "application/vnd.jupyter.widget-view+json": {
       "model_id": "",
       "version_major": 2,
       "version_minor": 0
      },
      "text/plain": [
       "inner 1:   0%|          | 0/2 [00:00<?, ?it/s]"
      ]
     },
     "metadata": {},
     "output_type": "display_data"
    },
    {
     "name": "stdout",
     "output_type": "stream",
     "text": [
      "Done making patches!\n"
     ]
    },
    {
     "name": "stderr",
     "output_type": "stream",
     "text": [
      "Process Patches: 319it [01:35,  3.35it/s]                                       \n"
     ]
    },
    {
     "data": {
      "application/vnd.jupyter.widget-view+json": {
       "model_id": "",
       "version_major": 2,
       "version_minor": 0
      },
      "text/plain": [
       "outer:   0%|          | 0/2 [00:00<?, ?it/s]"
      ]
     },
     "metadata": {},
     "output_type": "display_data"
    },
    {
     "data": {
      "application/vnd.jupyter.widget-view+json": {
       "model_id": "",
       "version_major": 2,
       "version_minor": 0
      },
      "text/plain": [
       "innter 0:   0%|          | 0/2 [00:00<?, ?it/s]"
      ]
     },
     "metadata": {},
     "output_type": "display_data"
    },
    {
     "data": {
      "application/vnd.jupyter.widget-view+json": {
       "model_id": "",
       "version_major": 2,
       "version_minor": 0
      },
      "text/plain": [
       "innter 1:   0%|          | 0/2 [00:00<?, ?it/s]"
      ]
     },
     "metadata": {},
     "output_type": "display_data"
    },
    {
     "name": "stdout",
     "output_type": "stream",
     "text": [
      "\u001b[94mRegistering resized image\u001b[0m\n",
      "Failed Registration on HE:11000,61000\n",
      "IF : 8270 64150\n",
      "HE : 11000 65000\n"
     ]
    },
    {
     "data": {
      "application/vnd.jupyter.widget-view+json": {
       "model_id": "",
       "version_major": 2,
       "version_minor": 0
      },
      "text/plain": [
       "outer:   0%|          | 0/2 [00:00<?, ?it/s]"
      ]
     },
     "metadata": {},
     "output_type": "display_data"
    },
    {
     "data": {
      "application/vnd.jupyter.widget-view+json": {
       "model_id": "",
       "version_major": 2,
       "version_minor": 0
      },
      "text/plain": [
       "inner 0:   0%|          | 0/2 [00:00<?, ?it/s]"
      ]
     },
     "metadata": {},
     "output_type": "display_data"
    },
    {
     "data": {
      "application/vnd.jupyter.widget-view+json": {
       "model_id": "",
       "version_major": 2,
       "version_minor": 0
      },
      "text/plain": [
       "inner 1:   0%|          | 0/2 [00:00<?, ?it/s]"
      ]
     },
     "metadata": {},
     "output_type": "display_data"
    },
    {
     "name": "stdout",
     "output_type": "stream",
     "text": [
      "Done making patches!\n"
     ]
    },
    {
     "name": "stderr",
     "output_type": "stream",
     "text": [
      "Process Patches: 319it [01:35,  3.34it/s]                                       \n"
     ]
    },
    {
     "data": {
      "application/vnd.jupyter.widget-view+json": {
       "model_id": "",
       "version_major": 2,
       "version_minor": 0
      },
      "text/plain": [
       "outer:   0%|          | 0/2 [00:00<?, ?it/s]"
      ]
     },
     "metadata": {},
     "output_type": "display_data"
    },
    {
     "data": {
      "application/vnd.jupyter.widget-view+json": {
       "model_id": "",
       "version_major": 2,
       "version_minor": 0
      },
      "text/plain": [
       "innter 0:   0%|          | 0/2 [00:00<?, ?it/s]"
      ]
     },
     "metadata": {},
     "output_type": "display_data"
    },
    {
     "data": {
      "application/vnd.jupyter.widget-view+json": {
       "model_id": "",
       "version_major": 2,
       "version_minor": 0
      },
      "text/plain": [
       "innter 1:   0%|          | 0/2 [00:00<?, ?it/s]"
      ]
     },
     "metadata": {},
     "output_type": "display_data"
    },
    {
     "name": "stdout",
     "output_type": "stream",
     "text": [
      "\u001b[94mRegistering resized image\u001b[0m\n",
      "\u001b[92mdone\u001b[0m\n",
      "Rescaling original IF Image\n",
      "Rescaling original dots Image\n",
      "\u001b[94mPerforming multichannel tiling...\u001b[0m\n",
      "x window size: 2000\n",
      "ywindow size: 2000\n",
      "number of tiles along x axis: 2\n",
      "number of tiles along y axis: 2\n",
      "\u001b[92mdone\u001b[0m\n",
      "\u001b[94mPerforming multichannel tiling...\u001b[0m\n",
      "x window size: 2000\n",
      "ywindow size: 2000\n",
      "number of tiles along x axis: 2\n",
      "number of tiles along y axis: 2\n",
      "\u001b[92mdone\u001b[0m\n",
      "\u001b[94mPerforming multichannel tiling...\u001b[0m\n",
      "x window size: 2000\n",
      "ywindow size: 2000\n",
      "number of tiles along x axis: 2\n",
      "number of tiles along y axis: 2\n",
      "\u001b[92mdone\u001b[0m\n",
      "\u001b[94mperforming whole slide image registration...\u001b[0m\n",
      "registering frame 1/4\n",
      "registering frame 2/4\n",
      "registering frame 3/4\n",
      "registering frame 4/4\n",
      "\u001b[92mdone\u001b[0m\n",
      "Number of x intervals: 2\n",
      "Number of y intervals: 2\n",
      "Rescaling original dots Image\n",
      "\u001b[94mPerforming multichannel tiling...\u001b[0m\n",
      "x window size: 2000\n",
      "ywindow size: 2000\n",
      "number of tiles along x axis: 2\n",
      "number of tiles along y axis: 2\n",
      "\u001b[92mdone\u001b[0m\n",
      "Number of x intervals: 2\n",
      "Number of y intervals: 2\n",
      "Rescaling original dots Image\n",
      "\u001b[94mPerforming multichannel tiling...\u001b[0m\n",
      "x window size: 2000\n",
      "ywindow size: 2000\n",
      "number of tiles along x axis: 2\n",
      "number of tiles along y axis: 2\n",
      "\u001b[92mdone\u001b[0m\n",
      "Number of x intervals: 2\n",
      "Number of y intervals: 2\n",
      "Rescaling original dots Image\n",
      "\u001b[94mPerforming multichannel tiling...\u001b[0m\n",
      "x window size: 2000\n",
      "ywindow size: 2000\n",
      "number of tiles along x axis: 2\n",
      "number of tiles along y axis: 2\n",
      "\u001b[92mdone\u001b[0m\n",
      "Number of x intervals: 2\n",
      "Number of y intervals: 2\n",
      "Rescaling original dots Image\n",
      "\u001b[94mPerforming multichannel tiling...\u001b[0m\n",
      "x window size: 2000\n",
      "ywindow size: 2000\n",
      "number of tiles along x axis: 2\n",
      "number of tiles along y axis: 2\n",
      "\u001b[92mdone\u001b[0m\n",
      "Number of x intervals: 2\n",
      "Number of y intervals: 2\n",
      "Rescaling original dots Image\n",
      "\u001b[94mPerforming multichannel tiling...\u001b[0m\n",
      "x window size: 2000\n",
      "ywindow size: 2000\n",
      "number of tiles along x axis: 2\n",
      "number of tiles along y axis: 2\n",
      "\u001b[92mdone\u001b[0m\n",
      "Number of x intervals: 2\n",
      "Number of y intervals: 2\n"
     ]
    },
    {
     "data": {
      "application/vnd.jupyter.widget-view+json": {
       "model_id": "",
       "version_major": 2,
       "version_minor": 0
      },
      "text/plain": [
       "Mapping to the closest registered dot: 0it [00:00, ?it/s]"
      ]
     },
     "metadata": {},
     "output_type": "display_data"
    },
    {
     "name": "stdout",
     "output_type": "stream",
     "text": [
      "IF : 8270 68150\n",
      "HE : 11000 69000\n"
     ]
    },
    {
     "data": {
      "application/vnd.jupyter.widget-view+json": {
       "model_id": "",
       "version_major": 2,
       "version_minor": 0
      },
      "text/plain": [
       "outer:   0%|          | 0/2 [00:00<?, ?it/s]"
      ]
     },
     "metadata": {},
     "output_type": "display_data"
    },
    {
     "data": {
      "application/vnd.jupyter.widget-view+json": {
       "model_id": "",
       "version_major": 2,
       "version_minor": 0
      },
      "text/plain": [
       "inner 0:   0%|          | 0/2 [00:00<?, ?it/s]"
      ]
     },
     "metadata": {},
     "output_type": "display_data"
    },
    {
     "data": {
      "application/vnd.jupyter.widget-view+json": {
       "model_id": "",
       "version_major": 2,
       "version_minor": 0
      },
      "text/plain": [
       "inner 1:   0%|          | 0/2 [00:00<?, ?it/s]"
      ]
     },
     "metadata": {},
     "output_type": "display_data"
    },
    {
     "name": "stdout",
     "output_type": "stream",
     "text": [
      "Done making patches!\n"
     ]
    },
    {
     "name": "stderr",
     "output_type": "stream",
     "text": [
      "Process Patches: 319it [01:34,  3.38it/s]                                       \n"
     ]
    },
    {
     "data": {
      "application/vnd.jupyter.widget-view+json": {
       "model_id": "",
       "version_major": 2,
       "version_minor": 0
      },
      "text/plain": [
       "outer:   0%|          | 0/2 [00:00<?, ?it/s]"
      ]
     },
     "metadata": {},
     "output_type": "display_data"
    },
    {
     "data": {
      "application/vnd.jupyter.widget-view+json": {
       "model_id": "",
       "version_major": 2,
       "version_minor": 0
      },
      "text/plain": [
       "innter 0:   0%|          | 0/2 [00:00<?, ?it/s]"
      ]
     },
     "metadata": {},
     "output_type": "display_data"
    },
    {
     "data": {
      "application/vnd.jupyter.widget-view+json": {
       "model_id": "",
       "version_major": 2,
       "version_minor": 0
      },
      "text/plain": [
       "innter 1:   0%|          | 0/2 [00:00<?, ?it/s]"
      ]
     },
     "metadata": {},
     "output_type": "display_data"
    },
    {
     "name": "stdout",
     "output_type": "stream",
     "text": [
      "\u001b[94mRegistering resized image\u001b[0m\n",
      "\u001b[92mdone\u001b[0m\n",
      "Rescaling original IF Image\n",
      "Rescaling original dots Image\n",
      "\u001b[94mPerforming multichannel tiling...\u001b[0m\n",
      "x window size: 2000\n",
      "ywindow size: 2000\n",
      "number of tiles along x axis: 2\n",
      "number of tiles along y axis: 2\n",
      "\u001b[92mdone\u001b[0m\n",
      "\u001b[94mPerforming multichannel tiling...\u001b[0m\n",
      "x window size: 2000\n",
      "ywindow size: 2000\n",
      "number of tiles along x axis: 2\n",
      "number of tiles along y axis: 2\n",
      "\u001b[92mdone\u001b[0m\n",
      "\u001b[94mPerforming multichannel tiling...\u001b[0m\n",
      "x window size: 2000\n",
      "ywindow size: 2000\n",
      "number of tiles along x axis: 2\n",
      "number of tiles along y axis: 2\n",
      "\u001b[92mdone\u001b[0m\n",
      "\u001b[94mperforming whole slide image registration...\u001b[0m\n",
      "registering frame 1/4\n",
      "registering frame 2/4\n",
      "registering frame 3/4\n",
      "registering frame 4/4\n",
      "\u001b[92mdone\u001b[0m\n",
      "Number of x intervals: 2\n",
      "Number of y intervals: 2\n",
      "Rescaling original dots Image\n",
      "\u001b[94mPerforming multichannel tiling...\u001b[0m\n",
      "x window size: 2000\n",
      "ywindow size: 2000\n",
      "number of tiles along x axis: 2\n",
      "number of tiles along y axis: 2\n",
      "\u001b[92mdone\u001b[0m\n",
      "Number of x intervals: 2\n",
      "Number of y intervals: 2\n",
      "Rescaling original dots Image\n",
      "\u001b[94mPerforming multichannel tiling...\u001b[0m\n",
      "x window size: 2000\n",
      "ywindow size: 2000\n",
      "number of tiles along x axis: 2\n",
      "number of tiles along y axis: 2\n",
      "\u001b[92mdone\u001b[0m\n",
      "Number of x intervals: 2\n",
      "Number of y intervals: 2\n",
      "Rescaling original dots Image\n",
      "\u001b[94mPerforming multichannel tiling...\u001b[0m\n",
      "x window size: 2000\n",
      "ywindow size: 2000\n",
      "number of tiles along x axis: 2\n",
      "number of tiles along y axis: 2\n",
      "\u001b[92mdone\u001b[0m\n",
      "Number of x intervals: 2\n",
      "Number of y intervals: 2\n",
      "Rescaling original dots Image\n",
      "\u001b[94mPerforming multichannel tiling...\u001b[0m\n",
      "x window size: 2000\n",
      "ywindow size: 2000\n",
      "number of tiles along x axis: 2\n",
      "number of tiles along y axis: 2\n",
      "\u001b[92mdone\u001b[0m\n",
      "Number of x intervals: 2\n",
      "Number of y intervals: 2\n",
      "Rescaling original dots Image\n",
      "\u001b[94mPerforming multichannel tiling...\u001b[0m\n",
      "x window size: 2000\n",
      "ywindow size: 2000\n",
      "number of tiles along x axis: 2\n",
      "number of tiles along y axis: 2\n",
      "\u001b[92mdone\u001b[0m\n",
      "Number of x intervals: 2\n",
      "Number of y intervals: 2\n"
     ]
    },
    {
     "data": {
      "application/vnd.jupyter.widget-view+json": {
       "model_id": "",
       "version_major": 2,
       "version_minor": 0
      },
      "text/plain": [
       "Mapping to the closest registered dot:   0%|          | 0/1703 [00:00<?, ?it/s]"
      ]
     },
     "metadata": {},
     "output_type": "display_data"
    },
    {
     "name": "stdout",
     "output_type": "stream",
     "text": [
      "IF : 8270 72150\n",
      "HE : 11000 73000\n"
     ]
    },
    {
     "data": {
      "application/vnd.jupyter.widget-view+json": {
       "model_id": "",
       "version_major": 2,
       "version_minor": 0
      },
      "text/plain": [
       "outer:   0%|          | 0/2 [00:00<?, ?it/s]"
      ]
     },
     "metadata": {},
     "output_type": "display_data"
    },
    {
     "data": {
      "application/vnd.jupyter.widget-view+json": {
       "model_id": "",
       "version_major": 2,
       "version_minor": 0
      },
      "text/plain": [
       "inner 0:   0%|          | 0/2 [00:00<?, ?it/s]"
      ]
     },
     "metadata": {},
     "output_type": "display_data"
    },
    {
     "data": {
      "application/vnd.jupyter.widget-view+json": {
       "model_id": "",
       "version_major": 2,
       "version_minor": 0
      },
      "text/plain": [
       "inner 1:   0%|          | 0/2 [00:00<?, ?it/s]"
      ]
     },
     "metadata": {},
     "output_type": "display_data"
    },
    {
     "name": "stdout",
     "output_type": "stream",
     "text": [
      "Done making patches!\n"
     ]
    },
    {
     "name": "stderr",
     "output_type": "stream",
     "text": [
      "Process Patches: 319it [01:34,  3.38it/s]                                       \n"
     ]
    },
    {
     "data": {
      "application/vnd.jupyter.widget-view+json": {
       "model_id": "",
       "version_major": 2,
       "version_minor": 0
      },
      "text/plain": [
       "outer:   0%|          | 0/2 [00:00<?, ?it/s]"
      ]
     },
     "metadata": {},
     "output_type": "display_data"
    },
    {
     "data": {
      "application/vnd.jupyter.widget-view+json": {
       "model_id": "",
       "version_major": 2,
       "version_minor": 0
      },
      "text/plain": [
       "innter 0:   0%|          | 0/2 [00:00<?, ?it/s]"
      ]
     },
     "metadata": {},
     "output_type": "display_data"
    },
    {
     "data": {
      "application/vnd.jupyter.widget-view+json": {
       "model_id": "",
       "version_major": 2,
       "version_minor": 0
      },
      "text/plain": [
       "innter 1:   0%|          | 0/2 [00:00<?, ?it/s]"
      ]
     },
     "metadata": {},
     "output_type": "display_data"
    },
    {
     "name": "stdout",
     "output_type": "stream",
     "text": [
      "\u001b[94mRegistering resized image\u001b[0m\n",
      "\u001b[92mdone\u001b[0m\n",
      "Rescaling original IF Image\n",
      "Rescaling original dots Image\n",
      "\u001b[94mPerforming multichannel tiling...\u001b[0m\n",
      "x window size: 2000\n",
      "ywindow size: 2000\n",
      "number of tiles along x axis: 2\n",
      "number of tiles along y axis: 2\n",
      "\u001b[92mdone\u001b[0m\n",
      "\u001b[94mPerforming multichannel tiling...\u001b[0m\n",
      "x window size: 2000\n",
      "ywindow size: 2000\n",
      "number of tiles along x axis: 2\n",
      "number of tiles along y axis: 2\n",
      "\u001b[92mdone\u001b[0m\n",
      "\u001b[94mPerforming multichannel tiling...\u001b[0m\n",
      "x window size: 2000\n",
      "ywindow size: 2000\n",
      "number of tiles along x axis: 2\n",
      "number of tiles along y axis: 2\n",
      "\u001b[92mdone\u001b[0m\n",
      "\u001b[94mperforming whole slide image registration...\u001b[0m\n",
      "registering frame 1/4\n",
      "registering frame 2/4\n",
      "registering frame 3/4\n",
      "registering frame 4/4\n",
      "\u001b[92mdone\u001b[0m\n",
      "Number of x intervals: 2\n",
      "Number of y intervals: 2\n",
      "Rescaling original dots Image\n",
      "\u001b[94mPerforming multichannel tiling...\u001b[0m\n",
      "x window size: 2000\n",
      "ywindow size: 2000\n",
      "number of tiles along x axis: 2\n",
      "number of tiles along y axis: 2\n",
      "\u001b[92mdone\u001b[0m\n",
      "Number of x intervals: 2\n",
      "Number of y intervals: 2\n",
      "Rescaling original dots Image\n",
      "\u001b[94mPerforming multichannel tiling...\u001b[0m\n",
      "x window size: 2000\n",
      "ywindow size: 2000\n",
      "number of tiles along x axis: 2\n",
      "number of tiles along y axis: 2\n",
      "\u001b[92mdone\u001b[0m\n",
      "Number of x intervals: 2\n",
      "Number of y intervals: 2\n",
      "Rescaling original dots Image\n",
      "\u001b[94mPerforming multichannel tiling...\u001b[0m\n",
      "x window size: 2000\n",
      "ywindow size: 2000\n",
      "number of tiles along x axis: 2\n",
      "number of tiles along y axis: 2\n",
      "\u001b[92mdone\u001b[0m\n",
      "Number of x intervals: 2\n",
      "Number of y intervals: 2\n",
      "Rescaling original dots Image\n",
      "\u001b[94mPerforming multichannel tiling...\u001b[0m\n",
      "x window size: 2000\n",
      "ywindow size: 2000\n",
      "number of tiles along x axis: 2\n",
      "number of tiles along y axis: 2\n",
      "\u001b[92mdone\u001b[0m\n",
      "Number of x intervals: 2\n",
      "Number of y intervals: 2\n",
      "Rescaling original dots Image\n",
      "\u001b[94mPerforming multichannel tiling...\u001b[0m\n",
      "x window size: 2000\n",
      "ywindow size: 2000\n",
      "number of tiles along x axis: 2\n",
      "number of tiles along y axis: 2\n",
      "\u001b[92mdone\u001b[0m\n",
      "Number of x intervals: 2\n",
      "Number of y intervals: 2\n"
     ]
    },
    {
     "data": {
      "application/vnd.jupyter.widget-view+json": {
       "model_id": "",
       "version_major": 2,
       "version_minor": 0
      },
      "text/plain": [
       "Mapping to the closest registered dot:   0%|          | 0/2897 [00:00<?, ?it/s]"
      ]
     },
     "metadata": {},
     "output_type": "display_data"
    },
    {
     "name": "stdout",
     "output_type": "stream",
     "text": [
      "IF : 8270 76150\n",
      "HE : 11000 77000\n"
     ]
    },
    {
     "data": {
      "application/vnd.jupyter.widget-view+json": {
       "model_id": "",
       "version_major": 2,
       "version_minor": 0
      },
      "text/plain": [
       "outer:   0%|          | 0/2 [00:00<?, ?it/s]"
      ]
     },
     "metadata": {},
     "output_type": "display_data"
    },
    {
     "data": {
      "application/vnd.jupyter.widget-view+json": {
       "model_id": "",
       "version_major": 2,
       "version_minor": 0
      },
      "text/plain": [
       "inner 0:   0%|          | 0/2 [00:00<?, ?it/s]"
      ]
     },
     "metadata": {},
     "output_type": "display_data"
    },
    {
     "data": {
      "application/vnd.jupyter.widget-view+json": {
       "model_id": "",
       "version_major": 2,
       "version_minor": 0
      },
      "text/plain": [
       "inner 1:   0%|          | 0/2 [00:00<?, ?it/s]"
      ]
     },
     "metadata": {},
     "output_type": "display_data"
    },
    {
     "name": "stdout",
     "output_type": "stream",
     "text": [
      "Done making patches!\n"
     ]
    },
    {
     "name": "stderr",
     "output_type": "stream",
     "text": [
      "Process Patches: 319it [01:34,  3.38it/s]                                       \n"
     ]
    },
    {
     "data": {
      "application/vnd.jupyter.widget-view+json": {
       "model_id": "",
       "version_major": 2,
       "version_minor": 0
      },
      "text/plain": [
       "outer:   0%|          | 0/2 [00:00<?, ?it/s]"
      ]
     },
     "metadata": {},
     "output_type": "display_data"
    },
    {
     "data": {
      "application/vnd.jupyter.widget-view+json": {
       "model_id": "",
       "version_major": 2,
       "version_minor": 0
      },
      "text/plain": [
       "innter 0:   0%|          | 0/2 [00:00<?, ?it/s]"
      ]
     },
     "metadata": {},
     "output_type": "display_data"
    },
    {
     "data": {
      "application/vnd.jupyter.widget-view+json": {
       "model_id": "",
       "version_major": 2,
       "version_minor": 0
      },
      "text/plain": [
       "innter 1:   0%|          | 0/2 [00:00<?, ?it/s]"
      ]
     },
     "metadata": {},
     "output_type": "display_data"
    },
    {
     "name": "stdout",
     "output_type": "stream",
     "text": [
      "\u001b[94mRegistering resized image\u001b[0m\n",
      "\u001b[92mdone\u001b[0m\n",
      "Rescaling original IF Image\n",
      "Rescaling original dots Image\n",
      "\u001b[94mPerforming multichannel tiling...\u001b[0m\n",
      "x window size: 2000\n",
      "ywindow size: 2000\n",
      "number of tiles along x axis: 2\n",
      "number of tiles along y axis: 2\n",
      "\u001b[92mdone\u001b[0m\n",
      "\u001b[94mPerforming multichannel tiling...\u001b[0m\n",
      "x window size: 2000\n",
      "ywindow size: 2000\n",
      "number of tiles along x axis: 2\n",
      "number of tiles along y axis: 2\n",
      "\u001b[92mdone\u001b[0m\n",
      "\u001b[94mPerforming multichannel tiling...\u001b[0m\n",
      "x window size: 2000\n",
      "ywindow size: 2000\n",
      "number of tiles along x axis: 2\n",
      "number of tiles along y axis: 2\n",
      "\u001b[92mdone\u001b[0m\n",
      "\u001b[94mperforming whole slide image registration...\u001b[0m\n",
      "registering frame 1/4\n",
      "registering frame 2/4\n",
      "registering frame 3/4\n",
      "registering frame 4/4\n",
      "\u001b[92mdone\u001b[0m\n",
      "Number of x intervals: 2\n",
      "Number of y intervals: 2\n",
      "Rescaling original dots Image\n",
      "\u001b[94mPerforming multichannel tiling...\u001b[0m\n",
      "x window size: 2000\n",
      "ywindow size: 2000\n",
      "number of tiles along x axis: 2\n",
      "number of tiles along y axis: 2\n",
      "\u001b[92mdone\u001b[0m\n",
      "Number of x intervals: 2\n",
      "Number of y intervals: 2\n",
      "Rescaling original dots Image\n",
      "\u001b[94mPerforming multichannel tiling...\u001b[0m\n",
      "x window size: 2000\n",
      "ywindow size: 2000\n",
      "number of tiles along x axis: 2\n",
      "number of tiles along y axis: 2\n",
      "\u001b[92mdone\u001b[0m\n",
      "Number of x intervals: 2\n",
      "Number of y intervals: 2\n",
      "Rescaling original dots Image\n",
      "\u001b[94mPerforming multichannel tiling...\u001b[0m\n",
      "x window size: 2000\n",
      "ywindow size: 2000\n",
      "number of tiles along x axis: 2\n",
      "number of tiles along y axis: 2\n",
      "\u001b[92mdone\u001b[0m\n",
      "Number of x intervals: 2\n",
      "Number of y intervals: 2\n",
      "Rescaling original dots Image\n",
      "\u001b[94mPerforming multichannel tiling...\u001b[0m\n",
      "x window size: 2000\n",
      "ywindow size: 2000\n",
      "number of tiles along x axis: 2\n",
      "number of tiles along y axis: 2\n",
      "\u001b[92mdone\u001b[0m\n",
      "Number of x intervals: 2\n",
      "Number of y intervals: 2\n",
      "Rescaling original dots Image\n",
      "\u001b[94mPerforming multichannel tiling...\u001b[0m\n",
      "x window size: 2000\n",
      "ywindow size: 2000\n",
      "number of tiles along x axis: 2\n",
      "number of tiles along y axis: 2\n",
      "\u001b[92mdone\u001b[0m\n",
      "Number of x intervals: 2\n",
      "Number of y intervals: 2\n"
     ]
    },
    {
     "data": {
      "application/vnd.jupyter.widget-view+json": {
       "model_id": "",
       "version_major": 2,
       "version_minor": 0
      },
      "text/plain": [
       "Mapping to the closest registered dot:   0%|          | 0/3967 [00:00<?, ?it/s]"
      ]
     },
     "metadata": {},
     "output_type": "display_data"
    },
    {
     "name": "stdout",
     "output_type": "stream",
     "text": [
      "IF : 8270 80150\n",
      "HE : 11000 81000\n"
     ]
    },
    {
     "data": {
      "application/vnd.jupyter.widget-view+json": {
       "model_id": "",
       "version_major": 2,
       "version_minor": 0
      },
      "text/plain": [
       "outer:   0%|          | 0/2 [00:00<?, ?it/s]"
      ]
     },
     "metadata": {},
     "output_type": "display_data"
    },
    {
     "data": {
      "application/vnd.jupyter.widget-view+json": {
       "model_id": "",
       "version_major": 2,
       "version_minor": 0
      },
      "text/plain": [
       "inner 0:   0%|          | 0/2 [00:00<?, ?it/s]"
      ]
     },
     "metadata": {},
     "output_type": "display_data"
    },
    {
     "data": {
      "application/vnd.jupyter.widget-view+json": {
       "model_id": "",
       "version_major": 2,
       "version_minor": 0
      },
      "text/plain": [
       "inner 1:   0%|          | 0/2 [00:00<?, ?it/s]"
      ]
     },
     "metadata": {},
     "output_type": "display_data"
    },
    {
     "name": "stdout",
     "output_type": "stream",
     "text": [
      "Done making patches!\n"
     ]
    },
    {
     "name": "stderr",
     "output_type": "stream",
     "text": [
      "Process Patches: 319it [01:34,  3.38it/s]                                       \n"
     ]
    },
    {
     "data": {
      "application/vnd.jupyter.widget-view+json": {
       "model_id": "",
       "version_major": 2,
       "version_minor": 0
      },
      "text/plain": [
       "outer:   0%|          | 0/2 [00:00<?, ?it/s]"
      ]
     },
     "metadata": {},
     "output_type": "display_data"
    },
    {
     "data": {
      "application/vnd.jupyter.widget-view+json": {
       "model_id": "",
       "version_major": 2,
       "version_minor": 0
      },
      "text/plain": [
       "innter 0:   0%|          | 0/2 [00:00<?, ?it/s]"
      ]
     },
     "metadata": {},
     "output_type": "display_data"
    },
    {
     "data": {
      "application/vnd.jupyter.widget-view+json": {
       "model_id": "",
       "version_major": 2,
       "version_minor": 0
      },
      "text/plain": [
       "innter 1:   0%|          | 0/2 [00:00<?, ?it/s]"
      ]
     },
     "metadata": {},
     "output_type": "display_data"
    },
    {
     "name": "stdout",
     "output_type": "stream",
     "text": [
      "\u001b[94mRegistering resized image\u001b[0m\n",
      "\u001b[92mdone\u001b[0m\n",
      "Rescaling original IF Image\n",
      "Rescaling original dots Image\n",
      "\u001b[94mPerforming multichannel tiling...\u001b[0m\n",
      "x window size: 2000\n",
      "ywindow size: 2000\n",
      "number of tiles along x axis: 2\n",
      "number of tiles along y axis: 2\n",
      "\u001b[92mdone\u001b[0m\n",
      "\u001b[94mPerforming multichannel tiling...\u001b[0m\n",
      "x window size: 2000\n",
      "ywindow size: 2000\n",
      "number of tiles along x axis: 2\n",
      "number of tiles along y axis: 2\n",
      "\u001b[92mdone\u001b[0m\n",
      "\u001b[94mPerforming multichannel tiling...\u001b[0m\n",
      "x window size: 2000\n",
      "ywindow size: 2000\n",
      "number of tiles along x axis: 2\n",
      "number of tiles along y axis: 2\n",
      "\u001b[92mdone\u001b[0m\n",
      "\u001b[94mperforming whole slide image registration...\u001b[0m\n",
      "registering frame 1/4\n",
      "registering frame 2/4\n",
      "registering frame 3/4\n",
      "registering frame 4/4\n",
      "\u001b[92mdone\u001b[0m\n",
      "Number of x intervals: 2\n",
      "Number of y intervals: 2\n",
      "Rescaling original dots Image\n",
      "\u001b[94mPerforming multichannel tiling...\u001b[0m\n",
      "x window size: 2000\n",
      "ywindow size: 2000\n",
      "number of tiles along x axis: 2\n",
      "number of tiles along y axis: 2\n",
      "\u001b[92mdone\u001b[0m\n",
      "Number of x intervals: 2\n",
      "Number of y intervals: 2\n",
      "Rescaling original dots Image\n",
      "\u001b[94mPerforming multichannel tiling...\u001b[0m\n",
      "x window size: 2000\n",
      "ywindow size: 2000\n",
      "number of tiles along x axis: 2\n",
      "number of tiles along y axis: 2\n",
      "\u001b[92mdone\u001b[0m\n",
      "Number of x intervals: 2\n",
      "Number of y intervals: 2\n",
      "Rescaling original dots Image\n",
      "\u001b[94mPerforming multichannel tiling...\u001b[0m\n",
      "x window size: 2000\n",
      "ywindow size: 2000\n",
      "number of tiles along x axis: 2\n",
      "number of tiles along y axis: 2\n",
      "\u001b[92mdone\u001b[0m\n",
      "Number of x intervals: 2\n",
      "Number of y intervals: 2\n",
      "Rescaling original dots Image\n",
      "\u001b[94mPerforming multichannel tiling...\u001b[0m\n",
      "x window size: 2000\n",
      "ywindow size: 2000\n",
      "number of tiles along x axis: 2\n",
      "number of tiles along y axis: 2\n",
      "\u001b[92mdone\u001b[0m\n",
      "Number of x intervals: 2\n",
      "Number of y intervals: 2\n",
      "Rescaling original dots Image\n",
      "\u001b[94mPerforming multichannel tiling...\u001b[0m\n",
      "x window size: 2000\n",
      "ywindow size: 2000\n",
      "number of tiles along x axis: 2\n",
      "number of tiles along y axis: 2\n",
      "\u001b[92mdone\u001b[0m\n",
      "Number of x intervals: 2\n",
      "Number of y intervals: 2\n"
     ]
    },
    {
     "data": {
      "application/vnd.jupyter.widget-view+json": {
       "model_id": "",
       "version_major": 2,
       "version_minor": 0
      },
      "text/plain": [
       "Mapping to the closest registered dot:   0%|          | 0/556 [00:00<?, ?it/s]"
      ]
     },
     "metadata": {},
     "output_type": "display_data"
    },
    {
     "data": {
      "application/vnd.jupyter.widget-view+json": {
       "model_id": "da504454e6d34dab938ab1efa4b73379",
       "version_major": 2,
       "version_minor": 0
      },
      "text/plain": [
       "inner:   0%|          | 0/19 [00:00<?, ?it/s]"
      ]
     },
     "metadata": {},
     "output_type": "display_data"
    },
    {
     "name": "stdout",
     "output_type": "stream",
     "text": [
      "IF : 12270 8150\n",
      "HE : 15000 9000\n"
     ]
    },
    {
     "data": {
      "application/vnd.jupyter.widget-view+json": {
       "model_id": "",
       "version_major": 2,
       "version_minor": 0
      },
      "text/plain": [
       "outer:   0%|          | 0/2 [00:00<?, ?it/s]"
      ]
     },
     "metadata": {},
     "output_type": "display_data"
    },
    {
     "data": {
      "application/vnd.jupyter.widget-view+json": {
       "model_id": "",
       "version_major": 2,
       "version_minor": 0
      },
      "text/plain": [
       "inner 0:   0%|          | 0/2 [00:00<?, ?it/s]"
      ]
     },
     "metadata": {},
     "output_type": "display_data"
    },
    {
     "data": {
      "application/vnd.jupyter.widget-view+json": {
       "model_id": "",
       "version_major": 2,
       "version_minor": 0
      },
      "text/plain": [
       "inner 1:   0%|          | 0/2 [00:00<?, ?it/s]"
      ]
     },
     "metadata": {},
     "output_type": "display_data"
    },
    {
     "name": "stdout",
     "output_type": "stream",
     "text": [
      "Done making patches!\n"
     ]
    },
    {
     "name": "stderr",
     "output_type": "stream",
     "text": [
      "Process Patches: 319it [01:34,  3.38it/s]                                       \n"
     ]
    },
    {
     "data": {
      "application/vnd.jupyter.widget-view+json": {
       "model_id": "",
       "version_major": 2,
       "version_minor": 0
      },
      "text/plain": [
       "outer:   0%|          | 0/2 [00:00<?, ?it/s]"
      ]
     },
     "metadata": {},
     "output_type": "display_data"
    },
    {
     "data": {
      "application/vnd.jupyter.widget-view+json": {
       "model_id": "",
       "version_major": 2,
       "version_minor": 0
      },
      "text/plain": [
       "innter 0:   0%|          | 0/2 [00:00<?, ?it/s]"
      ]
     },
     "metadata": {},
     "output_type": "display_data"
    },
    {
     "data": {
      "application/vnd.jupyter.widget-view+json": {
       "model_id": "",
       "version_major": 2,
       "version_minor": 0
      },
      "text/plain": [
       "innter 1:   0%|          | 0/2 [00:00<?, ?it/s]"
      ]
     },
     "metadata": {},
     "output_type": "display_data"
    },
    {
     "name": "stdout",
     "output_type": "stream",
     "text": [
      "\u001b[94mRegistering resized image\u001b[0m\n",
      "\u001b[92mdone\u001b[0m\n",
      "Rescaling original IF Image\n",
      "Rescaling original dots Image\n",
      "\u001b[94mPerforming multichannel tiling...\u001b[0m\n",
      "x window size: 2000\n",
      "ywindow size: 2000\n",
      "number of tiles along x axis: 2\n",
      "number of tiles along y axis: 2\n",
      "\u001b[92mdone\u001b[0m\n",
      "\u001b[94mPerforming multichannel tiling...\u001b[0m\n",
      "x window size: 2000\n",
      "ywindow size: 2000\n",
      "number of tiles along x axis: 2\n",
      "number of tiles along y axis: 2\n",
      "\u001b[92mdone\u001b[0m\n",
      "\u001b[94mPerforming multichannel tiling...\u001b[0m\n",
      "x window size: 2000\n",
      "ywindow size: 2000\n",
      "number of tiles along x axis: 2\n",
      "number of tiles along y axis: 2\n",
      "\u001b[92mdone\u001b[0m\n",
      "\u001b[94mperforming whole slide image registration...\u001b[0m\n",
      "registering frame 1/4\n",
      "registering frame 2/4\n",
      "registering frame 3/4\n",
      "registering frame 4/4\n",
      "\u001b[92mdone\u001b[0m\n",
      "Number of x intervals: 2\n",
      "Number of y intervals: 2\n",
      "Rescaling original dots Image\n",
      "\u001b[94mPerforming multichannel tiling...\u001b[0m\n",
      "x window size: 2000\n",
      "ywindow size: 2000\n",
      "number of tiles along x axis: 2\n",
      "number of tiles along y axis: 2\n",
      "\u001b[92mdone\u001b[0m\n",
      "Number of x intervals: 2\n",
      "Number of y intervals: 2\n",
      "Rescaling original dots Image\n",
      "\u001b[94mPerforming multichannel tiling...\u001b[0m\n",
      "x window size: 2000\n",
      "ywindow size: 2000\n",
      "number of tiles along x axis: 2\n",
      "number of tiles along y axis: 2\n",
      "\u001b[92mdone\u001b[0m\n",
      "Number of x intervals: 2\n",
      "Number of y intervals: 2\n",
      "Rescaling original dots Image\n",
      "\u001b[94mPerforming multichannel tiling...\u001b[0m\n",
      "x window size: 2000\n",
      "ywindow size: 2000\n",
      "number of tiles along x axis: 2\n",
      "number of tiles along y axis: 2\n",
      "\u001b[92mdone\u001b[0m\n",
      "Number of x intervals: 2\n",
      "Number of y intervals: 2\n",
      "Rescaling original dots Image\n",
      "\u001b[94mPerforming multichannel tiling...\u001b[0m\n",
      "x window size: 2000\n",
      "ywindow size: 2000\n",
      "number of tiles along x axis: 2\n",
      "number of tiles along y axis: 2\n",
      "\u001b[92mdone\u001b[0m\n",
      "Number of x intervals: 2\n",
      "Number of y intervals: 2\n",
      "Rescaling original dots Image\n",
      "\u001b[94mPerforming multichannel tiling...\u001b[0m\n",
      "x window size: 2000\n",
      "ywindow size: 2000\n",
      "number of tiles along x axis: 2\n",
      "number of tiles along y axis: 2\n",
      "\u001b[92mdone\u001b[0m\n",
      "Number of x intervals: 2\n",
      "Number of y intervals: 2\n"
     ]
    },
    {
     "data": {
      "application/vnd.jupyter.widget-view+json": {
       "model_id": "",
       "version_major": 2,
       "version_minor": 0
      },
      "text/plain": [
       "Mapping to the closest registered dot:   0%|          | 0/8043 [00:00<?, ?it/s]"
      ]
     },
     "metadata": {},
     "output_type": "display_data"
    },
    {
     "name": "stdout",
     "output_type": "stream",
     "text": [
      "IF : 12270 12150\n",
      "HE : 15000 13000\n"
     ]
    },
    {
     "data": {
      "application/vnd.jupyter.widget-view+json": {
       "model_id": "",
       "version_major": 2,
       "version_minor": 0
      },
      "text/plain": [
       "outer:   0%|          | 0/2 [00:00<?, ?it/s]"
      ]
     },
     "metadata": {},
     "output_type": "display_data"
    },
    {
     "data": {
      "application/vnd.jupyter.widget-view+json": {
       "model_id": "",
       "version_major": 2,
       "version_minor": 0
      },
      "text/plain": [
       "inner 0:   0%|          | 0/2 [00:00<?, ?it/s]"
      ]
     },
     "metadata": {},
     "output_type": "display_data"
    },
    {
     "data": {
      "application/vnd.jupyter.widget-view+json": {
       "model_id": "",
       "version_major": 2,
       "version_minor": 0
      },
      "text/plain": [
       "inner 1:   0%|          | 0/2 [00:00<?, ?it/s]"
      ]
     },
     "metadata": {},
     "output_type": "display_data"
    },
    {
     "name": "stdout",
     "output_type": "stream",
     "text": [
      "Done making patches!\n"
     ]
    },
    {
     "name": "stderr",
     "output_type": "stream",
     "text": [
      "Process Patches: 319it [01:34,  3.38it/s]                                       \n"
     ]
    },
    {
     "data": {
      "application/vnd.jupyter.widget-view+json": {
       "model_id": "",
       "version_major": 2,
       "version_minor": 0
      },
      "text/plain": [
       "outer:   0%|          | 0/2 [00:00<?, ?it/s]"
      ]
     },
     "metadata": {},
     "output_type": "display_data"
    },
    {
     "data": {
      "application/vnd.jupyter.widget-view+json": {
       "model_id": "",
       "version_major": 2,
       "version_minor": 0
      },
      "text/plain": [
       "innter 0:   0%|          | 0/2 [00:00<?, ?it/s]"
      ]
     },
     "metadata": {},
     "output_type": "display_data"
    },
    {
     "data": {
      "application/vnd.jupyter.widget-view+json": {
       "model_id": "",
       "version_major": 2,
       "version_minor": 0
      },
      "text/plain": [
       "innter 1:   0%|          | 0/2 [00:00<?, ?it/s]"
      ]
     },
     "metadata": {},
     "output_type": "display_data"
    },
    {
     "name": "stdout",
     "output_type": "stream",
     "text": [
      "\u001b[94mRegistering resized image\u001b[0m\n",
      "\u001b[92mdone\u001b[0m\n",
      "Rescaling original IF Image\n",
      "Rescaling original dots Image\n",
      "\u001b[94mPerforming multichannel tiling...\u001b[0m\n",
      "x window size: 2000\n",
      "ywindow size: 2000\n",
      "number of tiles along x axis: 2\n",
      "number of tiles along y axis: 2\n",
      "\u001b[92mdone\u001b[0m\n",
      "\u001b[94mPerforming multichannel tiling...\u001b[0m\n",
      "x window size: 2000\n",
      "ywindow size: 2000\n",
      "number of tiles along x axis: 2\n",
      "number of tiles along y axis: 2\n",
      "\u001b[92mdone\u001b[0m\n",
      "\u001b[94mPerforming multichannel tiling...\u001b[0m\n",
      "x window size: 2000\n",
      "ywindow size: 2000\n",
      "number of tiles along x axis: 2\n",
      "number of tiles along y axis: 2\n",
      "\u001b[92mdone\u001b[0m\n",
      "\u001b[94mperforming whole slide image registration...\u001b[0m\n",
      "registering frame 1/4\n",
      "registering frame 2/4\n",
      "registering frame 3/4\n",
      "registering frame 4/4\n",
      "\u001b[92mdone\u001b[0m\n",
      "Number of x intervals: 2\n",
      "Number of y intervals: 2\n",
      "Rescaling original dots Image\n",
      "\u001b[94mPerforming multichannel tiling...\u001b[0m\n",
      "x window size: 2000\n",
      "ywindow size: 2000\n",
      "number of tiles along x axis: 2\n",
      "number of tiles along y axis: 2\n",
      "\u001b[92mdone\u001b[0m\n",
      "Number of x intervals: 2\n",
      "Number of y intervals: 2\n",
      "Rescaling original dots Image\n",
      "\u001b[94mPerforming multichannel tiling...\u001b[0m\n",
      "x window size: 2000\n",
      "ywindow size: 2000\n",
      "number of tiles along x axis: 2\n",
      "number of tiles along y axis: 2\n",
      "\u001b[92mdone\u001b[0m\n",
      "Number of x intervals: 2\n",
      "Number of y intervals: 2\n",
      "Rescaling original dots Image\n",
      "\u001b[94mPerforming multichannel tiling...\u001b[0m\n",
      "x window size: 2000\n",
      "ywindow size: 2000\n",
      "number of tiles along x axis: 2\n",
      "number of tiles along y axis: 2\n",
      "\u001b[92mdone\u001b[0m\n",
      "Number of x intervals: 2\n",
      "Number of y intervals: 2\n",
      "Rescaling original dots Image\n",
      "\u001b[94mPerforming multichannel tiling...\u001b[0m\n",
      "x window size: 2000\n",
      "ywindow size: 2000\n",
      "number of tiles along x axis: 2\n",
      "number of tiles along y axis: 2\n",
      "\u001b[92mdone\u001b[0m\n",
      "Number of x intervals: 2\n",
      "Number of y intervals: 2\n",
      "Rescaling original dots Image\n",
      "\u001b[94mPerforming multichannel tiling...\u001b[0m\n",
      "x window size: 2000\n",
      "ywindow size: 2000\n",
      "number of tiles along x axis: 2\n",
      "number of tiles along y axis: 2\n",
      "\u001b[92mdone\u001b[0m\n",
      "Number of x intervals: 2\n",
      "Number of y intervals: 2\n"
     ]
    },
    {
     "data": {
      "application/vnd.jupyter.widget-view+json": {
       "model_id": "",
       "version_major": 2,
       "version_minor": 0
      },
      "text/plain": [
       "Mapping to the closest registered dot:   0%|          | 0/10037 [00:00<?, ?it/s]"
      ]
     },
     "metadata": {},
     "output_type": "display_data"
    },
    {
     "name": "stdout",
     "output_type": "stream",
     "text": [
      "IF : 12270 16150\n",
      "HE : 15000 17000\n"
     ]
    },
    {
     "data": {
      "application/vnd.jupyter.widget-view+json": {
       "model_id": "",
       "version_major": 2,
       "version_minor": 0
      },
      "text/plain": [
       "outer:   0%|          | 0/2 [00:00<?, ?it/s]"
      ]
     },
     "metadata": {},
     "output_type": "display_data"
    },
    {
     "data": {
      "application/vnd.jupyter.widget-view+json": {
       "model_id": "",
       "version_major": 2,
       "version_minor": 0
      },
      "text/plain": [
       "inner 0:   0%|          | 0/2 [00:00<?, ?it/s]"
      ]
     },
     "metadata": {},
     "output_type": "display_data"
    },
    {
     "data": {
      "application/vnd.jupyter.widget-view+json": {
       "model_id": "",
       "version_major": 2,
       "version_minor": 0
      },
      "text/plain": [
       "inner 1:   0%|          | 0/2 [00:00<?, ?it/s]"
      ]
     },
     "metadata": {},
     "output_type": "display_data"
    },
    {
     "name": "stdout",
     "output_type": "stream",
     "text": [
      "Done making patches!\n"
     ]
    },
    {
     "name": "stderr",
     "output_type": "stream",
     "text": [
      "Process Patches: 319it [01:34,  3.38it/s]                                       \n"
     ]
    },
    {
     "data": {
      "application/vnd.jupyter.widget-view+json": {
       "model_id": "",
       "version_major": 2,
       "version_minor": 0
      },
      "text/plain": [
       "outer:   0%|          | 0/2 [00:00<?, ?it/s]"
      ]
     },
     "metadata": {},
     "output_type": "display_data"
    },
    {
     "data": {
      "application/vnd.jupyter.widget-view+json": {
       "model_id": "",
       "version_major": 2,
       "version_minor": 0
      },
      "text/plain": [
       "innter 0:   0%|          | 0/2 [00:00<?, ?it/s]"
      ]
     },
     "metadata": {},
     "output_type": "display_data"
    },
    {
     "data": {
      "application/vnd.jupyter.widget-view+json": {
       "model_id": "",
       "version_major": 2,
       "version_minor": 0
      },
      "text/plain": [
       "innter 1:   0%|          | 0/2 [00:00<?, ?it/s]"
      ]
     },
     "metadata": {},
     "output_type": "display_data"
    },
    {
     "name": "stdout",
     "output_type": "stream",
     "text": [
      "\u001b[94mRegistering resized image\u001b[0m\n",
      "\u001b[92mdone\u001b[0m\n",
      "Rescaling original IF Image\n",
      "Rescaling original dots Image\n",
      "\u001b[94mPerforming multichannel tiling...\u001b[0m\n",
      "x window size: 2000\n",
      "ywindow size: 2000\n",
      "number of tiles along x axis: 2\n",
      "number of tiles along y axis: 2\n",
      "\u001b[92mdone\u001b[0m\n",
      "\u001b[94mPerforming multichannel tiling...\u001b[0m\n",
      "x window size: 2000\n",
      "ywindow size: 2000\n",
      "number of tiles along x axis: 2\n",
      "number of tiles along y axis: 2\n",
      "\u001b[92mdone\u001b[0m\n",
      "\u001b[94mPerforming multichannel tiling...\u001b[0m\n",
      "x window size: 2000\n",
      "ywindow size: 2000\n",
      "number of tiles along x axis: 2\n",
      "number of tiles along y axis: 2\n",
      "\u001b[92mdone\u001b[0m\n",
      "\u001b[94mperforming whole slide image registration...\u001b[0m\n",
      "registering frame 1/4\n",
      "registering frame 2/4\n",
      "registering frame 3/4\n",
      "registering frame 4/4\n",
      "\u001b[92mdone\u001b[0m\n",
      "Number of x intervals: 2\n",
      "Number of y intervals: 2\n",
      "Rescaling original dots Image\n",
      "\u001b[94mPerforming multichannel tiling...\u001b[0m\n",
      "x window size: 2000\n",
      "ywindow size: 2000\n",
      "number of tiles along x axis: 2\n",
      "number of tiles along y axis: 2\n",
      "\u001b[92mdone\u001b[0m\n",
      "Number of x intervals: 2\n",
      "Number of y intervals: 2\n",
      "Rescaling original dots Image\n",
      "\u001b[94mPerforming multichannel tiling...\u001b[0m\n",
      "x window size: 2000\n",
      "ywindow size: 2000\n",
      "number of tiles along x axis: 2\n",
      "number of tiles along y axis: 2\n",
      "\u001b[92mdone\u001b[0m\n",
      "Number of x intervals: 2\n",
      "Number of y intervals: 2\n",
      "Rescaling original dots Image\n",
      "\u001b[94mPerforming multichannel tiling...\u001b[0m\n",
      "x window size: 2000\n",
      "ywindow size: 2000\n",
      "number of tiles along x axis: 2\n",
      "number of tiles along y axis: 2\n",
      "\u001b[92mdone\u001b[0m\n",
      "Number of x intervals: 2\n",
      "Number of y intervals: 2\n",
      "Rescaling original dots Image\n",
      "\u001b[94mPerforming multichannel tiling...\u001b[0m\n",
      "x window size: 2000\n",
      "ywindow size: 2000\n",
      "number of tiles along x axis: 2\n",
      "number of tiles along y axis: 2\n",
      "\u001b[92mdone\u001b[0m\n",
      "Number of x intervals: 2\n",
      "Number of y intervals: 2\n",
      "Rescaling original dots Image\n",
      "\u001b[94mPerforming multichannel tiling...\u001b[0m\n",
      "x window size: 2000\n",
      "ywindow size: 2000\n",
      "number of tiles along x axis: 2\n",
      "number of tiles along y axis: 2\n",
      "\u001b[92mdone\u001b[0m\n",
      "Number of x intervals: 2\n",
      "Number of y intervals: 2\n"
     ]
    },
    {
     "data": {
      "application/vnd.jupyter.widget-view+json": {
       "model_id": "",
       "version_major": 2,
       "version_minor": 0
      },
      "text/plain": [
       "Mapping to the closest registered dot:   0%|          | 0/10342 [00:00<?, ?it/s]"
      ]
     },
     "metadata": {},
     "output_type": "display_data"
    },
    {
     "name": "stdout",
     "output_type": "stream",
     "text": [
      "IF : 12270 20150\n",
      "HE : 15000 21000\n"
     ]
    },
    {
     "data": {
      "application/vnd.jupyter.widget-view+json": {
       "model_id": "",
       "version_major": 2,
       "version_minor": 0
      },
      "text/plain": [
       "outer:   0%|          | 0/2 [00:00<?, ?it/s]"
      ]
     },
     "metadata": {},
     "output_type": "display_data"
    },
    {
     "data": {
      "application/vnd.jupyter.widget-view+json": {
       "model_id": "",
       "version_major": 2,
       "version_minor": 0
      },
      "text/plain": [
       "inner 0:   0%|          | 0/2 [00:00<?, ?it/s]"
      ]
     },
     "metadata": {},
     "output_type": "display_data"
    },
    {
     "data": {
      "application/vnd.jupyter.widget-view+json": {
       "model_id": "",
       "version_major": 2,
       "version_minor": 0
      },
      "text/plain": [
       "inner 1:   0%|          | 0/2 [00:00<?, ?it/s]"
      ]
     },
     "metadata": {},
     "output_type": "display_data"
    },
    {
     "name": "stdout",
     "output_type": "stream",
     "text": [
      "Done making patches!\n"
     ]
    },
    {
     "name": "stderr",
     "output_type": "stream",
     "text": [
      "Process Patches: 319it [01:34,  3.37it/s]                                       \n"
     ]
    },
    {
     "data": {
      "application/vnd.jupyter.widget-view+json": {
       "model_id": "",
       "version_major": 2,
       "version_minor": 0
      },
      "text/plain": [
       "outer:   0%|          | 0/2 [00:00<?, ?it/s]"
      ]
     },
     "metadata": {},
     "output_type": "display_data"
    },
    {
     "data": {
      "application/vnd.jupyter.widget-view+json": {
       "model_id": "",
       "version_major": 2,
       "version_minor": 0
      },
      "text/plain": [
       "innter 0:   0%|          | 0/2 [00:00<?, ?it/s]"
      ]
     },
     "metadata": {},
     "output_type": "display_data"
    },
    {
     "data": {
      "application/vnd.jupyter.widget-view+json": {
       "model_id": "",
       "version_major": 2,
       "version_minor": 0
      },
      "text/plain": [
       "innter 1:   0%|          | 0/2 [00:00<?, ?it/s]"
      ]
     },
     "metadata": {},
     "output_type": "display_data"
    },
    {
     "name": "stdout",
     "output_type": "stream",
     "text": [
      "\u001b[94mRegistering resized image\u001b[0m\n",
      "\u001b[92mdone\u001b[0m\n",
      "Rescaling original IF Image\n",
      "Rescaling original dots Image\n",
      "\u001b[94mPerforming multichannel tiling...\u001b[0m\n",
      "x window size: 2000\n",
      "ywindow size: 2000\n",
      "number of tiles along x axis: 2\n",
      "number of tiles along y axis: 2\n",
      "\u001b[92mdone\u001b[0m\n",
      "\u001b[94mPerforming multichannel tiling...\u001b[0m\n",
      "x window size: 2000\n",
      "ywindow size: 2000\n",
      "number of tiles along x axis: 2\n",
      "number of tiles along y axis: 2\n",
      "\u001b[92mdone\u001b[0m\n",
      "\u001b[94mPerforming multichannel tiling...\u001b[0m\n",
      "x window size: 2000\n",
      "ywindow size: 2000\n",
      "number of tiles along x axis: 2\n",
      "number of tiles along y axis: 2\n",
      "\u001b[92mdone\u001b[0m\n",
      "\u001b[94mperforming whole slide image registration...\u001b[0m\n",
      "registering frame 1/4\n",
      "registering frame 2/4\n",
      "registering frame 3/4\n",
      "registering frame 4/4\n",
      "\u001b[92mdone\u001b[0m\n",
      "Number of x intervals: 2\n",
      "Number of y intervals: 2\n",
      "Rescaling original dots Image\n",
      "\u001b[94mPerforming multichannel tiling...\u001b[0m\n",
      "x window size: 2000\n",
      "ywindow size: 2000\n",
      "number of tiles along x axis: 2\n",
      "number of tiles along y axis: 2\n",
      "\u001b[92mdone\u001b[0m\n",
      "Number of x intervals: 2\n",
      "Number of y intervals: 2\n",
      "Rescaling original dots Image\n",
      "\u001b[94mPerforming multichannel tiling...\u001b[0m\n",
      "x window size: 2000\n",
      "ywindow size: 2000\n",
      "number of tiles along x axis: 2\n",
      "number of tiles along y axis: 2\n",
      "\u001b[92mdone\u001b[0m\n",
      "Number of x intervals: 2\n",
      "Number of y intervals: 2\n",
      "Rescaling original dots Image\n",
      "\u001b[94mPerforming multichannel tiling...\u001b[0m\n",
      "x window size: 2000\n",
      "ywindow size: 2000\n",
      "number of tiles along x axis: 2\n",
      "number of tiles along y axis: 2\n",
      "\u001b[92mdone\u001b[0m\n",
      "Number of x intervals: 2\n",
      "Number of y intervals: 2\n",
      "Rescaling original dots Image\n",
      "\u001b[94mPerforming multichannel tiling...\u001b[0m\n",
      "x window size: 2000\n",
      "ywindow size: 2000\n",
      "number of tiles along x axis: 2\n",
      "number of tiles along y axis: 2\n",
      "\u001b[92mdone\u001b[0m\n",
      "Number of x intervals: 2\n",
      "Number of y intervals: 2\n",
      "Rescaling original dots Image\n",
      "\u001b[94mPerforming multichannel tiling...\u001b[0m\n",
      "x window size: 2000\n",
      "ywindow size: 2000\n",
      "number of tiles along x axis: 2\n",
      "number of tiles along y axis: 2\n",
      "\u001b[92mdone\u001b[0m\n",
      "Number of x intervals: 2\n",
      "Number of y intervals: 2\n"
     ]
    },
    {
     "data": {
      "application/vnd.jupyter.widget-view+json": {
       "model_id": "",
       "version_major": 2,
       "version_minor": 0
      },
      "text/plain": [
       "Mapping to the closest registered dot:   0%|          | 0/8572 [00:00<?, ?it/s]"
      ]
     },
     "metadata": {},
     "output_type": "display_data"
    },
    {
     "name": "stdout",
     "output_type": "stream",
     "text": [
      "IF : 12270 24150\n",
      "HE : 15000 25000\n"
     ]
    },
    {
     "data": {
      "application/vnd.jupyter.widget-view+json": {
       "model_id": "",
       "version_major": 2,
       "version_minor": 0
      },
      "text/plain": [
       "outer:   0%|          | 0/2 [00:00<?, ?it/s]"
      ]
     },
     "metadata": {},
     "output_type": "display_data"
    },
    {
     "data": {
      "application/vnd.jupyter.widget-view+json": {
       "model_id": "",
       "version_major": 2,
       "version_minor": 0
      },
      "text/plain": [
       "inner 0:   0%|          | 0/2 [00:00<?, ?it/s]"
      ]
     },
     "metadata": {},
     "output_type": "display_data"
    },
    {
     "data": {
      "application/vnd.jupyter.widget-view+json": {
       "model_id": "",
       "version_major": 2,
       "version_minor": 0
      },
      "text/plain": [
       "inner 1:   0%|          | 0/2 [00:00<?, ?it/s]"
      ]
     },
     "metadata": {},
     "output_type": "display_data"
    },
    {
     "name": "stdout",
     "output_type": "stream",
     "text": [
      "Done making patches!\n"
     ]
    },
    {
     "name": "stderr",
     "output_type": "stream",
     "text": [
      "Process Patches: 319it [01:34,  3.38it/s]                                       \n"
     ]
    },
    {
     "data": {
      "application/vnd.jupyter.widget-view+json": {
       "model_id": "",
       "version_major": 2,
       "version_minor": 0
      },
      "text/plain": [
       "outer:   0%|          | 0/2 [00:00<?, ?it/s]"
      ]
     },
     "metadata": {},
     "output_type": "display_data"
    },
    {
     "data": {
      "application/vnd.jupyter.widget-view+json": {
       "model_id": "",
       "version_major": 2,
       "version_minor": 0
      },
      "text/plain": [
       "innter 0:   0%|          | 0/2 [00:00<?, ?it/s]"
      ]
     },
     "metadata": {},
     "output_type": "display_data"
    },
    {
     "data": {
      "application/vnd.jupyter.widget-view+json": {
       "model_id": "",
       "version_major": 2,
       "version_minor": 0
      },
      "text/plain": [
       "innter 1:   0%|          | 0/2 [00:00<?, ?it/s]"
      ]
     },
     "metadata": {},
     "output_type": "display_data"
    },
    {
     "name": "stdout",
     "output_type": "stream",
     "text": [
      "\u001b[94mRegistering resized image\u001b[0m\n",
      "\u001b[92mdone\u001b[0m\n",
      "Rescaling original IF Image\n",
      "Rescaling original dots Image\n",
      "\u001b[94mPerforming multichannel tiling...\u001b[0m\n",
      "x window size: 2000\n",
      "ywindow size: 2000\n",
      "number of tiles along x axis: 2\n",
      "number of tiles along y axis: 2\n",
      "\u001b[92mdone\u001b[0m\n",
      "\u001b[94mPerforming multichannel tiling...\u001b[0m\n",
      "x window size: 2000\n",
      "ywindow size: 2000\n",
      "number of tiles along x axis: 2\n",
      "number of tiles along y axis: 2\n",
      "\u001b[92mdone\u001b[0m\n",
      "\u001b[94mPerforming multichannel tiling...\u001b[0m\n",
      "x window size: 2000\n",
      "ywindow size: 2000\n",
      "number of tiles along x axis: 2\n",
      "number of tiles along y axis: 2\n",
      "\u001b[92mdone\u001b[0m\n",
      "\u001b[94mperforming whole slide image registration...\u001b[0m\n",
      "registering frame 1/4\n",
      "registering frame 2/4\n",
      "registering frame 3/4\n",
      "registering frame 4/4\n",
      "\u001b[92mdone\u001b[0m\n",
      "Number of x intervals: 2\n",
      "Number of y intervals: 2\n",
      "Rescaling original dots Image\n",
      "\u001b[94mPerforming multichannel tiling...\u001b[0m\n",
      "x window size: 2000\n",
      "ywindow size: 2000\n",
      "number of tiles along x axis: 2\n",
      "number of tiles along y axis: 2\n",
      "\u001b[92mdone\u001b[0m\n",
      "Number of x intervals: 2\n",
      "Number of y intervals: 2\n",
      "Rescaling original dots Image\n",
      "\u001b[94mPerforming multichannel tiling...\u001b[0m\n",
      "x window size: 2000\n",
      "ywindow size: 2000\n",
      "number of tiles along x axis: 2\n",
      "number of tiles along y axis: 2\n",
      "\u001b[92mdone\u001b[0m\n",
      "Number of x intervals: 2\n",
      "Number of y intervals: 2\n",
      "Rescaling original dots Image\n",
      "\u001b[94mPerforming multichannel tiling...\u001b[0m\n",
      "x window size: 2000\n",
      "ywindow size: 2000\n",
      "number of tiles along x axis: 2\n",
      "number of tiles along y axis: 2\n",
      "\u001b[92mdone\u001b[0m\n",
      "Number of x intervals: 2\n",
      "Number of y intervals: 2\n",
      "Rescaling original dots Image\n",
      "\u001b[94mPerforming multichannel tiling...\u001b[0m\n",
      "x window size: 2000\n",
      "ywindow size: 2000\n",
      "number of tiles along x axis: 2\n",
      "number of tiles along y axis: 2\n",
      "\u001b[92mdone\u001b[0m\n",
      "Number of x intervals: 2\n",
      "Number of y intervals: 2\n",
      "Rescaling original dots Image\n",
      "\u001b[94mPerforming multichannel tiling...\u001b[0m\n",
      "x window size: 2000\n",
      "ywindow size: 2000\n",
      "number of tiles along x axis: 2\n",
      "number of tiles along y axis: 2\n",
      "\u001b[92mdone\u001b[0m\n",
      "Number of x intervals: 2\n",
      "Number of y intervals: 2\n"
     ]
    },
    {
     "data": {
      "application/vnd.jupyter.widget-view+json": {
       "model_id": "",
       "version_major": 2,
       "version_minor": 0
      },
      "text/plain": [
       "Mapping to the closest registered dot:   0%|          | 0/5812 [00:00<?, ?it/s]"
      ]
     },
     "metadata": {},
     "output_type": "display_data"
    },
    {
     "name": "stdout",
     "output_type": "stream",
     "text": [
      "IF : 12270 28150\n",
      "HE : 15000 29000\n"
     ]
    },
    {
     "data": {
      "application/vnd.jupyter.widget-view+json": {
       "model_id": "",
       "version_major": 2,
       "version_minor": 0
      },
      "text/plain": [
       "outer:   0%|          | 0/2 [00:00<?, ?it/s]"
      ]
     },
     "metadata": {},
     "output_type": "display_data"
    },
    {
     "data": {
      "application/vnd.jupyter.widget-view+json": {
       "model_id": "",
       "version_major": 2,
       "version_minor": 0
      },
      "text/plain": [
       "inner 0:   0%|          | 0/2 [00:00<?, ?it/s]"
      ]
     },
     "metadata": {},
     "output_type": "display_data"
    },
    {
     "data": {
      "application/vnd.jupyter.widget-view+json": {
       "model_id": "",
       "version_major": 2,
       "version_minor": 0
      },
      "text/plain": [
       "inner 1:   0%|          | 0/2 [00:00<?, ?it/s]"
      ]
     },
     "metadata": {},
     "output_type": "display_data"
    },
    {
     "name": "stdout",
     "output_type": "stream",
     "text": [
      "Done making patches!\n"
     ]
    },
    {
     "name": "stderr",
     "output_type": "stream",
     "text": [
      "Process Patches: 319it [01:34,  3.38it/s]                                       \n"
     ]
    },
    {
     "data": {
      "application/vnd.jupyter.widget-view+json": {
       "model_id": "",
       "version_major": 2,
       "version_minor": 0
      },
      "text/plain": [
       "outer:   0%|          | 0/2 [00:00<?, ?it/s]"
      ]
     },
     "metadata": {},
     "output_type": "display_data"
    },
    {
     "data": {
      "application/vnd.jupyter.widget-view+json": {
       "model_id": "",
       "version_major": 2,
       "version_minor": 0
      },
      "text/plain": [
       "innter 0:   0%|          | 0/2 [00:00<?, ?it/s]"
      ]
     },
     "metadata": {},
     "output_type": "display_data"
    },
    {
     "data": {
      "application/vnd.jupyter.widget-view+json": {
       "model_id": "",
       "version_major": 2,
       "version_minor": 0
      },
      "text/plain": [
       "innter 1:   0%|          | 0/2 [00:00<?, ?it/s]"
      ]
     },
     "metadata": {},
     "output_type": "display_data"
    },
    {
     "name": "stdout",
     "output_type": "stream",
     "text": [
      "\u001b[94mRegistering resized image\u001b[0m\n",
      "\u001b[92mdone\u001b[0m\n",
      "Rescaling original IF Image\n",
      "Rescaling original dots Image\n",
      "\u001b[94mPerforming multichannel tiling...\u001b[0m\n",
      "x window size: 2000\n",
      "ywindow size: 2000\n",
      "number of tiles along x axis: 2\n",
      "number of tiles along y axis: 2\n",
      "\u001b[92mdone\u001b[0m\n",
      "\u001b[94mPerforming multichannel tiling...\u001b[0m\n",
      "x window size: 2000\n",
      "ywindow size: 2000\n",
      "number of tiles along x axis: 2\n",
      "number of tiles along y axis: 2\n",
      "\u001b[92mdone\u001b[0m\n",
      "\u001b[94mPerforming multichannel tiling...\u001b[0m\n",
      "x window size: 2000\n",
      "ywindow size: 2000\n",
      "number of tiles along x axis: 2\n",
      "number of tiles along y axis: 2\n",
      "\u001b[92mdone\u001b[0m\n",
      "\u001b[94mperforming whole slide image registration...\u001b[0m\n",
      "registering frame 1/4\n",
      "registering frame 2/4\n",
      "registering frame 3/4\n",
      "registering frame 4/4\n",
      "\u001b[92mdone\u001b[0m\n",
      "Number of x intervals: 2\n",
      "Number of y intervals: 2\n",
      "Rescaling original dots Image\n",
      "\u001b[94mPerforming multichannel tiling...\u001b[0m\n",
      "x window size: 2000\n",
      "ywindow size: 2000\n",
      "number of tiles along x axis: 2\n",
      "number of tiles along y axis: 2\n",
      "\u001b[92mdone\u001b[0m\n",
      "Number of x intervals: 2\n",
      "Number of y intervals: 2\n",
      "Rescaling original dots Image\n",
      "\u001b[94mPerforming multichannel tiling...\u001b[0m\n",
      "x window size: 2000\n",
      "ywindow size: 2000\n",
      "number of tiles along x axis: 2\n",
      "number of tiles along y axis: 2\n",
      "\u001b[92mdone\u001b[0m\n",
      "Number of x intervals: 2\n",
      "Number of y intervals: 2\n",
      "Rescaling original dots Image\n",
      "\u001b[94mPerforming multichannel tiling...\u001b[0m\n",
      "x window size: 2000\n",
      "ywindow size: 2000\n",
      "number of tiles along x axis: 2\n",
      "number of tiles along y axis: 2\n",
      "\u001b[92mdone\u001b[0m\n",
      "Number of x intervals: 2\n",
      "Number of y intervals: 2\n",
      "Rescaling original dots Image\n",
      "\u001b[94mPerforming multichannel tiling...\u001b[0m\n",
      "x window size: 2000\n",
      "ywindow size: 2000\n",
      "number of tiles along x axis: 2\n",
      "number of tiles along y axis: 2\n",
      "\u001b[92mdone\u001b[0m\n",
      "Number of x intervals: 2\n",
      "Number of y intervals: 2\n",
      "Rescaling original dots Image\n",
      "\u001b[94mPerforming multichannel tiling...\u001b[0m\n",
      "x window size: 2000\n",
      "ywindow size: 2000\n",
      "number of tiles along x axis: 2\n",
      "number of tiles along y axis: 2\n",
      "\u001b[92mdone\u001b[0m\n",
      "Number of x intervals: 2\n",
      "Number of y intervals: 2\n"
     ]
    },
    {
     "data": {
      "application/vnd.jupyter.widget-view+json": {
       "model_id": "",
       "version_major": 2,
       "version_minor": 0
      },
      "text/plain": [
       "Mapping to the closest registered dot:   0%|          | 0/5685 [00:00<?, ?it/s]"
      ]
     },
     "metadata": {},
     "output_type": "display_data"
    },
    {
     "name": "stdout",
     "output_type": "stream",
     "text": [
      "IF : 12270 32150\n",
      "HE : 15000 33000\n"
     ]
    },
    {
     "data": {
      "application/vnd.jupyter.widget-view+json": {
       "model_id": "",
       "version_major": 2,
       "version_minor": 0
      },
      "text/plain": [
       "outer:   0%|          | 0/2 [00:00<?, ?it/s]"
      ]
     },
     "metadata": {},
     "output_type": "display_data"
    },
    {
     "data": {
      "application/vnd.jupyter.widget-view+json": {
       "model_id": "",
       "version_major": 2,
       "version_minor": 0
      },
      "text/plain": [
       "inner 0:   0%|          | 0/2 [00:00<?, ?it/s]"
      ]
     },
     "metadata": {},
     "output_type": "display_data"
    },
    {
     "data": {
      "application/vnd.jupyter.widget-view+json": {
       "model_id": "",
       "version_major": 2,
       "version_minor": 0
      },
      "text/plain": [
       "inner 1:   0%|          | 0/2 [00:00<?, ?it/s]"
      ]
     },
     "metadata": {},
     "output_type": "display_data"
    },
    {
     "name": "stdout",
     "output_type": "stream",
     "text": [
      "Done making patches!\n"
     ]
    },
    {
     "name": "stderr",
     "output_type": "stream",
     "text": [
      "Process Patches: 319it [01:34,  3.38it/s]                                       \n"
     ]
    },
    {
     "data": {
      "application/vnd.jupyter.widget-view+json": {
       "model_id": "",
       "version_major": 2,
       "version_minor": 0
      },
      "text/plain": [
       "outer:   0%|          | 0/2 [00:00<?, ?it/s]"
      ]
     },
     "metadata": {},
     "output_type": "display_data"
    },
    {
     "data": {
      "application/vnd.jupyter.widget-view+json": {
       "model_id": "",
       "version_major": 2,
       "version_minor": 0
      },
      "text/plain": [
       "innter 0:   0%|          | 0/2 [00:00<?, ?it/s]"
      ]
     },
     "metadata": {},
     "output_type": "display_data"
    },
    {
     "data": {
      "application/vnd.jupyter.widget-view+json": {
       "model_id": "",
       "version_major": 2,
       "version_minor": 0
      },
      "text/plain": [
       "innter 1:   0%|          | 0/2 [00:00<?, ?it/s]"
      ]
     },
     "metadata": {},
     "output_type": "display_data"
    },
    {
     "name": "stdout",
     "output_type": "stream",
     "text": [
      "\u001b[94mRegistering resized image\u001b[0m\n",
      "\u001b[92mdone\u001b[0m\n",
      "Rescaling original IF Image\n",
      "Rescaling original dots Image\n",
      "\u001b[94mPerforming multichannel tiling...\u001b[0m\n",
      "x window size: 2000\n",
      "ywindow size: 2000\n",
      "number of tiles along x axis: 2\n",
      "number of tiles along y axis: 2\n",
      "\u001b[92mdone\u001b[0m\n",
      "\u001b[94mPerforming multichannel tiling...\u001b[0m\n",
      "x window size: 2000\n",
      "ywindow size: 2000\n",
      "number of tiles along x axis: 2\n",
      "number of tiles along y axis: 2\n",
      "\u001b[92mdone\u001b[0m\n",
      "\u001b[94mPerforming multichannel tiling...\u001b[0m\n",
      "x window size: 2000\n",
      "ywindow size: 2000\n",
      "number of tiles along x axis: 2\n",
      "number of tiles along y axis: 2\n",
      "\u001b[92mdone\u001b[0m\n",
      "\u001b[94mperforming whole slide image registration...\u001b[0m\n",
      "registering frame 1/4\n",
      "registering frame 2/4\n",
      "registering frame 3/4\n",
      "registering frame 4/4\n",
      "\u001b[92mdone\u001b[0m\n",
      "Number of x intervals: 2\n",
      "Number of y intervals: 2\n",
      "Rescaling original dots Image\n",
      "\u001b[94mPerforming multichannel tiling...\u001b[0m\n",
      "x window size: 2000\n",
      "ywindow size: 2000\n",
      "number of tiles along x axis: 2\n",
      "number of tiles along y axis: 2\n",
      "\u001b[92mdone\u001b[0m\n",
      "Number of x intervals: 2\n",
      "Number of y intervals: 2\n",
      "Rescaling original dots Image\n",
      "\u001b[94mPerforming multichannel tiling...\u001b[0m\n",
      "x window size: 2000\n",
      "ywindow size: 2000\n",
      "number of tiles along x axis: 2\n",
      "number of tiles along y axis: 2\n",
      "\u001b[92mdone\u001b[0m\n",
      "Number of x intervals: 2\n",
      "Number of y intervals: 2\n",
      "Rescaling original dots Image\n",
      "\u001b[94mPerforming multichannel tiling...\u001b[0m\n",
      "x window size: 2000\n",
      "ywindow size: 2000\n",
      "number of tiles along x axis: 2\n",
      "number of tiles along y axis: 2\n",
      "\u001b[92mdone\u001b[0m\n",
      "Number of x intervals: 2\n",
      "Number of y intervals: 2\n",
      "Rescaling original dots Image\n",
      "\u001b[94mPerforming multichannel tiling...\u001b[0m\n",
      "x window size: 2000\n",
      "ywindow size: 2000\n",
      "number of tiles along x axis: 2\n",
      "number of tiles along y axis: 2\n",
      "\u001b[92mdone\u001b[0m\n",
      "Number of x intervals: 2\n",
      "Number of y intervals: 2\n",
      "Rescaling original dots Image\n",
      "\u001b[94mPerforming multichannel tiling...\u001b[0m\n",
      "x window size: 2000\n",
      "ywindow size: 2000\n",
      "number of tiles along x axis: 2\n",
      "number of tiles along y axis: 2\n",
      "\u001b[92mdone\u001b[0m\n",
      "Number of x intervals: 2\n",
      "Number of y intervals: 2\n"
     ]
    },
    {
     "data": {
      "application/vnd.jupyter.widget-view+json": {
       "model_id": "",
       "version_major": 2,
       "version_minor": 0
      },
      "text/plain": [
       "Mapping to the closest registered dot:   0%|          | 0/12138 [00:00<?, ?it/s]"
      ]
     },
     "metadata": {},
     "output_type": "display_data"
    },
    {
     "name": "stdout",
     "output_type": "stream",
     "text": [
      "IF : 12270 36150\n",
      "HE : 15000 37000\n"
     ]
    },
    {
     "data": {
      "application/vnd.jupyter.widget-view+json": {
       "model_id": "",
       "version_major": 2,
       "version_minor": 0
      },
      "text/plain": [
       "outer:   0%|          | 0/2 [00:00<?, ?it/s]"
      ]
     },
     "metadata": {},
     "output_type": "display_data"
    },
    {
     "data": {
      "application/vnd.jupyter.widget-view+json": {
       "model_id": "",
       "version_major": 2,
       "version_minor": 0
      },
      "text/plain": [
       "inner 0:   0%|          | 0/2 [00:00<?, ?it/s]"
      ]
     },
     "metadata": {},
     "output_type": "display_data"
    },
    {
     "data": {
      "application/vnd.jupyter.widget-view+json": {
       "model_id": "",
       "version_major": 2,
       "version_minor": 0
      },
      "text/plain": [
       "inner 1:   0%|          | 0/2 [00:00<?, ?it/s]"
      ]
     },
     "metadata": {},
     "output_type": "display_data"
    },
    {
     "name": "stdout",
     "output_type": "stream",
     "text": [
      "Done making patches!\n"
     ]
    },
    {
     "name": "stderr",
     "output_type": "stream",
     "text": [
      "Process Patches: 319it [01:34,  3.38it/s]                                       \n"
     ]
    },
    {
     "data": {
      "application/vnd.jupyter.widget-view+json": {
       "model_id": "",
       "version_major": 2,
       "version_minor": 0
      },
      "text/plain": [
       "outer:   0%|          | 0/2 [00:00<?, ?it/s]"
      ]
     },
     "metadata": {},
     "output_type": "display_data"
    },
    {
     "data": {
      "application/vnd.jupyter.widget-view+json": {
       "model_id": "",
       "version_major": 2,
       "version_minor": 0
      },
      "text/plain": [
       "innter 0:   0%|          | 0/2 [00:00<?, ?it/s]"
      ]
     },
     "metadata": {},
     "output_type": "display_data"
    },
    {
     "data": {
      "application/vnd.jupyter.widget-view+json": {
       "model_id": "",
       "version_major": 2,
       "version_minor": 0
      },
      "text/plain": [
       "innter 1:   0%|          | 0/2 [00:00<?, ?it/s]"
      ]
     },
     "metadata": {},
     "output_type": "display_data"
    },
    {
     "name": "stdout",
     "output_type": "stream",
     "text": [
      "\u001b[94mRegistering resized image\u001b[0m\n",
      "\u001b[92mdone\u001b[0m\n",
      "Rescaling original IF Image\n",
      "Rescaling original dots Image\n",
      "\u001b[94mPerforming multichannel tiling...\u001b[0m\n",
      "x window size: 2000\n",
      "ywindow size: 2000\n",
      "number of tiles along x axis: 2\n",
      "number of tiles along y axis: 2\n",
      "\u001b[92mdone\u001b[0m\n",
      "\u001b[94mPerforming multichannel tiling...\u001b[0m\n",
      "x window size: 2000\n",
      "ywindow size: 2000\n",
      "number of tiles along x axis: 2\n",
      "number of tiles along y axis: 2\n",
      "\u001b[92mdone\u001b[0m\n",
      "\u001b[94mPerforming multichannel tiling...\u001b[0m\n",
      "x window size: 2000\n",
      "ywindow size: 2000\n",
      "number of tiles along x axis: 2\n",
      "number of tiles along y axis: 2\n",
      "\u001b[92mdone\u001b[0m\n",
      "\u001b[94mperforming whole slide image registration...\u001b[0m\n",
      "registering frame 1/4\n",
      "registering frame 2/4\n",
      "registering frame 3/4\n",
      "registering frame 4/4\n",
      "\u001b[92mdone\u001b[0m\n",
      "Number of x intervals: 2\n",
      "Number of y intervals: 2\n",
      "Rescaling original dots Image\n",
      "\u001b[94mPerforming multichannel tiling...\u001b[0m\n",
      "x window size: 2000\n",
      "ywindow size: 2000\n",
      "number of tiles along x axis: 2\n",
      "number of tiles along y axis: 2\n",
      "\u001b[92mdone\u001b[0m\n",
      "Number of x intervals: 2\n",
      "Number of y intervals: 2\n",
      "Rescaling original dots Image\n",
      "\u001b[94mPerforming multichannel tiling...\u001b[0m\n",
      "x window size: 2000\n",
      "ywindow size: 2000\n",
      "number of tiles along x axis: 2\n",
      "number of tiles along y axis: 2\n",
      "\u001b[92mdone\u001b[0m\n",
      "Number of x intervals: 2\n",
      "Number of y intervals: 2\n",
      "Rescaling original dots Image\n",
      "\u001b[94mPerforming multichannel tiling...\u001b[0m\n",
      "x window size: 2000\n",
      "ywindow size: 2000\n",
      "number of tiles along x axis: 2\n",
      "number of tiles along y axis: 2\n",
      "\u001b[92mdone\u001b[0m\n",
      "Number of x intervals: 2\n",
      "Number of y intervals: 2\n",
      "Rescaling original dots Image\n",
      "\u001b[94mPerforming multichannel tiling...\u001b[0m\n",
      "x window size: 2000\n",
      "ywindow size: 2000\n",
      "number of tiles along x axis: 2\n",
      "number of tiles along y axis: 2\n",
      "\u001b[92mdone\u001b[0m\n",
      "Number of x intervals: 2\n",
      "Number of y intervals: 2\n",
      "Rescaling original dots Image\n",
      "\u001b[94mPerforming multichannel tiling...\u001b[0m\n",
      "x window size: 2000\n",
      "ywindow size: 2000\n",
      "number of tiles along x axis: 2\n",
      "number of tiles along y axis: 2\n",
      "\u001b[92mdone\u001b[0m\n",
      "Number of x intervals: 2\n",
      "Number of y intervals: 2\n"
     ]
    },
    {
     "data": {
      "application/vnd.jupyter.widget-view+json": {
       "model_id": "",
       "version_major": 2,
       "version_minor": 0
      },
      "text/plain": [
       "Mapping to the closest registered dot:   0%|          | 0/17509 [00:00<?, ?it/s]"
      ]
     },
     "metadata": {},
     "output_type": "display_data"
    },
    {
     "name": "stdout",
     "output_type": "stream",
     "text": [
      "IF : 12270 40150\n",
      "HE : 15000 41000\n"
     ]
    },
    {
     "data": {
      "application/vnd.jupyter.widget-view+json": {
       "model_id": "",
       "version_major": 2,
       "version_minor": 0
      },
      "text/plain": [
       "outer:   0%|          | 0/2 [00:00<?, ?it/s]"
      ]
     },
     "metadata": {},
     "output_type": "display_data"
    },
    {
     "data": {
      "application/vnd.jupyter.widget-view+json": {
       "model_id": "",
       "version_major": 2,
       "version_minor": 0
      },
      "text/plain": [
       "inner 0:   0%|          | 0/2 [00:00<?, ?it/s]"
      ]
     },
     "metadata": {},
     "output_type": "display_data"
    },
    {
     "data": {
      "application/vnd.jupyter.widget-view+json": {
       "model_id": "",
       "version_major": 2,
       "version_minor": 0
      },
      "text/plain": [
       "inner 1:   0%|          | 0/2 [00:00<?, ?it/s]"
      ]
     },
     "metadata": {},
     "output_type": "display_data"
    },
    {
     "name": "stdout",
     "output_type": "stream",
     "text": [
      "Done making patches!\n"
     ]
    },
    {
     "name": "stderr",
     "output_type": "stream",
     "text": [
      "Process Patches: 319it [01:34,  3.39it/s]                                       \n"
     ]
    },
    {
     "data": {
      "application/vnd.jupyter.widget-view+json": {
       "model_id": "",
       "version_major": 2,
       "version_minor": 0
      },
      "text/plain": [
       "outer:   0%|          | 0/2 [00:00<?, ?it/s]"
      ]
     },
     "metadata": {},
     "output_type": "display_data"
    },
    {
     "data": {
      "application/vnd.jupyter.widget-view+json": {
       "model_id": "",
       "version_major": 2,
       "version_minor": 0
      },
      "text/plain": [
       "innter 0:   0%|          | 0/2 [00:00<?, ?it/s]"
      ]
     },
     "metadata": {},
     "output_type": "display_data"
    },
    {
     "data": {
      "application/vnd.jupyter.widget-view+json": {
       "model_id": "",
       "version_major": 2,
       "version_minor": 0
      },
      "text/plain": [
       "innter 1:   0%|          | 0/2 [00:00<?, ?it/s]"
      ]
     },
     "metadata": {},
     "output_type": "display_data"
    },
    {
     "name": "stdout",
     "output_type": "stream",
     "text": [
      "\u001b[94mRegistering resized image\u001b[0m\n",
      "\u001b[92mdone\u001b[0m\n",
      "Rescaling original IF Image\n",
      "Rescaling original dots Image\n",
      "\u001b[94mPerforming multichannel tiling...\u001b[0m\n",
      "x window size: 2000\n",
      "ywindow size: 2000\n",
      "number of tiles along x axis: 2\n",
      "number of tiles along y axis: 2\n",
      "\u001b[92mdone\u001b[0m\n",
      "\u001b[94mPerforming multichannel tiling...\u001b[0m\n",
      "x window size: 2000\n",
      "ywindow size: 2000\n",
      "number of tiles along x axis: 2\n",
      "number of tiles along y axis: 2\n",
      "\u001b[92mdone\u001b[0m\n",
      "\u001b[94mPerforming multichannel tiling...\u001b[0m\n",
      "x window size: 2000\n",
      "ywindow size: 2000\n",
      "number of tiles along x axis: 2\n",
      "number of tiles along y axis: 2\n",
      "\u001b[92mdone\u001b[0m\n",
      "\u001b[94mperforming whole slide image registration...\u001b[0m\n",
      "registering frame 1/4\n",
      "registering frame 2/4\n",
      "registering frame 3/4\n",
      "registering frame 4/4\n",
      "\u001b[92mdone\u001b[0m\n",
      "Number of x intervals: 2\n",
      "Number of y intervals: 2\n",
      "Rescaling original dots Image\n",
      "\u001b[94mPerforming multichannel tiling...\u001b[0m\n",
      "x window size: 2000\n",
      "ywindow size: 2000\n",
      "number of tiles along x axis: 2\n",
      "number of tiles along y axis: 2\n",
      "\u001b[92mdone\u001b[0m\n",
      "Number of x intervals: 2\n",
      "Number of y intervals: 2\n",
      "Rescaling original dots Image\n",
      "\u001b[94mPerforming multichannel tiling...\u001b[0m\n",
      "x window size: 2000\n",
      "ywindow size: 2000\n",
      "number of tiles along x axis: 2\n",
      "number of tiles along y axis: 2\n",
      "\u001b[92mdone\u001b[0m\n",
      "Number of x intervals: 2\n",
      "Number of y intervals: 2\n",
      "Rescaling original dots Image\n",
      "\u001b[94mPerforming multichannel tiling...\u001b[0m\n",
      "x window size: 2000\n",
      "ywindow size: 2000\n",
      "number of tiles along x axis: 2\n",
      "number of tiles along y axis: 2\n",
      "\u001b[92mdone\u001b[0m\n",
      "Number of x intervals: 2\n",
      "Number of y intervals: 2\n",
      "Rescaling original dots Image\n",
      "\u001b[94mPerforming multichannel tiling...\u001b[0m\n",
      "x window size: 2000\n",
      "ywindow size: 2000\n",
      "number of tiles along x axis: 2\n",
      "number of tiles along y axis: 2\n",
      "\u001b[92mdone\u001b[0m\n",
      "Number of x intervals: 2\n",
      "Number of y intervals: 2\n",
      "Rescaling original dots Image\n",
      "\u001b[94mPerforming multichannel tiling...\u001b[0m\n",
      "x window size: 2000\n",
      "ywindow size: 2000\n",
      "number of tiles along x axis: 2\n",
      "number of tiles along y axis: 2\n",
      "\u001b[92mdone\u001b[0m\n",
      "Number of x intervals: 2\n",
      "Number of y intervals: 2\n"
     ]
    },
    {
     "data": {
      "application/vnd.jupyter.widget-view+json": {
       "model_id": "",
       "version_major": 2,
       "version_minor": 0
      },
      "text/plain": [
       "Mapping to the closest registered dot:   0%|          | 0/178 [00:00<?, ?it/s]"
      ]
     },
     "metadata": {},
     "output_type": "display_data"
    },
    {
     "name": "stdout",
     "output_type": "stream",
     "text": [
      "IF : 12270 44150\n",
      "HE : 15000 45000\n"
     ]
    },
    {
     "data": {
      "application/vnd.jupyter.widget-view+json": {
       "model_id": "",
       "version_major": 2,
       "version_minor": 0
      },
      "text/plain": [
       "outer:   0%|          | 0/2 [00:00<?, ?it/s]"
      ]
     },
     "metadata": {},
     "output_type": "display_data"
    },
    {
     "data": {
      "application/vnd.jupyter.widget-view+json": {
       "model_id": "",
       "version_major": 2,
       "version_minor": 0
      },
      "text/plain": [
       "inner 0:   0%|          | 0/2 [00:00<?, ?it/s]"
      ]
     },
     "metadata": {},
     "output_type": "display_data"
    },
    {
     "data": {
      "application/vnd.jupyter.widget-view+json": {
       "model_id": "",
       "version_major": 2,
       "version_minor": 0
      },
      "text/plain": [
       "inner 1:   0%|          | 0/2 [00:00<?, ?it/s]"
      ]
     },
     "metadata": {},
     "output_type": "display_data"
    },
    {
     "name": "stdout",
     "output_type": "stream",
     "text": [
      "Done making patches!\n"
     ]
    },
    {
     "name": "stderr",
     "output_type": "stream",
     "text": [
      "Process Patches: 319it [01:34,  3.38it/s]                                       \n"
     ]
    },
    {
     "data": {
      "application/vnd.jupyter.widget-view+json": {
       "model_id": "",
       "version_major": 2,
       "version_minor": 0
      },
      "text/plain": [
       "outer:   0%|          | 0/2 [00:00<?, ?it/s]"
      ]
     },
     "metadata": {},
     "output_type": "display_data"
    },
    {
     "data": {
      "application/vnd.jupyter.widget-view+json": {
       "model_id": "",
       "version_major": 2,
       "version_minor": 0
      },
      "text/plain": [
       "innter 0:   0%|          | 0/2 [00:00<?, ?it/s]"
      ]
     },
     "metadata": {},
     "output_type": "display_data"
    },
    {
     "data": {
      "application/vnd.jupyter.widget-view+json": {
       "model_id": "",
       "version_major": 2,
       "version_minor": 0
      },
      "text/plain": [
       "innter 1:   0%|          | 0/2 [00:00<?, ?it/s]"
      ]
     },
     "metadata": {},
     "output_type": "display_data"
    },
    {
     "name": "stdout",
     "output_type": "stream",
     "text": [
      "\u001b[94mRegistering resized image\u001b[0m\n",
      "\u001b[92mdone\u001b[0m\n",
      "Rescaling original IF Image\n",
      "Rescaling original dots Image\n",
      "\u001b[94mPerforming multichannel tiling...\u001b[0m\n",
      "x window size: 2000\n",
      "ywindow size: 2000\n",
      "number of tiles along x axis: 2\n",
      "number of tiles along y axis: 2\n",
      "\u001b[92mdone\u001b[0m\n",
      "\u001b[94mPerforming multichannel tiling...\u001b[0m\n",
      "x window size: 2000\n",
      "ywindow size: 2000\n",
      "number of tiles along x axis: 2\n",
      "number of tiles along y axis: 2\n",
      "\u001b[92mdone\u001b[0m\n",
      "\u001b[94mPerforming multichannel tiling...\u001b[0m\n",
      "x window size: 2000\n",
      "ywindow size: 2000\n",
      "number of tiles along x axis: 2\n",
      "number of tiles along y axis: 2\n",
      "\u001b[92mdone\u001b[0m\n",
      "\u001b[94mperforming whole slide image registration...\u001b[0m\n",
      "registering frame 1/4\n",
      "registering frame 2/4\n",
      "registering frame 3/4\n",
      "registering frame 4/4\n",
      "\u001b[92mdone\u001b[0m\n",
      "Number of x intervals: 2\n",
      "Number of y intervals: 2\n",
      "Rescaling original dots Image\n",
      "\u001b[94mPerforming multichannel tiling...\u001b[0m\n",
      "x window size: 2000\n",
      "ywindow size: 2000\n",
      "number of tiles along x axis: 2\n",
      "number of tiles along y axis: 2\n",
      "\u001b[92mdone\u001b[0m\n",
      "Number of x intervals: 2\n",
      "Number of y intervals: 2\n",
      "Rescaling original dots Image\n",
      "\u001b[94mPerforming multichannel tiling...\u001b[0m\n",
      "x window size: 2000\n",
      "ywindow size: 2000\n",
      "number of tiles along x axis: 2\n",
      "number of tiles along y axis: 2\n",
      "\u001b[92mdone\u001b[0m\n",
      "Number of x intervals: 2\n",
      "Number of y intervals: 2\n",
      "Rescaling original dots Image\n",
      "\u001b[94mPerforming multichannel tiling...\u001b[0m\n",
      "x window size: 2000\n",
      "ywindow size: 2000\n",
      "number of tiles along x axis: 2\n",
      "number of tiles along y axis: 2\n",
      "\u001b[92mdone\u001b[0m\n",
      "Number of x intervals: 2\n",
      "Number of y intervals: 2\n",
      "Rescaling original dots Image\n",
      "\u001b[94mPerforming multichannel tiling...\u001b[0m\n",
      "x window size: 2000\n",
      "ywindow size: 2000\n",
      "number of tiles along x axis: 2\n",
      "number of tiles along y axis: 2\n",
      "\u001b[92mdone\u001b[0m\n",
      "Number of x intervals: 2\n",
      "Number of y intervals: 2\n",
      "Rescaling original dots Image\n",
      "\u001b[94mPerforming multichannel tiling...\u001b[0m\n",
      "x window size: 2000\n",
      "ywindow size: 2000\n",
      "number of tiles along x axis: 2\n",
      "number of tiles along y axis: 2\n",
      "\u001b[92mdone\u001b[0m\n",
      "Number of x intervals: 2\n",
      "Number of y intervals: 2\n"
     ]
    },
    {
     "data": {
      "application/vnd.jupyter.widget-view+json": {
       "model_id": "",
       "version_major": 2,
       "version_minor": 0
      },
      "text/plain": [
       "Mapping to the closest registered dot: 0it [00:00, ?it/s]"
      ]
     },
     "metadata": {},
     "output_type": "display_data"
    },
    {
     "name": "stdout",
     "output_type": "stream",
     "text": [
      "IF : 12270 48150\n",
      "HE : 15000 49000\n"
     ]
    },
    {
     "data": {
      "application/vnd.jupyter.widget-view+json": {
       "model_id": "",
       "version_major": 2,
       "version_minor": 0
      },
      "text/plain": [
       "outer:   0%|          | 0/2 [00:00<?, ?it/s]"
      ]
     },
     "metadata": {},
     "output_type": "display_data"
    },
    {
     "data": {
      "application/vnd.jupyter.widget-view+json": {
       "model_id": "",
       "version_major": 2,
       "version_minor": 0
      },
      "text/plain": [
       "inner 0:   0%|          | 0/2 [00:00<?, ?it/s]"
      ]
     },
     "metadata": {},
     "output_type": "display_data"
    },
    {
     "data": {
      "application/vnd.jupyter.widget-view+json": {
       "model_id": "",
       "version_major": 2,
       "version_minor": 0
      },
      "text/plain": [
       "inner 1:   0%|          | 0/2 [00:00<?, ?it/s]"
      ]
     },
     "metadata": {},
     "output_type": "display_data"
    },
    {
     "name": "stdout",
     "output_type": "stream",
     "text": [
      "Done making patches!\n"
     ]
    },
    {
     "name": "stderr",
     "output_type": "stream",
     "text": [
      "Process Patches: 319it [01:34,  3.37it/s]                                       \n"
     ]
    },
    {
     "data": {
      "application/vnd.jupyter.widget-view+json": {
       "model_id": "",
       "version_major": 2,
       "version_minor": 0
      },
      "text/plain": [
       "outer:   0%|          | 0/2 [00:00<?, ?it/s]"
      ]
     },
     "metadata": {},
     "output_type": "display_data"
    },
    {
     "data": {
      "application/vnd.jupyter.widget-view+json": {
       "model_id": "",
       "version_major": 2,
       "version_minor": 0
      },
      "text/plain": [
       "innter 0:   0%|          | 0/2 [00:00<?, ?it/s]"
      ]
     },
     "metadata": {},
     "output_type": "display_data"
    },
    {
     "data": {
      "application/vnd.jupyter.widget-view+json": {
       "model_id": "",
       "version_major": 2,
       "version_minor": 0
      },
      "text/plain": [
       "innter 1:   0%|          | 0/2 [00:00<?, ?it/s]"
      ]
     },
     "metadata": {},
     "output_type": "display_data"
    },
    {
     "name": "stdout",
     "output_type": "stream",
     "text": [
      "\u001b[94mRegistering resized image\u001b[0m\n",
      "\u001b[92mdone\u001b[0m\n",
      "Rescaling original IF Image\n",
      "Rescaling original dots Image\n",
      "\u001b[94mPerforming multichannel tiling...\u001b[0m\n",
      "x window size: 2000\n",
      "ywindow size: 2000\n",
      "number of tiles along x axis: 2\n",
      "number of tiles along y axis: 2\n",
      "\u001b[92mdone\u001b[0m\n",
      "\u001b[94mPerforming multichannel tiling...\u001b[0m\n",
      "x window size: 2000\n",
      "ywindow size: 2000\n",
      "number of tiles along x axis: 2\n",
      "number of tiles along y axis: 2\n",
      "\u001b[92mdone\u001b[0m\n",
      "\u001b[94mPerforming multichannel tiling...\u001b[0m\n",
      "x window size: 2000\n",
      "ywindow size: 2000\n",
      "number of tiles along x axis: 2\n",
      "number of tiles along y axis: 2\n",
      "\u001b[92mdone\u001b[0m\n",
      "\u001b[94mperforming whole slide image registration...\u001b[0m\n",
      "registering frame 1/4\n",
      "registering frame 2/4\n",
      "registering frame 3/4\n",
      "registering frame 4/4\n",
      "\u001b[92mdone\u001b[0m\n",
      "Number of x intervals: 2\n",
      "Number of y intervals: 2\n",
      "Rescaling original dots Image\n",
      "\u001b[94mPerforming multichannel tiling...\u001b[0m\n",
      "x window size: 2000\n",
      "ywindow size: 2000\n",
      "number of tiles along x axis: 2\n",
      "number of tiles along y axis: 2\n",
      "\u001b[92mdone\u001b[0m\n",
      "Number of x intervals: 2\n",
      "Number of y intervals: 2\n"
     ]
    }
   ],
   "source": [
    "# Choose ROI size (Better to take a square)\n",
    "size=(4000,4000)\n",
    "\n",
    "\n",
    "# Manually select the corresponding origin of both image\n",
    "for i in tqdm(range(2,int(55840/size[0]) - 2),desc = \"outer\"): \n",
    "    IF_origin = (270 + (i*size[0]), 150 )\n",
    "    HE_origin = (3000 + (i*size[0]), 1000 )\n",
    "    for j in tqdm(range(2,int(93600/size[1]) - 2),desc = \"inner\"):\n",
    "        IF_origin = (IF_origin[0], 150 + (j*size[1]))\n",
    "        HE_origin = (HE_origin[0], 1000 + (j*size[1]))\n",
    "        # Load images using OpenSlide\n",
    "        IF_open = openslide.OpenSlide(IF_path)\n",
    "        HE_open = openslide.OpenSlide(HE_path)\n",
    "        \n",
    "        # Creates an empty image of the size of the original IF image\n",
    "        dots = sitk.Image(dimensions[0], dimensions[1], sitk.sitkUInt8)\n",
    "\n",
    "        phenotype = 'CD3p'\n",
    "\n",
    "        for x,y in zip(cells_locations[cells_locations['Phenotype']==phenotype].cell_xpixel_position.values, cells_locations[cells_locations['Phenotype']==phenotype].cell_ypixel_position.values):\n",
    "\n",
    "\n",
    "            # Draws points at cell locations of the empty image for a specific phenotype\n",
    "            draw_point(dots, x=int(x), y=int(y), size=3)\n",
    "\n",
    "        # Choose ROI size (Better to take a square)\n",
    "        # Manually select the corresponding origin of both image\n",
    "\n",
    "        print(f'IF : {IF_origin[0]} {IF_origin[1]}')\n",
    "        print(f'HE : {HE_origin[0]} {HE_origin[1]}')\n",
    "\n",
    "        # +\n",
    "        patch_size = 2000\n",
    "        outdir = \"./tiles\"\n",
    "        fnamebase = \"Melanoma\"\n",
    "        rm_n_mkdir(f\"{outdir}\")\n",
    "\n",
    "        osh  = openslide.OpenSlide(HE_path)\n",
    "        nrow = (int) (size[0] / patch_size)\n",
    "        ncol = (int) (size[1]/ patch_size)\n",
    "\n",
    "        for y in tqdm(range(0,ncol), desc=\"outer\" , leave=False):\n",
    "            for x in tqdm(range(0,nrow), desc=f\"inner {y}\", leave=False):\n",
    "\n",
    "\n",
    "                patch  = np.asarray(osh.read_region((HE_origin[0]+ patch_size * x, HE_origin[1] + patch_size * y), 0, (patch_size,patch_size)))[:,:,0:3] #trim alpha\n",
    "\n",
    "\n",
    "                patch=cv2.cvtColor(patch,cv2.COLOR_RGB2BGR)\n",
    "                cv2.imwrite(f\"{outdir}/{fnamebase}_{HE_origin[0]}_{HE_origin[1]}_{x}_{y}.png\", patch)\n",
    "\n",
    "        osh.close()\n",
    "\n",
    "\n",
    "        print(f\"Done making patches!\")\n",
    "\n",
    "\n",
    "        infer = InferManager(**method_args)\n",
    "        infer.process_file_list(run_args)\n",
    "\n",
    "        fnamebase = \"Melanoma\"\n",
    "        nrow = (int) (size[0] / patch_size)\n",
    "        ncol = (int) (size[1]/ patch_size)\n",
    "\n",
    "        HE_cells_locations = pd.DataFrame(columns=['point'])\n",
    "        for y in tqdm(range(0,ncol), desc=\"outer\" , leave=False):\n",
    "            for x in tqdm(range(0,nrow), desc=f\"innter {y}\", leave=False):\n",
    "                f = open(f\"./hovernet_output/json/{fnamebase}_{HE_origin[0]}_{HE_origin[1]}_{x}_{y}.json\",)\n",
    "\n",
    "                data = json.load(f)\n",
    "                # print(data)\n",
    "                for index in data['nuc']:\n",
    "                    HE_cells_locations = HE_cells_locations.append({'point': (data['nuc'][index]['centroid'][0]+ patch_size * x,data['nuc'][index]['centroid'][1]+ patch_size * y)}, ignore_index=True)\n",
    "                f.close()\n",
    "\n",
    "        IF_open = np.asarray(IF_open.read_region(IF_origin, 0, size))[:,:,0]\n",
    "        HE_open = np.asarray(HE_open.read_region(HE_origin, 0, size))[:,:,0]\n",
    "\n",
    "        # Crops the dots image exactly like the IF image\n",
    "\n",
    "        dots = dots[IF_origin[0]:IF_origin[0]+size[0],IF_origin[1]:IF_origin[1]+size[1]]\n",
    "        dots.SetOrigin((0,0))\n",
    "\n",
    "        # Converts the image to ITK format\n",
    "\n",
    "        IF_open = sitk.GetImageFromArray(IF_open)\n",
    "        HE_open = sitk.GetImageFromArray(HE_open)\n",
    "\n",
    "        try: \n",
    "            # Downscale the images\n",
    "            HE_resize_ITK, IF_resize_ITK, x_scaling_factor_IF, y_scaling_factor_IF  = downscale_pair_image(sitk.GetArrayFromImage(HE_open),sitk.GetArrayFromImage(IF_open))\n",
    "\n",
    "            # initialize the registration\n",
    "            elastixImageFilter = sitk.ElastixImageFilter()\n",
    "\n",
    "            # sets the fixed image\n",
    "            elastixImageFilter.SetFixedImage(sitk.Normalize(HE_resize_ITK))\n",
    "\n",
    "            # set the moving image\n",
    "            elastixImageFilter.SetMovingImage(sitk.Normalize(IF_resize_ITK))\n",
    "\n",
    "            parameterMapVector = sitk.VectorOfParameterMap()\n",
    "\n",
    "            # add translation and affine transforms to the paramter map\n",
    "            parameterMapVector.append(sitk.GetDefaultParameterMap(\"translation\"))\n",
    "            parameterMapVector.append(sitk.GetDefaultParameterMap(\"affine\")) # --> rigid to try \n",
    "\n",
    "            elastixImageFilter.SetParameterMap(parameterMapVector)\n",
    "\n",
    "            print(bcolors.OKBLUE + \"Registering resized image\" + bcolors.ENDC)\n",
    "            elastixImageFilter.Execute()\n",
    "            print(bcolors.OKGREEN + \"done\" + bcolors.ENDC)\n",
    "\n",
    "            print(\"Rescaling original IF Image\")\n",
    "\n",
    "            # gets the downscaled parameter map that needs to be rescaled\n",
    "            parameterMap = elastixImageFilter.GetTransformParameterMap()\n",
    "\n",
    "            # gets translation parameters\n",
    "            transform_parameters_translation = parameterMap[0][\"TransformParameters\"]\n",
    "            size_parameters = parameterMap[0][\"Size\"]\n",
    "\n",
    "            # gets affine parameters (affine)\n",
    "            transform_parameters_rotation = parameterMap[1][\"CenterOfRotationPoint\"]\n",
    "\n",
    "            # rescaling the parameters\n",
    "            rescaled_parameters_translation = (str(float(transform_parameters_translation[0])*y_scaling_factor_IF), str(float(transform_parameters_translation[1])*x_scaling_factor_IF))\n",
    "            rescaled_size = (str(int(float(size_parameters[0])*y_scaling_factor_IF)), str((int(float(size_parameters[1])*x_scaling_factor_IF))))\n",
    "\n",
    "            rescaled_parameters_rotation = (str(float(transform_parameters_rotation[0])*y_scaling_factor_IF), str(float(transform_parameters_rotation[1])*x_scaling_factor_IF))\n",
    "\n",
    "            # sets the new parameters\n",
    "            parameterMap[0][\"TransformParameters\"] = rescaled_parameters_translation\n",
    "            parameterMap[0][\"Size\"] = rescaled_size\n",
    "\n",
    "            parameterMap[1][\"CenterOfRotationPoint\"] = rescaled_parameters_rotation\n",
    "            parameterMap[1][\"Size\"] = rescaled_size\n",
    "\n",
    "            transformix = sitk.TransformixImageFilter()\n",
    "\n",
    "            # sets the new rescaled parameters \n",
    "            transformix.SetTransformParameterMap(parameterMap)\n",
    "\n",
    "            # transforming the original IF image (pre-registration)\n",
    "            transformix.SetMovingImage(IF_open)\n",
    "            transformix.Execute()\n",
    "\n",
    "            IF_open = transformix.GetResultImage()\n",
    "\n",
    "            # Applying the same pre-registration to the dots\n",
    "\n",
    "            print(\"Rescaling original dots Image\")\n",
    "\n",
    "            transformix.SetMovingImage(dots)\n",
    "            transformix.Execute()\n",
    "\n",
    "            dots = transformix.GetResultImage()\n",
    "\n",
    "            tile_size_x = 2000\n",
    "            tile_size_y = 2000\n",
    "\n",
    "            # creating pairs of 2000 x 2000 pixel tiles\n",
    "\n",
    "            IF_open = tiling(IF_open, tile_size_x, tile_size_y)\n",
    "            #tiling(HE_open, tile_size_x, tile_size_y,True)\n",
    "            HE_open = tiling(sitk.Cast(HE_open,sitk.sitkFloat32), tile_size_x, tile_size_y)\n",
    "\n",
    "\n",
    "            # tiling the dot image the same way\n",
    "            dots = tiling(dots, tile_size_x, tile_size_y)\n",
    "\n",
    "            # Set regis to True if you want the registered images. \n",
    "            param = translate_arrays(HE_open, IF_open, method = ['rigid', 'affine', 'bspline'], weight = 500, regis = False, num_iter=500, number_resolution = 5)\n",
    "\n",
    "            # transform the dots positions with the saved parameters\n",
    "            dots_registered = transform_array(dots, param)\n",
    "\n",
    "            # reconstruct the image\n",
    "            dots_registered = reconstruct_image(size=size, frames=dots_registered)\n",
    "\n",
    "            # Get array format to apply image processing techniques\n",
    "            dots_registered = sitk.GetArrayFromImage(sitk.Cast(sitk.GetImageFromArray(dots_registered),sitk.sitkUInt8))\n",
    "\n",
    "            # sets a morphological shape (disk of radius 4)\n",
    "            selem = morphology.disk(4)\n",
    "            res=filters.median(dots_registered,selem)\n",
    "\n",
    "            # sets a morphological shape (disk of radius 2)\n",
    "            selem = morphology.disk(2)\n",
    "            res=morphology.dilation(res, selem)\n",
    "\n",
    "            # sets a morphological shape (disk of radius 2)\n",
    "            selem = morphology.disk(2)\n",
    "            res=morphology.opening(res, selem)\n",
    "\n",
    "            # Creates an empty pandas dataframe\n",
    "            dots_cells_locations = pd.DataFrame(columns=['point', 'type'])\n",
    "            dots_cells_locations.head()\n",
    "\n",
    "            # Binaries the image\n",
    "            ret, thresh = cv2.threshold(res,5,255,0)\n",
    "\n",
    "            # Gets the contours (shapes)\n",
    "            contours, hierarchy = cv2.findContours(thresh, cv2.RETR_TREE, cv2.CHAIN_APPROX_SIMPLE)\n",
    "\n",
    "            # Extract positions\n",
    "            for index, c in enumerate(contours): \n",
    "                M = cv2.moments(c)\n",
    "\n",
    "                x = int(M[\"m10\"]/M[\"m00\"]) + 0\n",
    "                y = int(M[\"m01\"]/M[\"m00\"]) + 0\n",
    "\n",
    "                dots_cells_locations = dots_cells_locations.append({'point': (float(x),float(y)), 'type':phenotype}, ignore_index=True)\n",
    "\n",
    "            del dots, res, thresh\n",
    "\n",
    "            # Creates an empty image of the size of the original IF image\n",
    "            phenotypes = ['SOX10p', 'CD56p', 'CD11Cp', 'CD68p', 'CD20p']\n",
    "            for phenotype in phenotypes :\n",
    "                dots = sitk.Image(dimensions[0], dimensions[1], sitk.sitkUInt8)\n",
    "\n",
    "\n",
    "                for x,y in zip(cells_locations[cells_locations['Phenotype']==phenotype].cell_xpixel_position.values, cells_locations[cells_locations['Phenotype']==phenotype].cell_ypixel_position.values):\n",
    "\n",
    "\n",
    "                    # Draws points at cell locations of the empty image for a specific phenotype\n",
    "\n",
    "                    draw_point(dots, x=int(x), y=int(y), size=3)\n",
    "\n",
    "                # Crops the dots image exactly like the IF image\n",
    "\n",
    "                dots = dots[IF_origin[0]:IF_origin[0]+size[0],IF_origin[1]:IF_origin[1]+size[1]]\n",
    "                dots.SetOrigin((0,0))\n",
    "\n",
    "\n",
    "                # Applying the same pre-registration to the dots\n",
    "\n",
    "                print(\"Rescaling original dots Image\")\n",
    "\n",
    "                transformix.SetMovingImage(dots)\n",
    "                transformix.Execute()\n",
    "\n",
    "                dots = transformix.GetResultImage()\n",
    "\n",
    "                # tiling the dot image the same way\n",
    "                dots = tiling(dots, tile_size_x, tile_size_y)\n",
    "\n",
    "                # transform the dots positions with the saved parameters\n",
    "                dots_registered = transform_array(dots, param)\n",
    "\n",
    "                # reconstruct back the image\n",
    "                dots_registered = reconstruct_image(size=size, frames=dots_registered)\n",
    "\n",
    "                # Get array format to apply image processing techniques\n",
    "                dots_registered = sitk.GetArrayFromImage(sitk.Cast(sitk.GetImageFromArray(dots_registered),sitk.sitkUInt8))\n",
    "\n",
    "                # sets a morphological shape (disk of radius 4)\n",
    "                selem = morphology.disk(4)\n",
    "                res=filters.median(dots_registered,selem)\n",
    "\n",
    "                # sets a morphological shape (disk of radius 2)\n",
    "                selem = morphology.disk(2)\n",
    "                res=morphology.dilation(res, selem)\n",
    "\n",
    "                # sets a morphological shape (disk of radius 2)\n",
    "                selem = morphology.disk(2)\n",
    "                res=morphology.opening(res, selem)\n",
    "\n",
    "                # Binaries the image\n",
    "                ret, thresh = cv2.threshold(res,5,255,0)\n",
    "\n",
    "                # Gets the contours (shapes)\n",
    "                contours, hierarchy = cv2.findContours(thresh, cv2.RETR_TREE, cv2.CHAIN_APPROX_SIMPLE)\n",
    "\n",
    "                # Extract positions\n",
    "                for index, c in enumerate(contours): \n",
    "                    M = cv2.moments(c)\n",
    "\n",
    "                    x = int(M[\"m10\"]/M[\"m00\"]) + 0\n",
    "                    y = int(M[\"m01\"]/M[\"m00\"]) + 0\n",
    "\n",
    "                    dots_cells_locations = dots_cells_locations.append({'point':(float(x),float(y)), 'type':phenotype}, ignore_index=True)\n",
    "\n",
    "                del dots, res, thresh\n",
    "\n",
    "            HE_cells_locations['closest'] = [closest_point(x, list(dots_cells_locations['point'])) for x in tqdm(HE_cells_locations['point'],desc=\"Mapping to the closest registered dot\",leave= False)]\n",
    "            HE_cells_locations['type'] = [match_value(dots_cells_locations, 'point', x, 'type') for x in HE_cells_locations['closest']]\n",
    "\n",
    "            Final_Registration_Output = pd.DataFrame(columns=['x_coordinate','y_coordinate','type'])\n",
    "            for i, HE_row in HE_cells_locations.iterrows():\n",
    "                if distance(HE_row['point'][0], HE_row['point'][1], HE_row['closest'][0], HE_row['closest'][1]) < 20.0 :\n",
    "                    Final_Registration_Output = Final_Registration_Output.append({'x_coordinate': HE_row['point'][0],'y_coordinate': HE_row['point'][1],'type':HE_row['type']}, ignore_index=True)\n",
    "\n",
    "            Final_Registration_Output.to_csv(f'./locations/3_MEL3_HE_cells_locations_withoffset_1_{size[0]}pix_{HE_origin[0]}_{HE_origin[1]}.txt', header=None, index = None, sep='\\t', mode='a')\n",
    "            Final_Registration_Output['x_coordinate'] = Final_Registration_Output['x_coordinate'] + HE_origin[0]\n",
    "            Final_Registration_Output['y_coordinate'] = Final_Registration_Output['y_coordinate'] + HE_origin[1] \n",
    "            Final_Registration_Output.to_csv(f'./locations/3_MEL3_HE_cells_locations_NoOffset_1_{size[0]}pix_{HE_origin[0]}_{HE_origin[1]}.txt', header=None, index = None, sep='\\t', mode='a')\n",
    "        except:\n",
    "            print(f'Failed Registration on HE:{HE_origin[0]},{HE_origin[1]}')\n",
    "            pass"
   ]
  }
 ],
 "metadata": {
  "interpreter": {
   "hash": "5a79a35640cf8063e370941b80f23c35acbd868398139e4a414defc144cc6ddd"
  },
  "kernelspec": {
   "display_name": "mIF2HE",
   "language": "python",
   "name": "mif2he"
  },
  "language_info": {
   "codemirror_mode": {
    "name": "ipython",
    "version": 3
   },
   "file_extension": ".py",
   "mimetype": "text/x-python",
   "name": "python",
   "nbconvert_exporter": "python",
   "pygments_lexer": "ipython3",
   "version": "3.6.9"
  }
 },
 "nbformat": 4,
 "nbformat_minor": 4
}
